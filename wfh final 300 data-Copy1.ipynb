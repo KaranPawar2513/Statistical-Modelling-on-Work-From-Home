{
 "cells": [
  {
   "cell_type": "markdown",
   "id": "2d40bbf4",
   "metadata": {},
   "source": [
    "# project code"
   ]
  },
  {
   "cell_type": "code",
   "execution_count": 36,
   "id": "04856fe8",
   "metadata": {},
   "outputs": [],
   "source": [
    "import pandas as pd\n",
    "import numpy as np\n",
    "import plotly.express as px\n",
    "import seaborn as sb\n",
    "import matplotlib.pyplot as plt\n",
    "import warnings\n",
    "warnings.filterwarnings('ignore')\n",
    "%matplotlib inline\n",
    "from sklearn.metrics import ConfusionMatrixDisplay\n"
   ]
  },
  {
   "cell_type": "code",
   "execution_count": 37,
   "id": "ef5724c3",
   "metadata": {},
   "outputs": [
    {
     "data": {
      "text/html": [
       "<div>\n",
       "<style scoped>\n",
       "    .dataframe tbody tr th:only-of-type {\n",
       "        vertical-align: middle;\n",
       "    }\n",
       "\n",
       "    .dataframe tbody tr th {\n",
       "        vertical-align: top;\n",
       "    }\n",
       "\n",
       "    .dataframe thead th {\n",
       "        text-align: right;\n",
       "    }\n",
       "</style>\n",
       "<table border=\"1\" class=\"dataframe\">\n",
       "  <thead>\n",
       "    <tr style=\"text-align: right;\">\n",
       "      <th></th>\n",
       "      <th>Gender</th>\n",
       "      <th>Age</th>\n",
       "      <th>C</th>\n",
       "      <th>D</th>\n",
       "      <th>E</th>\n",
       "      <th>F</th>\n",
       "      <th>H</th>\n",
       "      <th>I</th>\n",
       "      <th>J</th>\n",
       "      <th>K</th>\n",
       "      <th>L</th>\n",
       "      <th>M</th>\n",
       "      <th>N</th>\n",
       "      <th>O</th>\n",
       "    </tr>\n",
       "  </thead>\n",
       "  <tbody>\n",
       "    <tr>\n",
       "      <th>0</th>\n",
       "      <td>Female</td>\n",
       "      <td>18-25</td>\n",
       "      <td>Yes</td>\n",
       "      <td>75% - 100%</td>\n",
       "      <td>More Efficient</td>\n",
       "      <td>Neck, Shoulders;Knees</td>\n",
       "      <td>Below 7 hours</td>\n",
       "      <td>Better</td>\n",
       "      <td>Every 10-30 min</td>\n",
       "      <td>Yes</td>\n",
       "      <td>No Change</td>\n",
       "      <td>Relaxed</td>\n",
       "      <td>Beneficial</td>\n",
       "      <td>Yes</td>\n",
       "    </tr>\n",
       "    <tr>\n",
       "      <th>1</th>\n",
       "      <td>Female</td>\n",
       "      <td>18-25</td>\n",
       "      <td>Yes</td>\n",
       "      <td>25% - 50%</td>\n",
       "      <td>Efficient</td>\n",
       "      <td>Ankles/Feet</td>\n",
       "      <td>7-8 hours</td>\n",
       "      <td>Better</td>\n",
       "      <td>More than 10 min</td>\n",
       "      <td>Yes</td>\n",
       "      <td>More Time</td>\n",
       "      <td>More Stressful</td>\n",
       "      <td>More Beneficial</td>\n",
       "      <td>Yes</td>\n",
       "    </tr>\n",
       "    <tr>\n",
       "      <th>2</th>\n",
       "      <td>Male</td>\n",
       "      <td>25-50</td>\n",
       "      <td>Yes</td>\n",
       "      <td>75% - 100%</td>\n",
       "      <td>More Efficient</td>\n",
       "      <td>Upper Back, Lower Back</td>\n",
       "      <td>7-8 hours</td>\n",
       "      <td>Much Better</td>\n",
       "      <td>I Never Change</td>\n",
       "      <td>Yes</td>\n",
       "      <td>Much More Time</td>\n",
       "      <td>More Stressful</td>\n",
       "      <td>More Beneficial</td>\n",
       "      <td>Yes</td>\n",
       "    </tr>\n",
       "    <tr>\n",
       "      <th>3</th>\n",
       "      <td>Male</td>\n",
       "      <td>18-25</td>\n",
       "      <td>Yes</td>\n",
       "      <td>75% - 100%</td>\n",
       "      <td>Efficient</td>\n",
       "      <td>Neck, Shoulders;Upper Back, Lower Back</td>\n",
       "      <td>Above 8 hours</td>\n",
       "      <td>Better</td>\n",
       "      <td>Every 1-3 hours</td>\n",
       "      <td>Yes</td>\n",
       "      <td>More Time</td>\n",
       "      <td>Stressful</td>\n",
       "      <td>Beneficial</td>\n",
       "      <td>Yes</td>\n",
       "    </tr>\n",
       "    <tr>\n",
       "      <th>4</th>\n",
       "      <td>Female</td>\n",
       "      <td>25-50</td>\n",
       "      <td>Yes</td>\n",
       "      <td>75% - 100%</td>\n",
       "      <td>Efficient</td>\n",
       "      <td>Ankles/Feet</td>\n",
       "      <td>7-8 hours</td>\n",
       "      <td>Better</td>\n",
       "      <td>Every 10-30 min</td>\n",
       "      <td>Yes</td>\n",
       "      <td>More Time</td>\n",
       "      <td>Relaxed</td>\n",
       "      <td>Same</td>\n",
       "      <td>Yes</td>\n",
       "    </tr>\n",
       "    <tr>\n",
       "      <th>...</th>\n",
       "      <td>...</td>\n",
       "      <td>...</td>\n",
       "      <td>...</td>\n",
       "      <td>...</td>\n",
       "      <td>...</td>\n",
       "      <td>...</td>\n",
       "      <td>...</td>\n",
       "      <td>...</td>\n",
       "      <td>...</td>\n",
       "      <td>...</td>\n",
       "      <td>...</td>\n",
       "      <td>...</td>\n",
       "      <td>...</td>\n",
       "      <td>...</td>\n",
       "    </tr>\n",
       "    <tr>\n",
       "      <th>295</th>\n",
       "      <td>Female</td>\n",
       "      <td>18-25</td>\n",
       "      <td>Yes</td>\n",
       "      <td>75% - 100%</td>\n",
       "      <td>Efficient</td>\n",
       "      <td>Knees</td>\n",
       "      <td>7-8 hours</td>\n",
       "      <td>Better</td>\n",
       "      <td>More than 10 min</td>\n",
       "      <td>Yes</td>\n",
       "      <td>Less Time</td>\n",
       "      <td>Relaxed</td>\n",
       "      <td>Beneficial</td>\n",
       "      <td>Yes</td>\n",
       "    </tr>\n",
       "    <tr>\n",
       "      <th>296</th>\n",
       "      <td>Male</td>\n",
       "      <td>18-25</td>\n",
       "      <td>No</td>\n",
       "      <td>25% - 50%</td>\n",
       "      <td>Inefficient</td>\n",
       "      <td>Neck, Shoulders</td>\n",
       "      <td>Above 8 hours</td>\n",
       "      <td>Worse</td>\n",
       "      <td>Every 10-30 min</td>\n",
       "      <td>Yes</td>\n",
       "      <td>No Change</td>\n",
       "      <td>More Stressful</td>\n",
       "      <td>Less Beneficial</td>\n",
       "      <td>No</td>\n",
       "    </tr>\n",
       "    <tr>\n",
       "      <th>297</th>\n",
       "      <td>Female</td>\n",
       "      <td>18-25</td>\n",
       "      <td>Yes</td>\n",
       "      <td>50% - 75%</td>\n",
       "      <td>Efficient</td>\n",
       "      <td>Elbows, Wrist/Hands;Knees</td>\n",
       "      <td>Above 8 hours</td>\n",
       "      <td>Better</td>\n",
       "      <td>Every 10-30 min</td>\n",
       "      <td>Yes</td>\n",
       "      <td>More Time</td>\n",
       "      <td>Relaxed</td>\n",
       "      <td>Same</td>\n",
       "      <td>Yes</td>\n",
       "    </tr>\n",
       "    <tr>\n",
       "      <th>298</th>\n",
       "      <td>Female</td>\n",
       "      <td>25-50</td>\n",
       "      <td>Yes</td>\n",
       "      <td>50% - 75%</td>\n",
       "      <td>Same</td>\n",
       "      <td>Neck, Shoulders</td>\n",
       "      <td>Above 8 hours</td>\n",
       "      <td>Same</td>\n",
       "      <td>Every 10-30 min</td>\n",
       "      <td>Yes</td>\n",
       "      <td>More Time</td>\n",
       "      <td>Relaxed</td>\n",
       "      <td>Beneficial</td>\n",
       "      <td>Yes</td>\n",
       "    </tr>\n",
       "    <tr>\n",
       "      <th>299</th>\n",
       "      <td>Female</td>\n",
       "      <td>Above 50</td>\n",
       "      <td>No</td>\n",
       "      <td>25% - 50%</td>\n",
       "      <td>More Efficient</td>\n",
       "      <td>Neck, Shoulders;Knees</td>\n",
       "      <td>Above 8 hours</td>\n",
       "      <td>Better</td>\n",
       "      <td>Every 10-30 min</td>\n",
       "      <td>Yes</td>\n",
       "      <td>Less Time</td>\n",
       "      <td>Relaxed</td>\n",
       "      <td>Beneficial</td>\n",
       "      <td>No</td>\n",
       "    </tr>\n",
       "  </tbody>\n",
       "</table>\n",
       "<p>300 rows × 14 columns</p>\n",
       "</div>"
      ],
      "text/plain": [
       "     Gender       Age    C           D               E  \\\n",
       "0    Female     18-25  Yes  75% - 100%  More Efficient   \n",
       "1    Female     18-25  Yes   25% - 50%       Efficient   \n",
       "2      Male     25-50  Yes  75% - 100%  More Efficient   \n",
       "3      Male     18-25  Yes  75% - 100%       Efficient   \n",
       "4    Female     25-50  Yes  75% - 100%       Efficient   \n",
       "..      ...       ...  ...         ...             ...   \n",
       "295  Female     18-25  Yes  75% - 100%       Efficient   \n",
       "296    Male     18-25   No   25% - 50%     Inefficient   \n",
       "297  Female     18-25  Yes   50% - 75%       Efficient   \n",
       "298  Female     25-50  Yes   50% - 75%            Same   \n",
       "299  Female  Above 50   No   25% - 50%  More Efficient   \n",
       "\n",
       "                                          F              H            I  \\\n",
       "0                     Neck, Shoulders;Knees  Below 7 hours       Better   \n",
       "1                               Ankles/Feet      7-8 hours       Better   \n",
       "2                    Upper Back, Lower Back      7-8 hours  Much Better   \n",
       "3    Neck, Shoulders;Upper Back, Lower Back  Above 8 hours       Better   \n",
       "4                               Ankles/Feet      7-8 hours       Better   \n",
       "..                                      ...            ...          ...   \n",
       "295                                   Knees      7-8 hours       Better   \n",
       "296                         Neck, Shoulders  Above 8 hours        Worse   \n",
       "297               Elbows, Wrist/Hands;Knees  Above 8 hours       Better   \n",
       "298                         Neck, Shoulders  Above 8 hours         Same   \n",
       "299                   Neck, Shoulders;Knees  Above 8 hours       Better   \n",
       "\n",
       "                    J    K               L               M                N  \\\n",
       "0     Every 10-30 min  Yes       No Change         Relaxed       Beneficial   \n",
       "1    More than 10 min  Yes       More Time  More Stressful  More Beneficial   \n",
       "2      I Never Change  Yes  Much More Time  More Stressful  More Beneficial   \n",
       "3     Every 1-3 hours  Yes       More Time       Stressful       Beneficial   \n",
       "4     Every 10-30 min  Yes       More Time         Relaxed             Same   \n",
       "..                ...  ...             ...             ...              ...   \n",
       "295  More than 10 min  Yes       Less Time         Relaxed       Beneficial   \n",
       "296   Every 10-30 min  Yes       No Change  More Stressful  Less Beneficial   \n",
       "297   Every 10-30 min  Yes       More Time         Relaxed             Same   \n",
       "298   Every 10-30 min  Yes       More Time         Relaxed       Beneficial   \n",
       "299   Every 10-30 min  Yes       Less Time         Relaxed       Beneficial   \n",
       "\n",
       "       O  \n",
       "0    Yes  \n",
       "1    Yes  \n",
       "2    Yes  \n",
       "3    Yes  \n",
       "4    Yes  \n",
       "..   ...  \n",
       "295  Yes  \n",
       "296   No  \n",
       "297  Yes  \n",
       "298  Yes  \n",
       "299   No  \n",
       "\n",
       "[300 rows x 14 columns]"
      ]
     },
     "execution_count": 37,
     "metadata": {},
     "output_type": "execute_result"
    }
   ],
   "source": [
    "wfh=pd.read_excel(\"C:\\\\Users\\\\karan\\\\Downloads\\\\data1 300 test.xlsx\");wfh\n"
   ]
  },
  {
   "cell_type": "code",
   "execution_count": 38,
   "id": "4ff66cb2",
   "metadata": {},
   "outputs": [
    {
     "data": {
      "text/plain": [
       "(300, 14)"
      ]
     },
     "execution_count": 38,
     "metadata": {},
     "output_type": "execute_result"
    }
   ],
   "source": [
    "wfh.shape"
   ]
  },
  {
   "cell_type": "code",
   "execution_count": 39,
   "id": "f32b7959",
   "metadata": {},
   "outputs": [
    {
     "data": {
      "text/html": [
       "<div>\n",
       "<style scoped>\n",
       "    .dataframe tbody tr th:only-of-type {\n",
       "        vertical-align: middle;\n",
       "    }\n",
       "\n",
       "    .dataframe tbody tr th {\n",
       "        vertical-align: top;\n",
       "    }\n",
       "\n",
       "    .dataframe thead th {\n",
       "        text-align: right;\n",
       "    }\n",
       "</style>\n",
       "<table border=\"1\" class=\"dataframe\">\n",
       "  <thead>\n",
       "    <tr style=\"text-align: right;\">\n",
       "      <th></th>\n",
       "      <th>Gender</th>\n",
       "      <th>Age</th>\n",
       "      <th>C</th>\n",
       "      <th>D</th>\n",
       "      <th>E</th>\n",
       "      <th>F</th>\n",
       "      <th>H</th>\n",
       "      <th>I</th>\n",
       "      <th>J</th>\n",
       "      <th>K</th>\n",
       "      <th>L</th>\n",
       "      <th>M</th>\n",
       "      <th>N</th>\n",
       "      <th>O</th>\n",
       "    </tr>\n",
       "  </thead>\n",
       "  <tbody>\n",
       "    <tr>\n",
       "      <th>0</th>\n",
       "      <td>Female</td>\n",
       "      <td>18-25</td>\n",
       "      <td>Yes</td>\n",
       "      <td>75% - 100%</td>\n",
       "      <td>More Efficient</td>\n",
       "      <td>Neck, Shoulders;Knees</td>\n",
       "      <td>Below 7 hours</td>\n",
       "      <td>Better</td>\n",
       "      <td>Every 10-30 min</td>\n",
       "      <td>Yes</td>\n",
       "      <td>No Change</td>\n",
       "      <td>Relaxed</td>\n",
       "      <td>Beneficial</td>\n",
       "      <td>Yes</td>\n",
       "    </tr>\n",
       "    <tr>\n",
       "      <th>1</th>\n",
       "      <td>Female</td>\n",
       "      <td>18-25</td>\n",
       "      <td>Yes</td>\n",
       "      <td>25% - 50%</td>\n",
       "      <td>Efficient</td>\n",
       "      <td>Ankles/Feet</td>\n",
       "      <td>7-8 hours</td>\n",
       "      <td>Better</td>\n",
       "      <td>More than 10 min</td>\n",
       "      <td>Yes</td>\n",
       "      <td>More Time</td>\n",
       "      <td>More Stressful</td>\n",
       "      <td>More Beneficial</td>\n",
       "      <td>Yes</td>\n",
       "    </tr>\n",
       "    <tr>\n",
       "      <th>2</th>\n",
       "      <td>Male</td>\n",
       "      <td>25-50</td>\n",
       "      <td>Yes</td>\n",
       "      <td>75% - 100%</td>\n",
       "      <td>More Efficient</td>\n",
       "      <td>Upper Back, Lower Back</td>\n",
       "      <td>7-8 hours</td>\n",
       "      <td>Much Better</td>\n",
       "      <td>I Never Change</td>\n",
       "      <td>Yes</td>\n",
       "      <td>Much More Time</td>\n",
       "      <td>More Stressful</td>\n",
       "      <td>More Beneficial</td>\n",
       "      <td>Yes</td>\n",
       "    </tr>\n",
       "    <tr>\n",
       "      <th>3</th>\n",
       "      <td>Male</td>\n",
       "      <td>18-25</td>\n",
       "      <td>Yes</td>\n",
       "      <td>75% - 100%</td>\n",
       "      <td>Efficient</td>\n",
       "      <td>Neck, Shoulders;Upper Back, Lower Back</td>\n",
       "      <td>Above 8 hours</td>\n",
       "      <td>Better</td>\n",
       "      <td>Every 1-3 hours</td>\n",
       "      <td>Yes</td>\n",
       "      <td>More Time</td>\n",
       "      <td>Stressful</td>\n",
       "      <td>Beneficial</td>\n",
       "      <td>Yes</td>\n",
       "    </tr>\n",
       "    <tr>\n",
       "      <th>4</th>\n",
       "      <td>Female</td>\n",
       "      <td>25-50</td>\n",
       "      <td>Yes</td>\n",
       "      <td>75% - 100%</td>\n",
       "      <td>Efficient</td>\n",
       "      <td>Ankles/Feet</td>\n",
       "      <td>7-8 hours</td>\n",
       "      <td>Better</td>\n",
       "      <td>Every 10-30 min</td>\n",
       "      <td>Yes</td>\n",
       "      <td>More Time</td>\n",
       "      <td>Relaxed</td>\n",
       "      <td>Same</td>\n",
       "      <td>Yes</td>\n",
       "    </tr>\n",
       "  </tbody>\n",
       "</table>\n",
       "</div>"
      ],
      "text/plain": [
       "   Gender    Age    C           D               E  \\\n",
       "0  Female  18-25  Yes  75% - 100%  More Efficient   \n",
       "1  Female  18-25  Yes   25% - 50%       Efficient   \n",
       "2    Male  25-50  Yes  75% - 100%  More Efficient   \n",
       "3    Male  18-25  Yes  75% - 100%       Efficient   \n",
       "4  Female  25-50  Yes  75% - 100%       Efficient   \n",
       "\n",
       "                                        F              H            I  \\\n",
       "0                   Neck, Shoulders;Knees  Below 7 hours       Better   \n",
       "1                             Ankles/Feet      7-8 hours       Better   \n",
       "2                  Upper Back, Lower Back      7-8 hours  Much Better   \n",
       "3  Neck, Shoulders;Upper Back, Lower Back  Above 8 hours       Better   \n",
       "4                             Ankles/Feet      7-8 hours       Better   \n",
       "\n",
       "                  J    K               L               M                N    O  \n",
       "0   Every 10-30 min  Yes       No Change         Relaxed       Beneficial  Yes  \n",
       "1  More than 10 min  Yes       More Time  More Stressful  More Beneficial  Yes  \n",
       "2    I Never Change  Yes  Much More Time  More Stressful  More Beneficial  Yes  \n",
       "3   Every 1-3 hours  Yes       More Time       Stressful       Beneficial  Yes  \n",
       "4   Every 10-30 min  Yes       More Time         Relaxed             Same  Yes  "
      ]
     },
     "execution_count": 39,
     "metadata": {},
     "output_type": "execute_result"
    }
   ],
   "source": [
    "wfh.head()"
   ]
  },
  {
   "cell_type": "code",
   "execution_count": 40,
   "id": "db7971f9",
   "metadata": {},
   "outputs": [
    {
     "data": {
      "text/html": [
       "<div>\n",
       "<style scoped>\n",
       "    .dataframe tbody tr th:only-of-type {\n",
       "        vertical-align: middle;\n",
       "    }\n",
       "\n",
       "    .dataframe tbody tr th {\n",
       "        vertical-align: top;\n",
       "    }\n",
       "\n",
       "    .dataframe thead th {\n",
       "        text-align: right;\n",
       "    }\n",
       "</style>\n",
       "<table border=\"1\" class=\"dataframe\">\n",
       "  <thead>\n",
       "    <tr style=\"text-align: right;\">\n",
       "      <th>Gender</th>\n",
       "      <th>Female</th>\n",
       "      <th>Male</th>\n",
       "    </tr>\n",
       "    <tr>\n",
       "      <th>Age</th>\n",
       "      <th></th>\n",
       "      <th></th>\n",
       "    </tr>\n",
       "  </thead>\n",
       "  <tbody>\n",
       "    <tr>\n",
       "      <th>18-25</th>\n",
       "      <td>69</td>\n",
       "      <td>67</td>\n",
       "    </tr>\n",
       "    <tr>\n",
       "      <th>25-50</th>\n",
       "      <td>68</td>\n",
       "      <td>78</td>\n",
       "    </tr>\n",
       "    <tr>\n",
       "      <th>Above 50</th>\n",
       "      <td>3</td>\n",
       "      <td>15</td>\n",
       "    </tr>\n",
       "  </tbody>\n",
       "</table>\n",
       "</div>"
      ],
      "text/plain": [
       "Gender    Female  Male\n",
       "Age                   \n",
       "18-25         69    67\n",
       "25-50         68    78\n",
       "Above 50       3    15"
      ]
     },
     "execution_count": 40,
     "metadata": {},
     "output_type": "execute_result"
    }
   ],
   "source": [
    "cl=pd.crosstab(wfh[\"Age\"],wfh[\"Gender\"]);cl"
   ]
  },
  {
   "cell_type": "code",
   "execution_count": 41,
   "id": "e01d0e9f",
   "metadata": {},
   "outputs": [
    {
     "data": {
      "text/html": [
       "<div>\n",
       "<style scoped>\n",
       "    .dataframe tbody tr th:only-of-type {\n",
       "        vertical-align: middle;\n",
       "    }\n",
       "\n",
       "    .dataframe tbody tr th {\n",
       "        vertical-align: top;\n",
       "    }\n",
       "\n",
       "    .dataframe thead th {\n",
       "        text-align: right;\n",
       "    }\n",
       "</style>\n",
       "<table border=\"1\" class=\"dataframe\">\n",
       "  <thead>\n",
       "    <tr style=\"text-align: right;\">\n",
       "      <th>O</th>\n",
       "      <th>No</th>\n",
       "      <th>Yes</th>\n",
       "    </tr>\n",
       "    <tr>\n",
       "      <th>Age</th>\n",
       "      <th></th>\n",
       "      <th></th>\n",
       "    </tr>\n",
       "  </thead>\n",
       "  <tbody>\n",
       "    <tr>\n",
       "      <th>18-25</th>\n",
       "      <td>30</td>\n",
       "      <td>106</td>\n",
       "    </tr>\n",
       "    <tr>\n",
       "      <th>25-50</th>\n",
       "      <td>22</td>\n",
       "      <td>124</td>\n",
       "    </tr>\n",
       "    <tr>\n",
       "      <th>Above 50</th>\n",
       "      <td>9</td>\n",
       "      <td>9</td>\n",
       "    </tr>\n",
       "  </tbody>\n",
       "</table>\n",
       "</div>"
      ],
      "text/plain": [
       "O         No  Yes\n",
       "Age              \n",
       "18-25     30  106\n",
       "25-50     22  124\n",
       "Above 50   9    9"
      ]
     },
     "execution_count": 41,
     "metadata": {},
     "output_type": "execute_result"
    }
   ],
   "source": [
    "cl=pd.crosstab(wfh[\"Age\"],wfh[\"O\"]);cl"
   ]
  },
  {
   "cell_type": "code",
   "execution_count": 42,
   "id": "4ef5b51d",
   "metadata": {},
   "outputs": [],
   "source": [
    "da=wfh.isnull().sum()"
   ]
  },
  {
   "cell_type": "code",
   "execution_count": 43,
   "id": "ac346d09",
   "metadata": {},
   "outputs": [
    {
     "data": {
      "text/plain": [
       "Gender    0\n",
       "Age       0\n",
       "C         0\n",
       "D         0\n",
       "E         0\n",
       "F         0\n",
       "H         0\n",
       "I         0\n",
       "J         0\n",
       "K         0\n",
       "L         0\n",
       "M         0\n",
       "N         0\n",
       "O         0\n",
       "dtype: int64"
      ]
     },
     "execution_count": 43,
     "metadata": {},
     "output_type": "execute_result"
    }
   ],
   "source": [
    "da"
   ]
  },
  {
   "cell_type": "code",
   "execution_count": 44,
   "id": "536dc7bb",
   "metadata": {},
   "outputs": [
    {
     "data": {
      "text/html": [
       "<div>\n",
       "<style scoped>\n",
       "    .dataframe tbody tr th:only-of-type {\n",
       "        vertical-align: middle;\n",
       "    }\n",
       "\n",
       "    .dataframe tbody tr th {\n",
       "        vertical-align: top;\n",
       "    }\n",
       "\n",
       "    .dataframe thead th {\n",
       "        text-align: right;\n",
       "    }\n",
       "</style>\n",
       "<table border=\"1\" class=\"dataframe\">\n",
       "  <thead>\n",
       "    <tr style=\"text-align: right;\">\n",
       "      <th></th>\n",
       "      <th>Gender</th>\n",
       "      <th>Age</th>\n",
       "      <th>C</th>\n",
       "      <th>D</th>\n",
       "      <th>E</th>\n",
       "      <th>F</th>\n",
       "      <th>H</th>\n",
       "      <th>I</th>\n",
       "      <th>J</th>\n",
       "      <th>K</th>\n",
       "      <th>L</th>\n",
       "      <th>M</th>\n",
       "      <th>N</th>\n",
       "      <th>O</th>\n",
       "    </tr>\n",
       "  </thead>\n",
       "  <tbody>\n",
       "    <tr>\n",
       "      <th>295</th>\n",
       "      <td>Female</td>\n",
       "      <td>18-25</td>\n",
       "      <td>Yes</td>\n",
       "      <td>75% - 100%</td>\n",
       "      <td>Efficient</td>\n",
       "      <td>Knees</td>\n",
       "      <td>7-8 hours</td>\n",
       "      <td>Better</td>\n",
       "      <td>More than 10 min</td>\n",
       "      <td>Yes</td>\n",
       "      <td>Less Time</td>\n",
       "      <td>Relaxed</td>\n",
       "      <td>Beneficial</td>\n",
       "      <td>Yes</td>\n",
       "    </tr>\n",
       "    <tr>\n",
       "      <th>296</th>\n",
       "      <td>Male</td>\n",
       "      <td>18-25</td>\n",
       "      <td>No</td>\n",
       "      <td>25% - 50%</td>\n",
       "      <td>Inefficient</td>\n",
       "      <td>Neck, Shoulders</td>\n",
       "      <td>Above 8 hours</td>\n",
       "      <td>Worse</td>\n",
       "      <td>Every 10-30 min</td>\n",
       "      <td>Yes</td>\n",
       "      <td>No Change</td>\n",
       "      <td>More Stressful</td>\n",
       "      <td>Less Beneficial</td>\n",
       "      <td>No</td>\n",
       "    </tr>\n",
       "    <tr>\n",
       "      <th>297</th>\n",
       "      <td>Female</td>\n",
       "      <td>18-25</td>\n",
       "      <td>Yes</td>\n",
       "      <td>50% - 75%</td>\n",
       "      <td>Efficient</td>\n",
       "      <td>Elbows, Wrist/Hands;Knees</td>\n",
       "      <td>Above 8 hours</td>\n",
       "      <td>Better</td>\n",
       "      <td>Every 10-30 min</td>\n",
       "      <td>Yes</td>\n",
       "      <td>More Time</td>\n",
       "      <td>Relaxed</td>\n",
       "      <td>Same</td>\n",
       "      <td>Yes</td>\n",
       "    </tr>\n",
       "    <tr>\n",
       "      <th>298</th>\n",
       "      <td>Female</td>\n",
       "      <td>25-50</td>\n",
       "      <td>Yes</td>\n",
       "      <td>50% - 75%</td>\n",
       "      <td>Same</td>\n",
       "      <td>Neck, Shoulders</td>\n",
       "      <td>Above 8 hours</td>\n",
       "      <td>Same</td>\n",
       "      <td>Every 10-30 min</td>\n",
       "      <td>Yes</td>\n",
       "      <td>More Time</td>\n",
       "      <td>Relaxed</td>\n",
       "      <td>Beneficial</td>\n",
       "      <td>Yes</td>\n",
       "    </tr>\n",
       "    <tr>\n",
       "      <th>299</th>\n",
       "      <td>Female</td>\n",
       "      <td>Above 50</td>\n",
       "      <td>No</td>\n",
       "      <td>25% - 50%</td>\n",
       "      <td>More Efficient</td>\n",
       "      <td>Neck, Shoulders;Knees</td>\n",
       "      <td>Above 8 hours</td>\n",
       "      <td>Better</td>\n",
       "      <td>Every 10-30 min</td>\n",
       "      <td>Yes</td>\n",
       "      <td>Less Time</td>\n",
       "      <td>Relaxed</td>\n",
       "      <td>Beneficial</td>\n",
       "      <td>No</td>\n",
       "    </tr>\n",
       "  </tbody>\n",
       "</table>\n",
       "</div>"
      ],
      "text/plain": [
       "     Gender       Age    C           D               E  \\\n",
       "295  Female     18-25  Yes  75% - 100%       Efficient   \n",
       "296    Male     18-25   No   25% - 50%     Inefficient   \n",
       "297  Female     18-25  Yes   50% - 75%       Efficient   \n",
       "298  Female     25-50  Yes   50% - 75%            Same   \n",
       "299  Female  Above 50   No   25% - 50%  More Efficient   \n",
       "\n",
       "                             F              H       I                 J    K  \\\n",
       "295                      Knees      7-8 hours  Better  More than 10 min  Yes   \n",
       "296            Neck, Shoulders  Above 8 hours   Worse   Every 10-30 min  Yes   \n",
       "297  Elbows, Wrist/Hands;Knees  Above 8 hours  Better   Every 10-30 min  Yes   \n",
       "298            Neck, Shoulders  Above 8 hours    Same   Every 10-30 min  Yes   \n",
       "299      Neck, Shoulders;Knees  Above 8 hours  Better   Every 10-30 min  Yes   \n",
       "\n",
       "             L               M                N    O  \n",
       "295  Less Time         Relaxed       Beneficial  Yes  \n",
       "296  No Change  More Stressful  Less Beneficial   No  \n",
       "297  More Time         Relaxed             Same  Yes  \n",
       "298  More Time         Relaxed       Beneficial  Yes  \n",
       "299  Less Time         Relaxed       Beneficial   No  "
      ]
     },
     "execution_count": 44,
     "metadata": {},
     "output_type": "execute_result"
    }
   ],
   "source": [
    "wfh.tail()"
   ]
  },
  {
   "cell_type": "code",
   "execution_count": 45,
   "id": "35c33682",
   "metadata": {},
   "outputs": [
    {
     "data": {
      "text/plain": [
       "0      False\n",
       "1      False\n",
       "2      False\n",
       "3      False\n",
       "4      False\n",
       "       ...  \n",
       "295    False\n",
       "296    False\n",
       "297    False\n",
       "298    False\n",
       "299    False\n",
       "Length: 300, dtype: bool"
      ]
     },
     "execution_count": 45,
     "metadata": {},
     "output_type": "execute_result"
    }
   ],
   "source": [
    "\n",
    "d=pd.DataFrame.duplicated(wfh);d"
   ]
  },
  {
   "cell_type": "code",
   "execution_count": 46,
   "id": "610f56f2",
   "metadata": {},
   "outputs": [
    {
     "data": {
      "text/html": [
       "<div>\n",
       "<style scoped>\n",
       "    .dataframe tbody tr th:only-of-type {\n",
       "        vertical-align: middle;\n",
       "    }\n",
       "\n",
       "    .dataframe tbody tr th {\n",
       "        vertical-align: top;\n",
       "    }\n",
       "\n",
       "    .dataframe thead th {\n",
       "        text-align: right;\n",
       "    }\n",
       "</style>\n",
       "<table border=\"1\" class=\"dataframe\">\n",
       "  <thead>\n",
       "    <tr style=\"text-align: right;\">\n",
       "      <th></th>\n",
       "      <th>stressed</th>\n",
       "      <th>percentage</th>\n",
       "    </tr>\n",
       "  </thead>\n",
       "  <tbody>\n",
       "    <tr>\n",
       "      <th>0</th>\n",
       "      <td>Stressful</td>\n",
       "      <td>26.0</td>\n",
       "    </tr>\n",
       "    <tr>\n",
       "      <th>1</th>\n",
       "      <td>More Stressful</td>\n",
       "      <td>9.3</td>\n",
       "    </tr>\n",
       "    <tr>\n",
       "      <th>2</th>\n",
       "      <td>Same</td>\n",
       "      <td>23.3</td>\n",
       "    </tr>\n",
       "    <tr>\n",
       "      <th>3</th>\n",
       "      <td>Relaxed</td>\n",
       "      <td>32.7</td>\n",
       "    </tr>\n",
       "    <tr>\n",
       "      <th>4</th>\n",
       "      <td>More Relaxed</td>\n",
       "      <td>8.7</td>\n",
       "    </tr>\n",
       "  </tbody>\n",
       "</table>\n",
       "</div>"
      ],
      "text/plain": [
       "         stressed  percentage\n",
       "0       Stressful        26.0\n",
       "1  More Stressful         9.3\n",
       "2            Same        23.3\n",
       "3         Relaxed        32.7\n",
       "4    More Relaxed         8.7"
      ]
     },
     "execution_count": 46,
     "metadata": {},
     "output_type": "execute_result"
    }
   ],
   "source": [
    "stressed=pd.DataFrame({\"stressed\":[\"Stressful\",\"More Stressful\",\"Same\",\"Relaxed\",\"More Relaxed\"],\"percentage\":[26,9.3,23.3,32.7,8.7]});stressed"
   ]
  },
  {
   "cell_type": "code",
   "execution_count": 47,
   "id": "4853af27",
   "metadata": {},
   "outputs": [
    {
     "data": {
      "text/html": [
       "<div>\n",
       "<style scoped>\n",
       "    .dataframe tbody tr th:only-of-type {\n",
       "        vertical-align: middle;\n",
       "    }\n",
       "\n",
       "    .dataframe tbody tr th {\n",
       "        vertical-align: top;\n",
       "    }\n",
       "\n",
       "    .dataframe thead th {\n",
       "        text-align: right;\n",
       "    }\n",
       "</style>\n",
       "<table border=\"1\" class=\"dataframe\">\n",
       "  <thead>\n",
       "    <tr style=\"text-align: right;\">\n",
       "      <th></th>\n",
       "      <th>productivity</th>\n",
       "      <th>percentage</th>\n",
       "    </tr>\n",
       "  </thead>\n",
       "  <tbody>\n",
       "    <tr>\n",
       "      <th>0</th>\n",
       "      <td>More Efficient</td>\n",
       "      <td>27.3</td>\n",
       "    </tr>\n",
       "    <tr>\n",
       "      <th>1</th>\n",
       "      <td>Efficient</td>\n",
       "      <td>44.7</td>\n",
       "    </tr>\n",
       "    <tr>\n",
       "      <th>2</th>\n",
       "      <td>Same</td>\n",
       "      <td>16.7</td>\n",
       "    </tr>\n",
       "    <tr>\n",
       "      <th>3</th>\n",
       "      <td>Inefficient</td>\n",
       "      <td>8.7</td>\n",
       "    </tr>\n",
       "    <tr>\n",
       "      <th>4</th>\n",
       "      <td>More Inefficient</td>\n",
       "      <td>2.6</td>\n",
       "    </tr>\n",
       "  </tbody>\n",
       "</table>\n",
       "</div>"
      ],
      "text/plain": [
       "       productivity  percentage\n",
       "0    More Efficient        27.3\n",
       "1         Efficient        44.7\n",
       "2              Same        16.7\n",
       "3       Inefficient         8.7\n",
       "4  More Inefficient         2.6"
      ]
     },
     "execution_count": 47,
     "metadata": {},
     "output_type": "execute_result"
    }
   ],
   "source": [
    "productivity=pd.DataFrame({\"productivity\":[\"More Efficient\",\"Efficient\",\"Same\",\"Inefficient\",\"More Inefficient\"],\"percentage\":[27.3,44.7,16.7,8.7,2.6]});productivity"
   ]
  },
  {
   "cell_type": "code",
   "execution_count": 48,
   "id": "103a52cb",
   "metadata": {},
   "outputs": [
    {
     "data": {
      "text/html": [
       "<style type=\"text/css\">\n",
       "#T_fccc6_row0_col1 {\n",
       "  background-color: #f7fbff;\n",
       "  color: #000000;\n",
       "}\n",
       "#T_fccc6_row1_col1 {\n",
       "  background-color: #dae8f6;\n",
       "  color: #000000;\n",
       "}\n",
       "#T_fccc6_row2_col1 {\n",
       "  background-color: #abd0e6;\n",
       "  color: #000000;\n",
       "}\n",
       "#T_fccc6_row3_col1 {\n",
       "  background-color: #4e9acb;\n",
       "  color: #f1f1f1;\n",
       "}\n",
       "#T_fccc6_row4_col1 {\n",
       "  background-color: #08306b;\n",
       "  color: #f1f1f1;\n",
       "}\n",
       "</style>\n",
       "<table id=\"T_fccc6_\">\n",
       "  <thead>\n",
       "    <tr>\n",
       "      <th class=\"blank level0\" >&nbsp;</th>\n",
       "      <th class=\"col_heading level0 col0\" >productivity</th>\n",
       "      <th class=\"col_heading level0 col1\" >percentage</th>\n",
       "    </tr>\n",
       "  </thead>\n",
       "  <tbody>\n",
       "    <tr>\n",
       "      <th id=\"T_fccc6_level0_row0\" class=\"row_heading level0 row0\" >4</th>\n",
       "      <td id=\"T_fccc6_row0_col0\" class=\"data row0 col0\" >More Inefficient</td>\n",
       "      <td id=\"T_fccc6_row0_col1\" class=\"data row0 col1\" >2.600000</td>\n",
       "    </tr>\n",
       "    <tr>\n",
       "      <th id=\"T_fccc6_level0_row1\" class=\"row_heading level0 row1\" >3</th>\n",
       "      <td id=\"T_fccc6_row1_col0\" class=\"data row1 col0\" >Inefficient</td>\n",
       "      <td id=\"T_fccc6_row1_col1\" class=\"data row1 col1\" >8.700000</td>\n",
       "    </tr>\n",
       "    <tr>\n",
       "      <th id=\"T_fccc6_level0_row2\" class=\"row_heading level0 row2\" >2</th>\n",
       "      <td id=\"T_fccc6_row2_col0\" class=\"data row2 col0\" >Same</td>\n",
       "      <td id=\"T_fccc6_row2_col1\" class=\"data row2 col1\" >16.700000</td>\n",
       "    </tr>\n",
       "    <tr>\n",
       "      <th id=\"T_fccc6_level0_row3\" class=\"row_heading level0 row3\" >0</th>\n",
       "      <td id=\"T_fccc6_row3_col0\" class=\"data row3 col0\" >More Efficient</td>\n",
       "      <td id=\"T_fccc6_row3_col1\" class=\"data row3 col1\" >27.300000</td>\n",
       "    </tr>\n",
       "    <tr>\n",
       "      <th id=\"T_fccc6_level0_row4\" class=\"row_heading level0 row4\" >1</th>\n",
       "      <td id=\"T_fccc6_row4_col0\" class=\"data row4 col0\" >Efficient</td>\n",
       "      <td id=\"T_fccc6_row4_col1\" class=\"data row4 col1\" >44.700000</td>\n",
       "    </tr>\n",
       "  </tbody>\n",
       "</table>\n"
      ],
      "text/plain": [
       "<pandas.io.formats.style.Styler at 0x1efef363700>"
      ]
     },
     "execution_count": 48,
     "metadata": {},
     "output_type": "execute_result"
    }
   ],
   "source": [
    "productivity_inc=productivity.sort_values(by=\"percentage\",ascending=\"False\")\n",
    "productivity_inc.style.background_gradient(cmap=\"Blues\",subset=[\"percentage\"])\n"
   ]
  },
  {
   "cell_type": "code",
   "execution_count": 49,
   "id": "11b89399",
   "metadata": {},
   "outputs": [],
   "source": [
    "#what is your point of view towards work from home\n"
   ]
  },
  {
   "cell_type": "code",
   "execution_count": 50,
   "id": "219cb787",
   "metadata": {},
   "outputs": [
    {
     "data": {
      "image/png": "[encoded data removed]",
      "text/plain": [
       "<Figure size 864x576 with 1 Axes>"
      ]
     },
     "metadata": {},
     "output_type": "display_data"
    }
   ],
   "source": [
    "view=pd.DataFrame({\"empolyees point of view towards wfh\":[\"More Beneficial\",\"Benificial\",\"Same\",\"Less Benificial\",\"Not Beneficial\"],\"percentage\":[24,44.7,17.3,12.7,1.3]})\n",
    "plt.style.use(\"ggplot\")\n",
    "plt.subplots(figsize=(12,8))\n",
    "fig=sb.barplot(x=view[\"empolyees point of view towards wfh\"],y=view[\"percentage\"],data=view)"
   ]
  },
  {
   "cell_type": "code",
   "execution_count": 51,
   "id": "1eba4cf8",
   "metadata": {},
   "outputs": [
    {
     "data": {
      "text/plain": [
       "Gender    object\n",
       "Age       object\n",
       "C         object\n",
       "D         object\n",
       "E         object\n",
       "F         object\n",
       "H         object\n",
       "I         object\n",
       "J         object\n",
       "K         object\n",
       "L         object\n",
       "M         object\n",
       "N         object\n",
       "O         object\n",
       "dtype: object"
      ]
     },
     "execution_count": 51,
     "metadata": {},
     "output_type": "execute_result"
    }
   ],
   "source": [
    "wfh.dtypes"
   ]
  },
  {
   "cell_type": "code",
   "execution_count": 52,
   "id": "e601cb19",
   "metadata": {},
   "outputs": [
    {
     "data": {
      "image/png": "[encoded data removed]",
      "text/plain": [
       "<Figure size 432x288 with 1 Axes>"
      ]
     },
     "metadata": {},
     "output_type": "display_data"
    }
   ],
   "source": [
    "ax=sb.countplot(x=\"Gender\",data=wfh)\n",
    "plt.title(\"Male vs Female\")\n",
    "for p in ax.patches:\n",
    "    ax.annotate(\"{:}\".format(p.get_height()),(p.get_x()+0.25,p.get_height()+3))"
   ]
  },
  {
   "cell_type": "code",
   "execution_count": 53,
   "id": "f351da2c",
   "metadata": {},
   "outputs": [
    {
     "data": {
      "image/png": "[encoded data removed]",
      "text/plain": [
       "<Figure size 1080x360 with 1 Axes>"
      ]
     },
     "metadata": {},
     "output_type": "display_data"
    }
   ],
   "source": [
    "ax=wfh.groupby([\"Gender\"]).count().plot.bar(figsize=(15,5))"
   ]
  },
  {
   "cell_type": "code",
   "execution_count": 54,
   "id": "1979002c",
   "metadata": {},
   "outputs": [],
   "source": [
    "from sklearn.preprocessing import LabelEncoder\n",
    "le=LabelEncoder()"
   ]
  },
  {
   "cell_type": "code",
   "execution_count": 55,
   "id": "b2363728",
   "metadata": {},
   "outputs": [
    {
     "data": {
      "text/plain": [
       "Male      160\n",
       "Female    140\n",
       "Name: Gender, dtype: int64"
      ]
     },
     "execution_count": 55,
     "metadata": {},
     "output_type": "execute_result"
    }
   ],
   "source": [
    "wfh.Gender.value_counts()"
   ]
  },
  {
   "cell_type": "code",
   "execution_count": 56,
   "id": "729b2c49",
   "metadata": {},
   "outputs": [
    {
     "data": {
      "text/plain": [
       "25-50       146\n",
       "18-25       136\n",
       "Above 50     18\n",
       "Name: Age, dtype: int64"
      ]
     },
     "execution_count": 56,
     "metadata": {},
     "output_type": "execute_result"
    }
   ],
   "source": [
    "wfh.Age.value_counts()"
   ]
  },
  {
   "cell_type": "code",
   "execution_count": 57,
   "id": "677296f9",
   "metadata": {},
   "outputs": [
    {
     "data": {
      "text/plain": [
       "1    146\n",
       "0    136\n",
       "2     18\n",
       "Name: Age, dtype: int64"
      ]
     },
     "execution_count": 57,
     "metadata": {},
     "output_type": "execute_result"
    }
   ],
   "source": [
    "wfh.Age=le.fit_transform(wfh.Age);wfh.Age\n",
    "wfh.Age.value_counts()"
   ]
  },
  {
   "cell_type": "code",
   "execution_count": 58,
   "id": "622aa448",
   "metadata": {},
   "outputs": [
    {
     "data": {
      "text/plain": [
       "Yes    258\n",
       "No      42\n",
       "Name: C, dtype: int64"
      ]
     },
     "execution_count": 58,
     "metadata": {},
     "output_type": "execute_result"
    }
   ],
   "source": [
    "wfh.C.value_counts()"
   ]
  },
  {
   "cell_type": "code",
   "execution_count": 59,
   "id": "f5010d11",
   "metadata": {},
   "outputs": [
    {
     "data": {
      "text/plain": [
       "1    258\n",
       "0     42\n",
       "Name: C, dtype: int64"
      ]
     },
     "execution_count": 59,
     "metadata": {},
     "output_type": "execute_result"
    }
   ],
   "source": [
    "wfh.C=le.fit_transform(wfh.C);wfh.C\n",
    "wfh.C.value_counts()"
   ]
  },
  {
   "cell_type": "code",
   "execution_count": 60,
   "id": "e0dc1cd4",
   "metadata": {},
   "outputs": [
    {
     "data": {
      "text/plain": [
       "75% - 100%    132\n",
       "50% - 75%      99\n",
       "25% - 50%      61\n",
       "10% - 25%       8\n",
       "Name: D, dtype: int64"
      ]
     },
     "execution_count": 60,
     "metadata": {},
     "output_type": "execute_result"
    }
   ],
   "source": [
    "wfh.D.value_counts()"
   ]
  },
  {
   "cell_type": "code",
   "execution_count": 61,
   "id": "f6fcd0be",
   "metadata": {},
   "outputs": [
    {
     "data": {
      "text/plain": [
       "3    132\n",
       "2     99\n",
       "1     61\n",
       "0      8\n",
       "Name: D, dtype: int64"
      ]
     },
     "execution_count": 61,
     "metadata": {},
     "output_type": "execute_result"
    }
   ],
   "source": [
    "wfh.D=le.fit_transform(wfh.D);wfh.D\n",
    "wfh.D.value_counts()"
   ]
  },
  {
   "cell_type": "code",
   "execution_count": 62,
   "id": "76fdd7c1",
   "metadata": {},
   "outputs": [
    {
     "data": {
      "text/plain": [
       "Efficient           133\n",
       "More Efficient       85\n",
       "Same                 48\n",
       "Inefficient          26\n",
       "More Inefficient      8\n",
       "Name: E, dtype: int64"
      ]
     },
     "execution_count": 62,
     "metadata": {},
     "output_type": "execute_result"
    }
   ],
   "source": [
    "wfh.E.value_counts()"
   ]
  },
  {
   "cell_type": "code",
   "execution_count": 63,
   "id": "2e957468",
   "metadata": {},
   "outputs": [
    {
     "data": {
      "text/plain": [
       "0    133\n",
       "2     85\n",
       "4     48\n",
       "1     26\n",
       "3      8\n",
       "Name: E, dtype: int64"
      ]
     },
     "execution_count": 63,
     "metadata": {},
     "output_type": "execute_result"
    }
   ],
   "source": [
    "wfh.E=le.fit_transform(wfh.E);wfh.E\n",
    "wfh.E.value_counts()"
   ]
  },
  {
   "cell_type": "code",
   "execution_count": 64,
   "id": "be2c3381",
   "metadata": {},
   "outputs": [
    {
     "data": {
      "text/plain": [
       "Neck, Shoulders                                                                 67\n",
       "Upper Back, Lower Back                                                          65\n",
       "Knees                                                                           31\n",
       "Neck, Shoulders;Upper Back, Lower Back                                          28\n",
       "Hips/Thighs                                                                     15\n",
       "Upper Back, Lower Back;Elbows, Wrist/Hands                                      15\n",
       "Elbows, Wrist/Hands                                                             10\n",
       "Elbows, Wrist/Hands;Hips/Thighs                                                  9\n",
       "Ankles/Feet                                                                      8\n",
       "Neck, Shoulders;Knees                                                            6\n",
       "Upper Back, Lower Back;Elbows, Wrist/Hands;Hips/Thighs                           6\n",
       "Upper Back, Lower Back;Hips/Thighs                                               6\n",
       "Elbows, Wrist/Hands;Knees                                                        6\n",
       "Upper Back, Lower Back;Elbows, Wrist/Hands;Knees                                 4\n",
       "Neck, Shoulders;Upper Back, Lower Back;Elbows, Wrist/Hands;Knees                 3\n",
       "Knees;Ankles/Feet                                                                3\n",
       "Neck, Shoulders;Elbows, Wrist/Hands;Knees                                        3\n",
       "Neck, Shoulders;Upper Back, Lower Back;Ankles/Feet                               2\n",
       "Upper Back, Lower Back;Ankles/Feet                                               2\n",
       "Neck, Shoulders;Upper Back, Lower Back;Elbows, Wrist/Hands;Hips/Thighs;Knees     2\n",
       "Neck, Shoulders;Upper Back, Lower Back;Elbows, Wrist/Hands                       2\n",
       "Neck, Shoulders;Upper Back, Lower Back;Hips/Thighs                               2\n",
       "Upper Back, Lower Back;Knees                                                     2\n",
       "Neck, Shoulders;Elbows, Wrist/Hands                                              2\n",
       "Neck, Shoulders;Ankles/Feet                                                      1\n",
       "Name: F, dtype: int64"
      ]
     },
     "execution_count": 64,
     "metadata": {},
     "output_type": "execute_result"
    }
   ],
   "source": [
    "wfh.F.value_counts()"
   ]
  },
  {
   "cell_type": "code",
   "execution_count": 65,
   "id": "b3026ff3",
   "metadata": {},
   "outputs": [
    {
     "data": {
      "text/plain": [
       "7     67\n",
       "18    65\n",
       "5     31\n",
       "12    28\n",
       "4     15\n",
       "20    15\n",
       "1     10\n",
       "2      9\n",
       "0      8\n",
       "11     6\n",
       "21     6\n",
       "23     6\n",
       "3      6\n",
       "22     4\n",
       "16     3\n",
       "6      3\n",
       "10     3\n",
       "13     2\n",
       "19     2\n",
       "15     2\n",
       "14     2\n",
       "17     2\n",
       "24     2\n",
       "9      2\n",
       "8      1\n",
       "Name: F, dtype: int64"
      ]
     },
     "execution_count": 65,
     "metadata": {},
     "output_type": "execute_result"
    }
   ],
   "source": [
    "wfh.F=le.fit_transform(wfh.F);wfh.F\n",
    "wfh.F.value_counts()"
   ]
  },
  {
   "cell_type": "code",
   "execution_count": 66,
   "id": "4447cd18",
   "metadata": {},
   "outputs": [
    {
     "data": {
      "text/plain": [
       "7-8 hours        127\n",
       "Above 8 hours    103\n",
       "Below 7 hours     70\n",
       "Name: H, dtype: int64"
      ]
     },
     "execution_count": 66,
     "metadata": {},
     "output_type": "execute_result"
    }
   ],
   "source": [
    "wfh.H.value_counts()"
   ]
  },
  {
   "cell_type": "code",
   "execution_count": 67,
   "id": "347a1fae",
   "metadata": {},
   "outputs": [
    {
     "data": {
      "text/plain": [
       "0    127\n",
       "1    103\n",
       "2     70\n",
       "Name: H, dtype: int64"
      ]
     },
     "execution_count": 67,
     "metadata": {},
     "output_type": "execute_result"
    }
   ],
   "source": [
    "wfh.H=le.fit_transform(wfh.H);wfh.H\n",
    "wfh.H.value_counts()"
   ]
  },
  {
   "cell_type": "code",
   "execution_count": 68,
   "id": "919ffe03",
   "metadata": {},
   "outputs": [
    {
     "data": {
      "text/plain": [
       "Better         123\n",
       "Same            73\n",
       "Much Better     64\n",
       "Worse           36\n",
       "Much Worse       4\n",
       "Name: I, dtype: int64"
      ]
     },
     "execution_count": 68,
     "metadata": {},
     "output_type": "execute_result"
    }
   ],
   "source": [
    "wfh.I.value_counts()"
   ]
  },
  {
   "cell_type": "code",
   "execution_count": 69,
   "id": "5962857f",
   "metadata": {},
   "outputs": [
    {
     "data": {
      "text/plain": [
       "0    123\n",
       "3     73\n",
       "1     64\n",
       "4     36\n",
       "2      4\n",
       "Name: I, dtype: int64"
      ]
     },
     "execution_count": 69,
     "metadata": {},
     "output_type": "execute_result"
    }
   ],
   "source": [
    "wfh.I=le.fit_transform(wfh.I);wfh.I\n",
    "wfh.I.value_counts()"
   ]
  },
  {
   "cell_type": "code",
   "execution_count": 70,
   "id": "ee90cd66",
   "metadata": {},
   "outputs": [
    {
     "data": {
      "text/plain": [
       "More than 10 min     60\n",
       "I Never Change       60\n",
       "Every 10-30 min      56\n",
       "Every 30-60 min      51\n",
       "Every 1-3 hours      50\n",
       "More than 3 hours    23\n",
       "Name: J, dtype: int64"
      ]
     },
     "execution_count": 70,
     "metadata": {},
     "output_type": "execute_result"
    }
   ],
   "source": [
    "wfh.J.value_counts()"
   ]
  },
  {
   "cell_type": "code",
   "execution_count": 71,
   "id": "f1f6b819",
   "metadata": {},
   "outputs": [
    {
     "data": {
      "text/plain": [
       "4    60\n",
       "3    60\n",
       "1    56\n",
       "2    51\n",
       "0    50\n",
       "5    23\n",
       "Name: J, dtype: int64"
      ]
     },
     "execution_count": 71,
     "metadata": {},
     "output_type": "execute_result"
    }
   ],
   "source": [
    "wfh.J=le.fit_transform(wfh.J);wfh.J\n",
    "wfh.J.value_counts()"
   ]
  },
  {
   "cell_type": "code",
   "execution_count": 72,
   "id": "8a215bf4",
   "metadata": {},
   "outputs": [
    {
     "data": {
      "text/plain": [
       "Yes    253\n",
       "No      47\n",
       "Name: K, dtype: int64"
      ]
     },
     "execution_count": 72,
     "metadata": {},
     "output_type": "execute_result"
    }
   ],
   "source": [
    "wfh.K.value_counts()"
   ]
  },
  {
   "cell_type": "code",
   "execution_count": 73,
   "id": "38e16d05",
   "metadata": {},
   "outputs": [
    {
     "data": {
      "text/plain": [
       "More Time         130\n",
       "Much More Time     71\n",
       "No Change          70\n",
       "Less Time          25\n",
       "Much Less Time      4\n",
       "Name: L, dtype: int64"
      ]
     },
     "execution_count": 73,
     "metadata": {},
     "output_type": "execute_result"
    }
   ],
   "source": [
    "wfh.L.value_counts()"
   ]
  },
  {
   "cell_type": "code",
   "execution_count": 74,
   "id": "c75a25f1",
   "metadata": {},
   "outputs": [
    {
     "data": {
      "text/plain": [
       "1    130\n",
       "3     71\n",
       "4     70\n",
       "0     25\n",
       "2      4\n",
       "Name: L, dtype: int64"
      ]
     },
     "execution_count": 74,
     "metadata": {},
     "output_type": "execute_result"
    }
   ],
   "source": [
    "wfh.L=le.fit_transform(wfh.L);wfh.L\n",
    "wfh.L.value_counts()"
   ]
  },
  {
   "cell_type": "code",
   "execution_count": 75,
   "id": "8af3db02",
   "metadata": {},
   "outputs": [
    {
     "data": {
      "text/plain": [
       "Relaxed           94\n",
       "Stressful         77\n",
       "Same              72\n",
       "More Stressful    30\n",
       "More Relaxed      27\n",
       "Name: M, dtype: int64"
      ]
     },
     "execution_count": 75,
     "metadata": {},
     "output_type": "execute_result"
    }
   ],
   "source": [
    "wfh.M.value_counts()"
   ]
  },
  {
   "cell_type": "code",
   "execution_count": 76,
   "id": "b82615f0",
   "metadata": {},
   "outputs": [
    {
     "data": {
      "text/plain": [
       "2    94\n",
       "4    77\n",
       "3    72\n",
       "1    30\n",
       "0    27\n",
       "Name: M, dtype: int64"
      ]
     },
     "execution_count": 76,
     "metadata": {},
     "output_type": "execute_result"
    }
   ],
   "source": [
    "wfh.M=le.fit_transform(wfh.M);wfh.M\n",
    "wfh.M.value_counts()"
   ]
  },
  {
   "cell_type": "code",
   "execution_count": 77,
   "id": "6b46a1ce",
   "metadata": {},
   "outputs": [
    {
     "data": {
      "text/plain": [
       "Beneficial         136\n",
       "More Beneficial     70\n",
       "Same                53\n",
       "Less Beneficial     37\n",
       "Not Beneficial       4\n",
       "Name: N, dtype: int64"
      ]
     },
     "execution_count": 77,
     "metadata": {},
     "output_type": "execute_result"
    }
   ],
   "source": [
    "wfh.N.value_counts()"
   ]
  },
  {
   "cell_type": "code",
   "execution_count": 78,
   "id": "5e3728bd",
   "metadata": {},
   "outputs": [
    {
     "data": {
      "text/plain": [
       "0    136\n",
       "2     70\n",
       "4     53\n",
       "1     37\n",
       "3      4\n",
       "Name: N, dtype: int64"
      ]
     },
     "execution_count": 78,
     "metadata": {},
     "output_type": "execute_result"
    }
   ],
   "source": [
    "wfh.N=le.fit_transform(wfh.N);wfh.N\n",
    "wfh.N.value_counts()"
   ]
  },
  {
   "cell_type": "code",
   "execution_count": 79,
   "id": "4f51416c",
   "metadata": {},
   "outputs": [
    {
     "data": {
      "text/plain": [
       "Yes    239\n",
       "No      61\n",
       "Name: O, dtype: int64"
      ]
     },
     "execution_count": 79,
     "metadata": {},
     "output_type": "execute_result"
    }
   ],
   "source": [
    "wfh.O.value_counts()"
   ]
  },
  {
   "cell_type": "code",
   "execution_count": 80,
   "id": "3d590e15",
   "metadata": {},
   "outputs": [],
   "source": [
    "from sklearn.preprocessing import LabelEncoder\n",
    "le=LabelEncoder()"
   ]
  },
  {
   "cell_type": "code",
   "execution_count": 81,
   "id": "b884e350",
   "metadata": {},
   "outputs": [],
   "source": [
    "wfh.Gender=le.fit_transform(wfh.Gender)\n",
    "wfh.Age=le.fit_transform(wfh.Age)\n",
    "wfh.C=le.fit_transform(wfh.C)\n",
    "wfh.D=le.fit_transform(wfh.D)\n",
    "wfh.E=le.fit_transform(wfh.E)\n",
    "wfh.F=le.fit_transform(wfh.F)\n",
    "wfh.H=le.fit_transform(wfh.H)\n",
    "wfh.I=le.fit_transform(wfh.I)\n",
    "wfh.J=le.fit_transform(wfh.J)\n",
    "wfh.K=le.fit_transform(wfh.K)\n",
    "wfh.L=le.fit_transform(wfh.L)\n",
    "wfh.M=le.fit_transform(wfh.M)\n",
    "wfh.N=le.fit_transform(wfh.N)\n",
    "wfh.O=le.fit_transform(wfh.O)\n"
   ]
  },
  {
   "cell_type": "code",
   "execution_count": 82,
   "id": "e2d4a6b1",
   "metadata": {},
   "outputs": [
    {
     "data": {
      "text/plain": [
       "Gender    int32\n",
       "Age       int64\n",
       "C         int64\n",
       "D         int64\n",
       "E         int64\n",
       "F         int64\n",
       "H         int64\n",
       "I         int64\n",
       "J         int64\n",
       "K         int32\n",
       "L         int64\n",
       "M         int64\n",
       "N         int64\n",
       "O         int32\n",
       "dtype: object"
      ]
     },
     "execution_count": 82,
     "metadata": {},
     "output_type": "execute_result"
    }
   ],
   "source": [
    "wfh.dtypes"
   ]
  },
  {
   "cell_type": "code",
   "execution_count": 118,
   "id": "401da4e6",
   "metadata": {},
   "outputs": [],
   "source": [
    "x=wfh.iloc[:,0:13]\n",
    "y=wfh.iloc[:,-1]\n"
   ]
  },
  {
   "cell_type": "code",
   "execution_count": 119,
   "id": "aa8c1bb7",
   "metadata": {},
   "outputs": [],
   "source": [
    "from sklearn.model_selection import train_test_split"
   ]
  },
  {
   "cell_type": "code",
   "execution_count": 120,
   "id": "33cfaae0",
   "metadata": {},
   "outputs": [],
   "source": [
    "x_train,x_test,y_train,y_test=train_test_split(x,y,test_size=.2,random_state=100)"
   ]
  },
  {
   "cell_type": "code",
   "execution_count": 121,
   "id": "48d4521d",
   "metadata": {},
   "outputs": [
    {
     "data": {
      "text/plain": [
       "((240, 13), (60, 13), (240,), (60,))"
      ]
     },
     "execution_count": 121,
     "metadata": {},
     "output_type": "execute_result"
    }
   ],
   "source": [
    "x_train.shape,x_test.shape,y_train.shape,y_test.shape"
   ]
  },
  {
   "cell_type": "markdown",
   "id": "449c1bdd",
   "metadata": {},
   "source": [
    "# LOGISTIC REGRESSION"
   ]
  },
  {
   "cell_type": "code",
   "execution_count": 122,
   "id": "fd6f7232",
   "metadata": {},
   "outputs": [],
   "source": [
    "from sklearn.linear_model import LogisticRegression\n",
    "lg=LogisticRegression()"
   ]
  },
  {
   "cell_type": "code",
   "execution_count": 123,
   "id": "0c380381",
   "metadata": {},
   "outputs": [
    {
     "data": {
      "text/plain": [
       "LogisticRegression()"
      ]
     },
     "execution_count": 123,
     "metadata": {},
     "output_type": "execute_result"
    }
   ],
   "source": [
    "lg.fit(x_train,y_train)"
   ]
  },
  {
   "cell_type": "code",
   "execution_count": 124,
   "id": "87cc8f65",
   "metadata": {},
   "outputs": [
    {
     "data": {
      "text/plain": [
       "array([0, 1, 0, 1, 1, 1, 1, 1, 1, 1, 1, 1, 1, 1, 1, 1, 1, 1, 1, 1, 0, 1,\n",
       "       1, 1, 1, 1, 1, 1, 1, 1, 1, 1, 1, 1, 1, 0, 1, 1, 1, 1, 1, 1, 1, 1,\n",
       "       1, 1, 1, 1, 1, 1, 1, 1, 1, 1, 1, 1, 1, 1, 1, 1])"
      ]
     },
     "execution_count": 124,
     "metadata": {},
     "output_type": "execute_result"
    }
   ],
   "source": [
    "lg_p=lg.predict(x_test)\n",
    "lg_p"
   ]
  },
  {
   "cell_type": "code",
   "execution_count": 125,
   "id": "b135b276",
   "metadata": {},
   "outputs": [],
   "source": [
    "from sklearn.metrics import confusion_matrix"
   ]
  },
  {
   "cell_type": "code",
   "execution_count": 126,
   "id": "6f124fc5",
   "metadata": {},
   "outputs": [
    {
     "data": {
      "text/plain": [
       "array([[ 4,  0],\n",
       "       [ 4, 52]], dtype=int64)"
      ]
     },
     "execution_count": 126,
     "metadata": {},
     "output_type": "execute_result"
    }
   ],
   "source": [
    "lg_m=confusion_matrix(lg_p,y_test)\n",
    "lg_m"
   ]
  },
  {
   "cell_type": "code",
   "execution_count": 127,
   "id": "760eed26",
   "metadata": {},
   "outputs": [
    {
     "data": {
      "text/plain": [
       "0.9333333333333333"
      ]
     },
     "execution_count": 127,
     "metadata": {},
     "output_type": "execute_result"
    }
   ],
   "source": [
    "(4+52)/(4+4+0+52)"
   ]
  },
  {
   "cell_type": "code",
   "execution_count": 128,
   "id": "98f2e9d9",
   "metadata": {},
   "outputs": [
    {
     "data": {
      "image/png": "[encoded data removed]",
      "text/plain": [
       "<Figure size 432x288 with 2 Axes>"
      ]
     },
     "metadata": {},
     "output_type": "display_data"
    }
   ],
   "source": [
    "labels=[0,1]\n",
    "cm=confusion_matrix(lg_p,y_test)\n",
    "disp=ConfusionMatrixDisplay(confusion_matrix=lg_m,display_labels=labels)\n",
    "disp.plot();"
   ]
  },
  {
   "cell_type": "code",
   "execution_count": 129,
   "id": "29558cfc",
   "metadata": {},
   "outputs": [
    {
     "data": {
      "text/plain": [
       "93.33333333333333"
      ]
     },
     "execution_count": 129,
     "metadata": {},
     "output_type": "execute_result"
    }
   ],
   "source": [
    "lg_acc=lg_m.diagonal().sum()/lg_m.sum()*100\n",
    "lg_acc"
   ]
  },
  {
   "cell_type": "code",
   "execution_count": 130,
   "id": "595d81ec",
   "metadata": {},
   "outputs": [],
   "source": [
    "from sklearn.metrics import classification_report"
   ]
  },
  {
   "cell_type": "code",
   "execution_count": 131,
   "id": "17ee52df",
   "metadata": {},
   "outputs": [
    {
     "name": "stdout",
     "output_type": "stream",
     "text": [
      "              precision    recall  f1-score   support\n",
      "\n",
      "           0       0.50      1.00      0.67         4\n",
      "           1       1.00      0.93      0.96        56\n",
      "\n",
      "    accuracy                           0.93        60\n",
      "   macro avg       0.75      0.96      0.81        60\n",
      "weighted avg       0.97      0.93      0.94        60\n",
      "\n"
     ]
    }
   ],
   "source": [
    "print(classification_report(lg_p,y_test))"
   ]
  },
  {
   "cell_type": "code",
   "execution_count": 132,
   "id": "50226b81",
   "metadata": {},
   "outputs": [],
   "source": [
    "from sklearn.metrics import confusion_matrix\n",
    "import seaborn as sns"
   ]
  },
  {
   "cell_type": "code",
   "execution_count": 133,
   "id": "9407898f",
   "metadata": {},
   "outputs": [
    {
     "data": {
      "text/plain": [
       "<Figure size 864x360 with 0 Axes>"
      ]
     },
     "execution_count": 133,
     "metadata": {},
     "output_type": "execute_result"
    },
    {
     "data": {
      "text/plain": [
       "<Figure size 864x360 with 0 Axes>"
      ]
     },
     "metadata": {},
     "output_type": "display_data"
    }
   ],
   "source": [
    "plt.figure(figsize=(12,5))"
   ]
  },
  {
   "cell_type": "code",
   "execution_count": 135,
   "id": "74fc0686",
   "metadata": {},
   "outputs": [
    {
     "data": {
      "text/plain": [
       "<AxesSubplot:>"
      ]
     },
     "execution_count": 135,
     "metadata": {},
     "output_type": "execute_result"
    },
    {
     "data": {
      "image/png": "[encoded data removed]",
      "text/plain": [
       "<Figure size 432x288 with 2 Axes>"
      ]
     },
     "metadata": {},
     "output_type": "display_data"
    }
   ],
   "source": [
    "sns.heatmap(confusion_matrix(lg_p,y_test),annot=True)"
   ]
  },
  {
   "cell_type": "markdown",
   "id": "d50a901d",
   "metadata": {},
   "source": [
    "# Decision Tree"
   ]
  },
  {
   "cell_type": "code",
   "execution_count": 146,
   "id": "2231feef",
   "metadata": {},
   "outputs": [],
   "source": [
    "from sklearn.tree import DecisionTreeClassifier\n",
    "dt1=DecisionTreeClassifier()"
   ]
  },
  {
   "cell_type": "code",
   "execution_count": 147,
   "id": "cb98f642",
   "metadata": {},
   "outputs": [
    {
     "data": {
      "text/plain": [
       "DecisionTreeClassifier()"
      ]
     },
     "execution_count": 147,
     "metadata": {},
     "output_type": "execute_result"
    }
   ],
   "source": [
    "dt1.fit(x_train,y_train)"
   ]
  },
  {
   "cell_type": "code",
   "execution_count": 148,
   "id": "67dfe235",
   "metadata": {},
   "outputs": [
    {
     "data": {
      "text/plain": [
       "array([0, 1, 0, 0, 0, 1, 0, 1, 1, 1, 1, 0, 1, 1, 1, 0, 1, 1, 1, 1, 0, 1,\n",
       "       1, 1, 1, 1, 1, 1, 1, 1, 1, 0, 1, 1, 1, 0, 1, 1, 1, 1, 1, 1, 1, 0,\n",
       "       1, 1, 1, 1, 1, 1, 1, 0, 1, 1, 1, 1, 1, 1, 1, 0])"
      ]
     },
     "execution_count": 148,
     "metadata": {},
     "output_type": "execute_result"
    }
   ],
   "source": [
    "dt1_p=dt1.predict(x_test)\n",
    "dt1_p"
   ]
  },
  {
   "cell_type": "code",
   "execution_count": 149,
   "id": "68851f1c",
   "metadata": {},
   "outputs": [
    {
     "data": {
      "text/plain": [
       "array([[ 7,  6],\n",
       "       [ 1, 46]], dtype=int64)"
      ]
     },
     "execution_count": 149,
     "metadata": {},
     "output_type": "execute_result"
    }
   ],
   "source": [
    "dt1_cf1=confusion_matrix(dt1_p,y_test)\n",
    "dt1_cf1"
   ]
  },
  {
   "cell_type": "code",
   "execution_count": 150,
   "id": "f51dd80a",
   "metadata": {},
   "outputs": [
    {
     "data": {
      "image/png": "[encoded data removed]",
      "text/plain": [
       "<Figure size 432x288 with 2 Axes>"
      ]
     },
     "metadata": {},
     "output_type": "display_data"
    }
   ],
   "source": [
    "labels=[0,1]\n",
    "cm=confusion_matrix(dt1_p,y_test)\n",
    "disp=ConfusionMatrixDisplay(confusion_matrix=dt1_cf1,display_labels=labels)\n",
    "disp.plot();"
   ]
  },
  {
   "cell_type": "code",
   "execution_count": 151,
   "id": "61f31bea",
   "metadata": {},
   "outputs": [
    {
     "data": {
      "text/plain": [
       "88.33333333333333"
      ]
     },
     "execution_count": 151,
     "metadata": {},
     "output_type": "execute_result"
    }
   ],
   "source": [
    "dt1_acc2=dt1_cf1.diagonal().sum()/dt1_cf1.sum()*100\n",
    "dt1_acc2"
   ]
  },
  {
   "cell_type": "code",
   "execution_count": 152,
   "id": "26e30100",
   "metadata": {},
   "outputs": [
    {
     "name": "stdout",
     "output_type": "stream",
     "text": [
      "              precision    recall  f1-score   support\n",
      "\n",
      "           0       0.88      0.54      0.67        13\n",
      "           1       0.88      0.98      0.93        47\n",
      "\n",
      "    accuracy                           0.88        60\n",
      "   macro avg       0.88      0.76      0.80        60\n",
      "weighted avg       0.88      0.88      0.87        60\n",
      "\n"
     ]
    }
   ],
   "source": [
    "print(classification_report(dt1_p,y_test))"
   ]
  },
  {
   "cell_type": "code",
   "execution_count": 153,
   "id": "6bcb6220",
   "metadata": {},
   "outputs": [
    {
     "data": {
      "text/plain": [
       "array([0.01225615, 0.06128077, 0.42716054, 0.04096306, 0.06643594,\n",
       "       0.1087824 , 0.02918132, 0.02042692, 0.05212763, 0.00542027,\n",
       "       0.05031897, 0.02541072, 0.10023531])"
      ]
     },
     "execution_count": 153,
     "metadata": {},
     "output_type": "execute_result"
    }
   ],
   "source": [
    "dt1.feature_importances_"
   ]
  },
  {
   "cell_type": "code",
   "execution_count": 154,
   "id": "6e434ab8",
   "metadata": {},
   "outputs": [
    {
     "data": {
      "text/html": [
       "<div>\n",
       "<style scoped>\n",
       "    .dataframe tbody tr th:only-of-type {\n",
       "        vertical-align: middle;\n",
       "    }\n",
       "\n",
       "    .dataframe tbody tr th {\n",
       "        vertical-align: top;\n",
       "    }\n",
       "\n",
       "    .dataframe thead th {\n",
       "        text-align: right;\n",
       "    }\n",
       "</style>\n",
       "<table border=\"1\" class=\"dataframe\">\n",
       "  <thead>\n",
       "    <tr style=\"text-align: right;\">\n",
       "      <th></th>\n",
       "      <th>Importance</th>\n",
       "      <th>columns</th>\n",
       "    </tr>\n",
       "  </thead>\n",
       "  <tbody>\n",
       "    <tr>\n",
       "      <th>0</th>\n",
       "      <td>0.012256</td>\n",
       "      <td>Gender</td>\n",
       "    </tr>\n",
       "    <tr>\n",
       "      <th>1</th>\n",
       "      <td>0.061281</td>\n",
       "      <td>Age</td>\n",
       "    </tr>\n",
       "    <tr>\n",
       "      <th>2</th>\n",
       "      <td>0.427161</td>\n",
       "      <td>C</td>\n",
       "    </tr>\n",
       "    <tr>\n",
       "      <th>3</th>\n",
       "      <td>0.040963</td>\n",
       "      <td>D</td>\n",
       "    </tr>\n",
       "    <tr>\n",
       "      <th>4</th>\n",
       "      <td>0.066436</td>\n",
       "      <td>E</td>\n",
       "    </tr>\n",
       "    <tr>\n",
       "      <th>5</th>\n",
       "      <td>0.108782</td>\n",
       "      <td>F</td>\n",
       "    </tr>\n",
       "    <tr>\n",
       "      <th>6</th>\n",
       "      <td>0.029181</td>\n",
       "      <td>H</td>\n",
       "    </tr>\n",
       "    <tr>\n",
       "      <th>7</th>\n",
       "      <td>0.020427</td>\n",
       "      <td>I</td>\n",
       "    </tr>\n",
       "    <tr>\n",
       "      <th>8</th>\n",
       "      <td>0.052128</td>\n",
       "      <td>J</td>\n",
       "    </tr>\n",
       "    <tr>\n",
       "      <th>9</th>\n",
       "      <td>0.005420</td>\n",
       "      <td>K</td>\n",
       "    </tr>\n",
       "    <tr>\n",
       "      <th>10</th>\n",
       "      <td>0.050319</td>\n",
       "      <td>L</td>\n",
       "    </tr>\n",
       "    <tr>\n",
       "      <th>11</th>\n",
       "      <td>0.025411</td>\n",
       "      <td>M</td>\n",
       "    </tr>\n",
       "    <tr>\n",
       "      <th>12</th>\n",
       "      <td>0.100235</td>\n",
       "      <td>N</td>\n",
       "    </tr>\n",
       "  </tbody>\n",
       "</table>\n",
       "</div>"
      ],
      "text/plain": [
       "    Importance columns\n",
       "0     0.012256  Gender\n",
       "1     0.061281     Age\n",
       "2     0.427161       C\n",
       "3     0.040963       D\n",
       "4     0.066436       E\n",
       "5     0.108782       F\n",
       "6     0.029181       H\n",
       "7     0.020427       I\n",
       "8     0.052128       J\n",
       "9     0.005420       K\n",
       "10    0.050319       L\n",
       "11    0.025411       M\n",
       "12    0.100235       N"
      ]
     },
     "execution_count": 154,
     "metadata": {},
     "output_type": "execute_result"
    }
   ],
   "source": [
    "dt1_df1=pd.DataFrame({\"Importance\":list(dt1.feature_importances_),\"columns\":list(x)})\n",
    "dt1_df1"
   ]
  },
  {
   "cell_type": "code",
   "execution_count": 155,
   "id": "036f1c5d",
   "metadata": {},
   "outputs": [],
   "source": [
    "from sklearn.metrics import confusion_matrix\n",
    "import seaborn as sns"
   ]
  },
  {
   "cell_type": "code",
   "execution_count": 156,
   "id": "3fa4d221",
   "metadata": {},
   "outputs": [
    {
     "data": {
      "text/plain": [
       "<Figure size 864x360 with 0 Axes>"
      ]
     },
     "execution_count": 156,
     "metadata": {},
     "output_type": "execute_result"
    },
    {
     "data": {
      "text/plain": [
       "<Figure size 864x360 with 0 Axes>"
      ]
     },
     "metadata": {},
     "output_type": "display_data"
    }
   ],
   "source": [
    "plt.figure(figsize=(12,5))"
   ]
  },
  {
   "cell_type": "code",
   "execution_count": 157,
   "id": "720760b3",
   "metadata": {},
   "outputs": [
    {
     "data": {
      "text/plain": [
       "<AxesSubplot:>"
      ]
     },
     "execution_count": 157,
     "metadata": {},
     "output_type": "execute_result"
    },
    {
     "data": {
      "image/png": "[encoded data removed]",
      "text/plain": [
       "<Figure size 432x288 with 2 Axes>"
      ]
     },
     "metadata": {},
     "output_type": "display_data"
    }
   ],
   "source": [
    "sns.heatmap(confusion_matrix(dt1_p,y_test),annot=True)"
   ]
  },
  {
   "cell_type": "markdown",
   "id": "b2e75271",
   "metadata": {},
   "source": [
    "# RandomForest"
   ]
  },
  {
   "cell_type": "code",
   "execution_count": 158,
   "id": "6b999178",
   "metadata": {},
   "outputs": [],
   "source": [
    "from sklearn.ensemble import RandomForestClassifier\n",
    "rf=RandomForestClassifier()"
   ]
  },
  {
   "cell_type": "code",
   "execution_count": 159,
   "id": "9e7fa802",
   "metadata": {},
   "outputs": [
    {
     "data": {
      "text/plain": [
       "RandomForestClassifier()"
      ]
     },
     "execution_count": 159,
     "metadata": {},
     "output_type": "execute_result"
    }
   ],
   "source": [
    "rf.fit(x_train,y_train)"
   ]
  },
  {
   "cell_type": "code",
   "execution_count": 160,
   "id": "6ad35f8d",
   "metadata": {},
   "outputs": [
    {
     "data": {
      "text/plain": [
       "array([0, 1, 0, 0, 0, 1, 1, 1, 1, 1, 1, 0, 1, 1, 1, 1, 1, 1, 1, 1, 0, 1,\n",
       "       1, 1, 1, 1, 1, 1, 1, 1, 1, 1, 1, 1, 1, 0, 1, 1, 1, 1, 1, 1, 1, 0,\n",
       "       1, 1, 1, 1, 1, 1, 1, 1, 1, 1, 1, 1, 1, 1, 1, 1])"
      ]
     },
     "execution_count": 160,
     "metadata": {},
     "output_type": "execute_result"
    }
   ],
   "source": [
    "rf_p=rf.predict(x_test)\n",
    "rf_p"
   ]
  },
  {
   "cell_type": "code",
   "execution_count": 161,
   "id": "3829fde8",
   "metadata": {},
   "outputs": [
    {
     "data": {
      "text/plain": [
       "array([[ 6,  2],\n",
       "       [ 2, 50]], dtype=int64)"
      ]
     },
     "execution_count": 161,
     "metadata": {},
     "output_type": "execute_result"
    }
   ],
   "source": [
    "rf_cf=confusion_matrix(rf_p,y_test)\n",
    "rf_cf"
   ]
  },
  {
   "cell_type": "code",
   "execution_count": 162,
   "id": "a1637138",
   "metadata": {},
   "outputs": [
    {
     "data": {
      "image/png": "[encoded data removed]",
      "text/plain": [
       "<Figure size 432x288 with 2 Axes>"
      ]
     },
     "metadata": {},
     "output_type": "display_data"
    }
   ],
   "source": [
    "labels=[0,1]\n",
    "cm=confusion_matrix(rf_p,y_test)\n",
    "disp=ConfusionMatrixDisplay(confusion_matrix=rf_cf,display_labels=labels)\n",
    "disp.plot();"
   ]
  },
  {
   "cell_type": "code",
   "execution_count": 163,
   "id": "872ddb13",
   "metadata": {},
   "outputs": [
    {
     "data": {
      "text/plain": [
       "93.33333333333333"
      ]
     },
     "execution_count": 163,
     "metadata": {},
     "output_type": "execute_result"
    }
   ],
   "source": [
    "rf_acc=rf_cf.diagonal().sum()/rf_cf.sum()*100\n",
    "rf_acc"
   ]
  },
  {
   "cell_type": "code",
   "execution_count": 164,
   "id": "17e6b906",
   "metadata": {},
   "outputs": [
    {
     "name": "stdout",
     "output_type": "stream",
     "text": [
      "              precision    recall  f1-score   support\n",
      "\n",
      "           0       0.75      0.75      0.75         8\n",
      "           1       0.96      0.96      0.96        52\n",
      "\n",
      "    accuracy                           0.93        60\n",
      "   macro avg       0.86      0.86      0.86        60\n",
      "weighted avg       0.93      0.93      0.93        60\n",
      "\n"
     ]
    }
   ],
   "source": [
    "print(classification_report(rf_p,y_test))"
   ]
  },
  {
   "cell_type": "code",
   "execution_count": 165,
   "id": "0ae9288f",
   "metadata": {},
   "outputs": [
    {
     "data": {
      "text/plain": [
       "array([0.01225615, 0.06128077, 0.42716054, 0.04096306, 0.06643594,\n",
       "       0.1087824 , 0.02918132, 0.02042692, 0.05212763, 0.00542027,\n",
       "       0.05031897, 0.02541072, 0.10023531])"
      ]
     },
     "execution_count": 165,
     "metadata": {},
     "output_type": "execute_result"
    }
   ],
   "source": [
    "dt1.feature_importances_"
   ]
  },
  {
   "cell_type": "code",
   "execution_count": 166,
   "id": "be299883",
   "metadata": {},
   "outputs": [
    {
     "data": {
      "text/html": [
       "<div>\n",
       "<style scoped>\n",
       "    .dataframe tbody tr th:only-of-type {\n",
       "        vertical-align: middle;\n",
       "    }\n",
       "\n",
       "    .dataframe tbody tr th {\n",
       "        vertical-align: top;\n",
       "    }\n",
       "\n",
       "    .dataframe thead th {\n",
       "        text-align: right;\n",
       "    }\n",
       "</style>\n",
       "<table border=\"1\" class=\"dataframe\">\n",
       "  <thead>\n",
       "    <tr style=\"text-align: right;\">\n",
       "      <th></th>\n",
       "      <th>Importance</th>\n",
       "      <th>columns</th>\n",
       "    </tr>\n",
       "  </thead>\n",
       "  <tbody>\n",
       "    <tr>\n",
       "      <th>0</th>\n",
       "      <td>0.028853</td>\n",
       "      <td>Gender</td>\n",
       "    </tr>\n",
       "    <tr>\n",
       "      <th>1</th>\n",
       "      <td>0.049803</td>\n",
       "      <td>Age</td>\n",
       "    </tr>\n",
       "    <tr>\n",
       "      <th>2</th>\n",
       "      <td>0.218530</td>\n",
       "      <td>C</td>\n",
       "    </tr>\n",
       "    <tr>\n",
       "      <th>3</th>\n",
       "      <td>0.147480</td>\n",
       "      <td>D</td>\n",
       "    </tr>\n",
       "    <tr>\n",
       "      <th>4</th>\n",
       "      <td>0.069958</td>\n",
       "      <td>E</td>\n",
       "    </tr>\n",
       "    <tr>\n",
       "      <th>5</th>\n",
       "      <td>0.099637</td>\n",
       "      <td>F</td>\n",
       "    </tr>\n",
       "    <tr>\n",
       "      <th>6</th>\n",
       "      <td>0.041261</td>\n",
       "      <td>H</td>\n",
       "    </tr>\n",
       "    <tr>\n",
       "      <th>7</th>\n",
       "      <td>0.076967</td>\n",
       "      <td>I</td>\n",
       "    </tr>\n",
       "    <tr>\n",
       "      <th>8</th>\n",
       "      <td>0.067939</td>\n",
       "      <td>J</td>\n",
       "    </tr>\n",
       "    <tr>\n",
       "      <th>9</th>\n",
       "      <td>0.025210</td>\n",
       "      <td>K</td>\n",
       "    </tr>\n",
       "    <tr>\n",
       "      <th>10</th>\n",
       "      <td>0.040371</td>\n",
       "      <td>L</td>\n",
       "    </tr>\n",
       "    <tr>\n",
       "      <th>11</th>\n",
       "      <td>0.071445</td>\n",
       "      <td>M</td>\n",
       "    </tr>\n",
       "    <tr>\n",
       "      <th>12</th>\n",
       "      <td>0.062547</td>\n",
       "      <td>N</td>\n",
       "    </tr>\n",
       "  </tbody>\n",
       "</table>\n",
       "</div>"
      ],
      "text/plain": [
       "    Importance columns\n",
       "0     0.028853  Gender\n",
       "1     0.049803     Age\n",
       "2     0.218530       C\n",
       "3     0.147480       D\n",
       "4     0.069958       E\n",
       "5     0.099637       F\n",
       "6     0.041261       H\n",
       "7     0.076967       I\n",
       "8     0.067939       J\n",
       "9     0.025210       K\n",
       "10    0.040371       L\n",
       "11    0.071445       M\n",
       "12    0.062547       N"
      ]
     },
     "execution_count": 166,
     "metadata": {},
     "output_type": "execute_result"
    }
   ],
   "source": [
    "df1=pd.DataFrame({\"Importance\":list(rf.feature_importances_),\"columns\":list(x)})\n",
    "df1"
   ]
  },
  {
   "cell_type": "code",
   "execution_count": 138,
   "id": "dfded83e",
   "metadata": {},
   "outputs": [],
   "source": [
    "from sklearn.metrics import confusion_matrix\n",
    "import seaborn as sns"
   ]
  },
  {
   "cell_type": "code",
   "execution_count": 139,
   "id": "98f54409",
   "metadata": {},
   "outputs": [
    {
     "data": {
      "text/plain": [
       "<Figure size 864x360 with 0 Axes>"
      ]
     },
     "execution_count": 139,
     "metadata": {},
     "output_type": "execute_result"
    },
    {
     "data": {
      "text/plain": [
       "<Figure size 864x360 with 0 Axes>"
      ]
     },
     "metadata": {},
     "output_type": "display_data"
    }
   ],
   "source": [
    "plt.figure(figsize=(12,5))"
   ]
  },
  {
   "cell_type": "code",
   "execution_count": 140,
   "id": "5fd44f5a",
   "metadata": {},
   "outputs": [
    {
     "data": {
      "text/plain": [
       "<AxesSubplot:>"
      ]
     },
     "execution_count": 140,
     "metadata": {},
     "output_type": "execute_result"
    },
    {
     "data": {
      "image/png": "[encoded data removed]",
      "text/plain": [
       "<Figure size 432x288 with 2 Axes>"
      ]
     },
     "metadata": {},
     "output_type": "display_data"
    }
   ],
   "source": [
    "sns.heatmap(confusion_matrix(rf_p,y_test),annot=True)"
   ]
  },
  {
   "cell_type": "code",
   "execution_count": null,
   "id": "30e1ca43",
   "metadata": {},
   "outputs": [],
   "source": []
  },
  {
   "cell_type": "markdown",
   "id": "31ee4351",
   "metadata": {},
   "source": [
    "# KNN"
   ]
  },
  {
   "cell_type": "code",
   "execution_count": 80,
   "id": "b2e1ed86",
   "metadata": {},
   "outputs": [],
   "source": [
    "from sklearn.neighbors import KNeighborsClassifier\n",
    "knn1=KNeighborsClassifier(n_neighbors=5)"
   ]
  },
  {
   "cell_type": "code",
   "execution_count": 81,
   "id": "ccd4b51b",
   "metadata": {},
   "outputs": [
    {
     "data": {
      "text/plain": [
       "KNeighborsClassifier()"
      ]
     },
     "execution_count": 81,
     "metadata": {},
     "output_type": "execute_result"
    }
   ],
   "source": [
    "knn1.fit(x_train,y_train)"
   ]
  },
  {
   "cell_type": "code",
   "execution_count": 82,
   "id": "6a15b70a",
   "metadata": {},
   "outputs": [],
   "source": [
    "k2_p2=knn1.predict(x_test)\n",
    "#k2_p2"
   ]
  },
  {
   "cell_type": "code",
   "execution_count": 83,
   "id": "93eb4716",
   "metadata": {},
   "outputs": [
    {
     "data": {
      "text/plain": [
       "array([[ 2,  0],\n",
       "       [ 6, 52]], dtype=int64)"
      ]
     },
     "execution_count": 83,
     "metadata": {},
     "output_type": "execute_result"
    }
   ],
   "source": [
    "ck1=confusion_matrix(k2_p2,y_test)\n",
    "ck1"
   ]
  },
  {
   "cell_type": "code",
   "execution_count": 84,
   "id": "b8ff2739",
   "metadata": {},
   "outputs": [
    {
     "data": {
      "image/png": "[encoded data removed]",
      "text/plain": [
       "<Figure size 432x288 with 2 Axes>"
      ]
     },
     "metadata": {},
     "output_type": "display_data"
    }
   ],
   "source": [
    "labels=[0,1]\n",
    "cm=confusion_matrix(k2_p2,y_test)\n",
    "disp=ConfusionMatrixDisplay(confusion_matrix=ck1,display_labels=labels)\n",
    "disp.plot();"
   ]
  },
  {
   "cell_type": "code",
   "execution_count": 85,
   "id": "5bbd9abd",
   "metadata": {},
   "outputs": [
    {
     "data": {
      "text/plain": [
       "90.0"
      ]
     },
     "execution_count": 85,
     "metadata": {},
     "output_type": "execute_result"
    }
   ],
   "source": [
    "kacc1=ck1.diagonal().sum()/ck1.sum()*100\n",
    "kacc1"
   ]
  },
  {
   "cell_type": "code",
   "execution_count": 86,
   "id": "6713a28a",
   "metadata": {},
   "outputs": [
    {
     "name": "stdout",
     "output_type": "stream",
     "text": [
      "              precision    recall  f1-score   support\n",
      "\n",
      "           0       0.25      1.00      0.40         2\n",
      "           1       1.00      0.90      0.95        58\n",
      "\n",
      "    accuracy                           0.90        60\n",
      "   macro avg       0.62      0.95      0.67        60\n",
      "weighted avg       0.97      0.90      0.93        60\n",
      "\n"
     ]
    }
   ],
   "source": [
    "print(classification_report(k2_p2,y_test))"
   ]
  },
  {
   "cell_type": "code",
   "execution_count": 87,
   "id": "61111e14",
   "metadata": {},
   "outputs": [],
   "source": [
    "lst=list()"
   ]
  },
  {
   "cell_type": "code",
   "execution_count": 88,
   "id": "c6f25f66",
   "metadata": {},
   "outputs": [],
   "source": [
    "for i in range (1,15):\n",
    "    knn1=KNeighborsClassifier(n_neighbors=i)\n",
    "    knn1.fit(x_train,y_train)\n",
    "    kn_pred=knn1.predict(x_test)\n",
    "    cf_k=confusion_matrix(kn_pred,y_test)\n",
    "    acckn=cf_k.diagonal().sum()/cf_k.sum()*100\n",
    "    lst.append(acckn)"
   ]
  },
  {
   "cell_type": "code",
   "execution_count": 89,
   "id": "3c431e1b",
   "metadata": {},
   "outputs": [
    {
     "data": {
      "image/png": "[encoded data removed]",
      "text/plain": [
       "<Figure size 432x288 with 1 Axes>"
      ]
     },
     "metadata": {},
     "output_type": "display_data"
    }
   ],
   "source": [
    "import matplotlib.pyplot as plt\n",
    "p=plt.plot(lst)"
   ]
  },
  {
   "cell_type": "markdown",
   "id": "3a3a09db",
   "metadata": {},
   "source": [
    "# SVM"
   ]
  },
  {
   "cell_type": "code",
   "execution_count": 90,
   "id": "ae432d65",
   "metadata": {},
   "outputs": [],
   "source": [
    "from sklearn.svm import SVC\n",
    "\n",
    "svc2=SVC()"
   ]
  },
  {
   "cell_type": "code",
   "execution_count": 91,
   "id": "be313380",
   "metadata": {},
   "outputs": [
    {
     "data": {
      "text/plain": [
       "SVC()"
      ]
     },
     "execution_count": 91,
     "metadata": {},
     "output_type": "execute_result"
    }
   ],
   "source": [
    "svc2.fit(x_train,y_train)"
   ]
  },
  {
   "cell_type": "code",
   "execution_count": 92,
   "id": "70791eeb",
   "metadata": {},
   "outputs": [
    {
     "data": {
      "text/plain": [
       "array([0, 1, 1, 1, 1, 1, 1, 1, 1, 1, 1, 1, 1, 1, 1, 1, 1, 1, 1, 1, 1, 1,\n",
       "       1, 1, 1, 1, 1, 1, 1, 1, 1, 1, 1, 1, 1, 1, 1, 1, 1, 1, 1, 1, 1, 1,\n",
       "       1, 1, 1, 1, 1, 1, 1, 1, 1, 1, 1, 1, 1, 1, 1, 1])"
      ]
     },
     "execution_count": 92,
     "metadata": {},
     "output_type": "execute_result"
    }
   ],
   "source": [
    "s_p2=svc2.predict(x_test)\n",
    "s_p2"
   ]
  },
  {
   "cell_type": "code",
   "execution_count": 93,
   "id": "9c388c6a",
   "metadata": {},
   "outputs": [
    {
     "data": {
      "text/plain": [
       "array([[ 1,  0],\n",
       "       [ 7, 52]], dtype=int64)"
      ]
     },
     "execution_count": 93,
     "metadata": {},
     "output_type": "execute_result"
    }
   ],
   "source": [
    "cs2=confusion_matrix(s_p2,y_test)\n",
    "cs2"
   ]
  },
  {
   "cell_type": "code",
   "execution_count": 94,
   "id": "936b04a3",
   "metadata": {},
   "outputs": [
    {
     "data": {
      "image/png": "[encoded data removed]",
      "text/plain": [
       "<Figure size 432x288 with 2 Axes>"
      ]
     },
     "metadata": {},
     "output_type": "display_data"
    }
   ],
   "source": [
    "labels=[0,1]\n",
    "cm=confusion_matrix(s_p2,y_test)\n",
    "disp=ConfusionMatrixDisplay(confusion_matrix=cs2,display_labels=labels)\n",
    "disp.plot();"
   ]
  },
  {
   "cell_type": "code",
   "execution_count": 95,
   "id": "b53bff5d",
   "metadata": {},
   "outputs": [
    {
     "data": {
      "text/plain": [
       "88.33333333333333"
      ]
     },
     "execution_count": 95,
     "metadata": {},
     "output_type": "execute_result"
    }
   ],
   "source": [
    "acc_s2=cs2.diagonal().sum()/cs2.sum()*100\n",
    "acc_s2"
   ]
  },
  {
   "cell_type": "code",
   "execution_count": 96,
   "id": "9810bed7",
   "metadata": {},
   "outputs": [
    {
     "name": "stdout",
     "output_type": "stream",
     "text": [
      "              precision    recall  f1-score   support\n",
      "\n",
      "           0       0.12      1.00      0.22         1\n",
      "           1       1.00      0.88      0.94        59\n",
      "\n",
      "    accuracy                           0.88        60\n",
      "   macro avg       0.56      0.94      0.58        60\n",
      "weighted avg       0.99      0.88      0.93        60\n",
      "\n"
     ]
    }
   ],
   "source": [
    "print(classification_report(s_p2,y_test))"
   ]
  },
  {
   "cell_type": "markdown",
   "id": "66434387",
   "metadata": {},
   "source": [
    "# naive bayes"
   ]
  },
  {
   "cell_type": "code",
   "execution_count": 97,
   "id": "85562f88",
   "metadata": {},
   "outputs": [],
   "source": [
    "from sklearn.naive_bayes import MultinomialNB\n",
    "nb=MultinomialNB()"
   ]
  },
  {
   "cell_type": "code",
   "execution_count": 98,
   "id": "72fba276",
   "metadata": {},
   "outputs": [
    {
     "data": {
      "text/plain": [
       "MultinomialNB()"
      ]
     },
     "execution_count": 98,
     "metadata": {},
     "output_type": "execute_result"
    }
   ],
   "source": [
    "nb.fit(x_train,y_train)"
   ]
  },
  {
   "cell_type": "code",
   "execution_count": 99,
   "id": "1668c233",
   "metadata": {},
   "outputs": [],
   "source": [
    "n_p=nb.predict(x_test)\n",
    "#n_p"
   ]
  },
  {
   "cell_type": "code",
   "execution_count": 100,
   "id": "2ecc9242",
   "metadata": {},
   "outputs": [
    {
     "data": {
      "text/plain": [
       "array([[ 4,  2],\n",
       "       [ 4, 50]], dtype=int64)"
      ]
     },
     "execution_count": 100,
     "metadata": {},
     "output_type": "execute_result"
    }
   ],
   "source": [
    "nc=confusion_matrix(n_p,y_test)\n",
    "nc"
   ]
  },
  {
   "cell_type": "code",
   "execution_count": 101,
   "id": "570c7a04",
   "metadata": {},
   "outputs": [
    {
     "data": {
      "image/png": "[encoded data removed]",
      "text/plain": [
       "<Figure size 432x288 with 2 Axes>"
      ]
     },
     "metadata": {},
     "output_type": "display_data"
    }
   ],
   "source": [
    "labels=[0,1]\n",
    "cm=confusion_matrix(n_p,y_test)\n",
    "disp=ConfusionMatrixDisplay(confusion_matrix=nc,display_labels=labels)\n",
    "disp.plot();"
   ]
  },
  {
   "cell_type": "code",
   "execution_count": 102,
   "id": "4b081aaa",
   "metadata": {},
   "outputs": [
    {
     "data": {
      "text/plain": [
       "90.0"
      ]
     },
     "execution_count": 102,
     "metadata": {},
     "output_type": "execute_result"
    }
   ],
   "source": [
    "n_ac=nc.diagonal().sum()/nc.sum()*100\n",
    "n_ac"
   ]
  },
  {
   "cell_type": "code",
   "execution_count": 103,
   "id": "3a1e96b0",
   "metadata": {},
   "outputs": [
    {
     "name": "stdout",
     "output_type": "stream",
     "text": [
      "              precision    recall  f1-score   support\n",
      "\n",
      "           0       0.50      0.67      0.57         6\n",
      "           1       0.96      0.93      0.94        54\n",
      "\n",
      "    accuracy                           0.90        60\n",
      "   macro avg       0.73      0.80      0.76        60\n",
      "weighted avg       0.92      0.90      0.91        60\n",
      "\n"
     ]
    }
   ],
   "source": [
    "print(classification_report(n_p,y_test))"
   ]
  },
  {
   "cell_type": "code",
   "execution_count": 104,
   "id": "462c6dfe",
   "metadata": {},
   "outputs": [
    {
     "name": "stdout",
     "output_type": "stream",
     "text": [
      "The intercept b0=  [-1.77534188]\n",
      "The coefficient b1=  [[ 0.47613742  0.19269188  2.48899758  0.92761813 -0.0948589   0.05445852\n",
      "  -0.03523251 -0.24650894  0.04399657  0.06261674 -0.11667674 -0.5563141\n",
      "   0.4376783 ]]\n"
     ]
    }
   ],
   "source": [
    "#Implementing Logistic Regression using sklearn\n",
    "modelLogistic = LogisticRegression()\n",
    "modelLogistic.fit(x_train,y_train)\n",
    "#print the regression coefficients\n",
    "\n",
    "print(\"The intercept b0= \", modelLogistic.intercept_)\n",
    "\n",
    "print(\"The coefficient b1= \", modelLogistic.coef_)"
   ]
  },
  {
   "cell_type": "code",
   "execution_count": 105,
   "id": "15d3acad",
   "metadata": {},
   "outputs": [
    {
     "name": "stdout",
     "output_type": "stream",
     "text": [
      "Optimization terminated successfully.\n",
      "         Current function value: 0.287075\n",
      "         Iterations 8\n",
      "                           Logit Regression Results                           \n",
      "==============================================================================\n",
      "Dep. Variable:                      O   No. Observations:                  240\n",
      "Model:                          Logit   Df Residuals:                      226\n",
      "Method:                           MLE   Df Model:                           13\n",
      "Date:                Mon, 03 Apr 2023   Pseudo R-squ.:                  0.4563\n",
      "Time:                        13:53:57   Log-Likelihood:                -68.898\n",
      "converged:                       True   LL-Null:                       -126.71\n",
      "Covariance Type:            nonrobust   LLR p-value:                 1.468e-18\n",
      "==============================================================================\n",
      "                 coef    std err          z      P>|z|      [0.025      0.975]\n",
      "------------------------------------------------------------------------------\n",
      "const         -1.9333      1.184     -1.633      0.102      -4.253       0.387\n",
      "Gender         0.7359      0.483      1.524      0.128      -0.211       1.682\n",
      "Age            0.1715      0.394      0.435      0.664      -0.602       0.945\n",
      "C              3.6921      0.778      4.748      0.000       2.168       5.216\n",
      "D              0.8143      0.328      2.485      0.013       0.172       1.457\n",
      "E             -0.0732      0.158     -0.463      0.643      -0.383       0.237\n",
      "F              0.0594      0.040      1.499      0.134      -0.018       0.137\n",
      "H              0.0353      0.275      0.128      0.898      -0.504       0.575\n",
      "I             -0.2463      0.144     -1.712      0.087      -0.528       0.036\n",
      "J              0.0503      0.158      0.318      0.750      -0.260       0.360\n",
      "K             -0.1839      0.672     -0.274      0.784      -1.500       1.133\n",
      "L             -0.2030      0.172     -1.182      0.237      -0.540       0.134\n",
      "M             -0.7370      0.260     -2.830      0.005      -1.248      -0.227\n",
      "N              0.5055      0.193      2.624      0.009       0.128       0.883\n",
      "==============================================================================\n"
     ]
    }
   ],
   "source": [
    "import statsmodels.api as sm\n",
    "x_train = sm.add_constant(x_train);x_train\n",
    "logit_model=sm.Logit(y_train,x_train);logit_model\n",
    "result=logit_model.fit();result\n",
    "print(result.summary())"
   ]
  },
  {
   "cell_type": "code",
   "execution_count": 106,
   "id": "0ba39485",
   "metadata": {},
   "outputs": [
    {
     "ename": "KeyError",
     "evalue": "\"['G'] not found in axis\"",
     "output_type": "error",
     "traceback": [
      "\u001b[1;31m---------------------------------------------------------------------------\u001b[0m",
      "\u001b[1;31mKeyError\u001b[0m                                  Traceback (most recent call last)",
      "Input \u001b[1;32mIn [106]\u001b[0m, in \u001b[0;36m<cell line: 2>\u001b[1;34m()\u001b[0m\n\u001b[0;32m      1\u001b[0m df\u001b[38;5;241m=\u001b[39mpd\u001b[38;5;241m.\u001b[39mDataFrame(wfh)\n\u001b[1;32m----> 2\u001b[0m \u001b[43mdf\u001b[49m\u001b[38;5;241;43m.\u001b[39;49m\u001b[43mdrop\u001b[49m\u001b[43m(\u001b[49m\u001b[43m[\u001b[49m\u001b[38;5;124;43m\"\u001b[39;49m\u001b[38;5;124;43mE\u001b[39;49m\u001b[38;5;124;43m\"\u001b[39;49m\u001b[43m,\u001b[49m\u001b[38;5;124;43m\"\u001b[39;49m\u001b[38;5;124;43mF\u001b[39;49m\u001b[38;5;124;43m\"\u001b[39;49m\u001b[43m,\u001b[49m\u001b[38;5;124;43m\"\u001b[39;49m\u001b[38;5;124;43mG\u001b[39;49m\u001b[38;5;124;43m\"\u001b[39;49m\u001b[43m,\u001b[49m\u001b[38;5;124;43m\"\u001b[39;49m\u001b[38;5;124;43mH\u001b[39;49m\u001b[38;5;124;43m\"\u001b[39;49m\u001b[43m,\u001b[49m\u001b[38;5;124;43m\"\u001b[39;49m\u001b[38;5;124;43mI\u001b[39;49m\u001b[38;5;124;43m\"\u001b[39;49m\u001b[43m,\u001b[49m\u001b[38;5;124;43m\"\u001b[39;49m\u001b[38;5;124;43mJ\u001b[39;49m\u001b[38;5;124;43m\"\u001b[39;49m\u001b[43m,\u001b[49m\u001b[38;5;124;43m\"\u001b[39;49m\u001b[38;5;124;43mK\u001b[39;49m\u001b[38;5;124;43m\"\u001b[39;49m\u001b[43m,\u001b[49m\u001b[38;5;124;43m\"\u001b[39;49m\u001b[38;5;124;43mL\u001b[39;49m\u001b[38;5;124;43m\"\u001b[39;49m\u001b[43m,\u001b[49m\u001b[38;5;124;43m\"\u001b[39;49m\u001b[38;5;124;43mM\u001b[39;49m\u001b[38;5;124;43m\"\u001b[39;49m\u001b[43m,\u001b[49m\u001b[38;5;124;43m\"\u001b[39;49m\u001b[38;5;124;43mN\u001b[39;49m\u001b[38;5;124;43m\"\u001b[39;49m\u001b[43m]\u001b[49m\u001b[43m,\u001b[49m\u001b[43m \u001b[49m\u001b[43maxis\u001b[49m\u001b[38;5;241;43m=\u001b[39;49m\u001b[38;5;241;43m1\u001b[39;49m\u001b[43m)\u001b[49m\n",
      "File \u001b[1;32m~\\AppData\\Roaming\\Python\\Python39\\site-packages\\pandas\\util\\_decorators.py:311\u001b[0m, in \u001b[0;36mdeprecate_nonkeyword_arguments.<locals>.decorate.<locals>.wrapper\u001b[1;34m(*args, **kwargs)\u001b[0m\n\u001b[0;32m    305\u001b[0m \u001b[38;5;28;01mif\u001b[39;00m \u001b[38;5;28mlen\u001b[39m(args) \u001b[38;5;241m>\u001b[39m num_allow_args:\n\u001b[0;32m    306\u001b[0m     warnings\u001b[38;5;241m.\u001b[39mwarn(\n\u001b[0;32m    307\u001b[0m         msg\u001b[38;5;241m.\u001b[39mformat(arguments\u001b[38;5;241m=\u001b[39marguments),\n\u001b[0;32m    308\u001b[0m         \u001b[38;5;167;01mFutureWarning\u001b[39;00m,\n\u001b[0;32m    309\u001b[0m         stacklevel\u001b[38;5;241m=\u001b[39mstacklevel,\n\u001b[0;32m    310\u001b[0m     )\n\u001b[1;32m--> 311\u001b[0m \u001b[38;5;28;01mreturn\u001b[39;00m func(\u001b[38;5;241m*\u001b[39margs, \u001b[38;5;241m*\u001b[39m\u001b[38;5;241m*\u001b[39mkwargs)\n",
      "File \u001b[1;32m~\\AppData\\Roaming\\Python\\Python39\\site-packages\\pandas\\core\\frame.py:4901\u001b[0m, in \u001b[0;36mDataFrame.drop\u001b[1;34m(self, labels, axis, index, columns, level, inplace, errors)\u001b[0m\n\u001b[0;32m   4769\u001b[0m \u001b[38;5;129m@deprecate_nonkeyword_arguments\u001b[39m(version\u001b[38;5;241m=\u001b[39m\u001b[38;5;28;01mNone\u001b[39;00m, allowed_args\u001b[38;5;241m=\u001b[39m[\u001b[38;5;124m\"\u001b[39m\u001b[38;5;124mself\u001b[39m\u001b[38;5;124m\"\u001b[39m, \u001b[38;5;124m\"\u001b[39m\u001b[38;5;124mlabels\u001b[39m\u001b[38;5;124m\"\u001b[39m])\n\u001b[0;32m   4770\u001b[0m \u001b[38;5;28;01mdef\u001b[39;00m \u001b[38;5;21mdrop\u001b[39m(\n\u001b[0;32m   4771\u001b[0m     \u001b[38;5;28mself\u001b[39m,\n\u001b[1;32m   (...)\u001b[0m\n\u001b[0;32m   4778\u001b[0m     errors: \u001b[38;5;28mstr\u001b[39m \u001b[38;5;241m=\u001b[39m \u001b[38;5;124m\"\u001b[39m\u001b[38;5;124mraise\u001b[39m\u001b[38;5;124m\"\u001b[39m,\n\u001b[0;32m   4779\u001b[0m ):\n\u001b[0;32m   4780\u001b[0m     \u001b[38;5;124;03m\"\"\"\u001b[39;00m\n\u001b[0;32m   4781\u001b[0m \u001b[38;5;124;03m    Drop specified labels from rows or columns.\u001b[39;00m\n\u001b[0;32m   4782\u001b[0m \n\u001b[1;32m   (...)\u001b[0m\n\u001b[0;32m   4899\u001b[0m \u001b[38;5;124;03m            weight  1.0     0.8\u001b[39;00m\n\u001b[0;32m   4900\u001b[0m \u001b[38;5;124;03m    \"\"\"\u001b[39;00m\n\u001b[1;32m-> 4901\u001b[0m     \u001b[38;5;28;01mreturn\u001b[39;00m \u001b[38;5;28;43msuper\u001b[39;49m\u001b[43m(\u001b[49m\u001b[43m)\u001b[49m\u001b[38;5;241;43m.\u001b[39;49m\u001b[43mdrop\u001b[49m\u001b[43m(\u001b[49m\n\u001b[0;32m   4902\u001b[0m \u001b[43m        \u001b[49m\u001b[43mlabels\u001b[49m\u001b[38;5;241;43m=\u001b[39;49m\u001b[43mlabels\u001b[49m\u001b[43m,\u001b[49m\n\u001b[0;32m   4903\u001b[0m \u001b[43m        \u001b[49m\u001b[43maxis\u001b[49m\u001b[38;5;241;43m=\u001b[39;49m\u001b[43maxis\u001b[49m\u001b[43m,\u001b[49m\n\u001b[0;32m   4904\u001b[0m \u001b[43m        \u001b[49m\u001b[43mindex\u001b[49m\u001b[38;5;241;43m=\u001b[39;49m\u001b[43mindex\u001b[49m\u001b[43m,\u001b[49m\n\u001b[0;32m   4905\u001b[0m \u001b[43m        \u001b[49m\u001b[43mcolumns\u001b[49m\u001b[38;5;241;43m=\u001b[39;49m\u001b[43mcolumns\u001b[49m\u001b[43m,\u001b[49m\n\u001b[0;32m   4906\u001b[0m \u001b[43m        \u001b[49m\u001b[43mlevel\u001b[49m\u001b[38;5;241;43m=\u001b[39;49m\u001b[43mlevel\u001b[49m\u001b[43m,\u001b[49m\n\u001b[0;32m   4907\u001b[0m \u001b[43m        \u001b[49m\u001b[43minplace\u001b[49m\u001b[38;5;241;43m=\u001b[39;49m\u001b[43minplace\u001b[49m\u001b[43m,\u001b[49m\n\u001b[0;32m   4908\u001b[0m \u001b[43m        \u001b[49m\u001b[43merrors\u001b[49m\u001b[38;5;241;43m=\u001b[39;49m\u001b[43merrors\u001b[49m\u001b[43m,\u001b[49m\n\u001b[0;32m   4909\u001b[0m \u001b[43m    \u001b[49m\u001b[43m)\u001b[49m\n",
      "File \u001b[1;32m~\\AppData\\Roaming\\Python\\Python39\\site-packages\\pandas\\core\\generic.py:4147\u001b[0m, in \u001b[0;36mNDFrame.drop\u001b[1;34m(self, labels, axis, index, columns, level, inplace, errors)\u001b[0m\n\u001b[0;32m   4145\u001b[0m \u001b[38;5;28;01mfor\u001b[39;00m axis, labels \u001b[38;5;129;01min\u001b[39;00m axes\u001b[38;5;241m.\u001b[39mitems():\n\u001b[0;32m   4146\u001b[0m     \u001b[38;5;28;01mif\u001b[39;00m labels \u001b[38;5;129;01mis\u001b[39;00m \u001b[38;5;129;01mnot\u001b[39;00m \u001b[38;5;28;01mNone\u001b[39;00m:\n\u001b[1;32m-> 4147\u001b[0m         obj \u001b[38;5;241m=\u001b[39m \u001b[43mobj\u001b[49m\u001b[38;5;241;43m.\u001b[39;49m\u001b[43m_drop_axis\u001b[49m\u001b[43m(\u001b[49m\u001b[43mlabels\u001b[49m\u001b[43m,\u001b[49m\u001b[43m \u001b[49m\u001b[43maxis\u001b[49m\u001b[43m,\u001b[49m\u001b[43m \u001b[49m\u001b[43mlevel\u001b[49m\u001b[38;5;241;43m=\u001b[39;49m\u001b[43mlevel\u001b[49m\u001b[43m,\u001b[49m\u001b[43m \u001b[49m\u001b[43merrors\u001b[49m\u001b[38;5;241;43m=\u001b[39;49m\u001b[43merrors\u001b[49m\u001b[43m)\u001b[49m\n\u001b[0;32m   4149\u001b[0m \u001b[38;5;28;01mif\u001b[39;00m inplace:\n\u001b[0;32m   4150\u001b[0m     \u001b[38;5;28mself\u001b[39m\u001b[38;5;241m.\u001b[39m_update_inplace(obj)\n",
      "File \u001b[1;32m~\\AppData\\Roaming\\Python\\Python39\\site-packages\\pandas\\core\\generic.py:4182\u001b[0m, in \u001b[0;36mNDFrame._drop_axis\u001b[1;34m(self, labels, axis, level, errors)\u001b[0m\n\u001b[0;32m   4180\u001b[0m         new_axis \u001b[38;5;241m=\u001b[39m axis\u001b[38;5;241m.\u001b[39mdrop(labels, level\u001b[38;5;241m=\u001b[39mlevel, errors\u001b[38;5;241m=\u001b[39merrors)\n\u001b[0;32m   4181\u001b[0m     \u001b[38;5;28;01melse\u001b[39;00m:\n\u001b[1;32m-> 4182\u001b[0m         new_axis \u001b[38;5;241m=\u001b[39m \u001b[43maxis\u001b[49m\u001b[38;5;241;43m.\u001b[39;49m\u001b[43mdrop\u001b[49m\u001b[43m(\u001b[49m\u001b[43mlabels\u001b[49m\u001b[43m,\u001b[49m\u001b[43m \u001b[49m\u001b[43merrors\u001b[49m\u001b[38;5;241;43m=\u001b[39;49m\u001b[43merrors\u001b[49m\u001b[43m)\u001b[49m\n\u001b[0;32m   4183\u001b[0m     result \u001b[38;5;241m=\u001b[39m \u001b[38;5;28mself\u001b[39m\u001b[38;5;241m.\u001b[39mreindex(\u001b[38;5;241m*\u001b[39m\u001b[38;5;241m*\u001b[39m{axis_name: new_axis})\n\u001b[0;32m   4185\u001b[0m \u001b[38;5;66;03m# Case for non-unique axis\u001b[39;00m\n\u001b[0;32m   4186\u001b[0m \u001b[38;5;28;01melse\u001b[39;00m:\n",
      "File \u001b[1;32m~\\AppData\\Roaming\\Python\\Python39\\site-packages\\pandas\\core\\indexes\\base.py:6018\u001b[0m, in \u001b[0;36mIndex.drop\u001b[1;34m(self, labels, errors)\u001b[0m\n\u001b[0;32m   6016\u001b[0m \u001b[38;5;28;01mif\u001b[39;00m mask\u001b[38;5;241m.\u001b[39many():\n\u001b[0;32m   6017\u001b[0m     \u001b[38;5;28;01mif\u001b[39;00m errors \u001b[38;5;241m!=\u001b[39m \u001b[38;5;124m\"\u001b[39m\u001b[38;5;124mignore\u001b[39m\u001b[38;5;124m\"\u001b[39m:\n\u001b[1;32m-> 6018\u001b[0m         \u001b[38;5;28;01mraise\u001b[39;00m \u001b[38;5;167;01mKeyError\u001b[39;00m(\u001b[38;5;124mf\u001b[39m\u001b[38;5;124m\"\u001b[39m\u001b[38;5;132;01m{\u001b[39;00mlabels[mask]\u001b[38;5;132;01m}\u001b[39;00m\u001b[38;5;124m not found in axis\u001b[39m\u001b[38;5;124m\"\u001b[39m)\n\u001b[0;32m   6019\u001b[0m     indexer \u001b[38;5;241m=\u001b[39m indexer[\u001b[38;5;241m~\u001b[39mmask]\n\u001b[0;32m   6020\u001b[0m \u001b[38;5;28;01mreturn\u001b[39;00m \u001b[38;5;28mself\u001b[39m\u001b[38;5;241m.\u001b[39mdelete(indexer)\n",
      "\u001b[1;31mKeyError\u001b[0m: \"['G'] not found in axis\""
     ]
    }
   ],
   "source": [
    "df=pd.DataFrame(wfh)\n",
    "df.drop([\"E\",\"F\",\"G\",\"H\",\"I\",\"J\",\"K\",\"L\",\"M\",\"N\"], axis=1)"
   ]
  },
  {
   "cell_type": "code",
   "execution_count": null,
   "id": "23618f7c",
   "metadata": {},
   "outputs": [],
   "source": [
    "x1=df.iloc[:,0:4]\n",
    "y1=df.iloc[:,-1]\n"
   ]
  },
  {
   "cell_type": "code",
   "execution_count": null,
   "id": "301a682c",
   "metadata": {},
   "outputs": [],
   "source": [
    "from sklearn.model_selection import train_test_split"
   ]
  },
  {
   "cell_type": "code",
   "execution_count": null,
   "id": "87ad3fc3",
   "metadata": {},
   "outputs": [],
   "source": [
    "x1_train,x1_test,y1_train,y1_test=train_test_split(x1,y1,test_size=.2,random_state=100)"
   ]
  },
  {
   "cell_type": "code",
   "execution_count": null,
   "id": "1f1bceb0",
   "metadata": {},
   "outputs": [],
   "source": [
    "x1_train.shape,x1_test.shape,y1_train.shape,y1_test.shape"
   ]
  },
  {
   "cell_type": "code",
   "execution_count": null,
   "id": "a82de5a1",
   "metadata": {},
   "outputs": [],
   "source": [
    "from sklearn.linear_model import LogisticRegression\n",
    "lg=LogisticRegression()"
   ]
  },
  {
   "cell_type": "code",
   "execution_count": null,
   "id": "eefaa2cf",
   "metadata": {},
   "outputs": [],
   "source": [
    "lg.fit(x1_train,y1_train)"
   ]
  },
  {
   "cell_type": "code",
   "execution_count": null,
   "id": "9171df11",
   "metadata": {},
   "outputs": [],
   "source": [
    "lg_p=lg.predict(x1_test)\n",
    "lg_p"
   ]
  },
  {
   "cell_type": "code",
   "execution_count": null,
   "id": "1c86a28a",
   "metadata": {},
   "outputs": [],
   "source": [
    "from sklearn.metrics import confusion_matrix\n"
   ]
  },
  {
   "cell_type": "code",
   "execution_count": null,
   "id": "d080afba",
   "metadata": {},
   "outputs": [],
   "source": [
    "lg_m=confusion_matrix(lg_p,y1_test)\n",
    "lg_m"
   ]
  },
  {
   "cell_type": "code",
   "execution_count": null,
   "id": "fc5b6c54",
   "metadata": {},
   "outputs": [],
   "source": [
    "(3+24)/(3+1+2+24)"
   ]
  },
  {
   "cell_type": "code",
   "execution_count": null,
   "id": "ccc27910",
   "metadata": {},
   "outputs": [],
   "source": [
    "lg_acc=lg_m.diagonal().sum()/lg_m.sum()*100\n",
    "lg_acc"
   ]
  },
  {
   "cell_type": "code",
   "execution_count": null,
   "id": "cbd1ccae",
   "metadata": {},
   "outputs": [],
   "source": [
    "from sklearn.metrics import classification_report"
   ]
  },
  {
   "cell_type": "code",
   "execution_count": null,
   "id": "3c161dda",
   "metadata": {},
   "outputs": [],
   "source": [
    "print(classification_report(lg_p,y_test))"
   ]
  },
  {
   "cell_type": "code",
   "execution_count": null,
   "id": "eca0756c",
   "metadata": {},
   "outputs": [],
   "source": [
    "df1=pd.DataFrame(wfh)\n",
    "df1.drop([\"C\",\"D\",\"E\",\"F\",\"G\",\"H\",\"I\",\"J\",\"K\",\"L\",\"M\"], axis=1)"
   ]
  },
  {
   "cell_type": "code",
   "execution_count": null,
   "id": "70badc78",
   "metadata": {},
   "outputs": [],
   "source": [
    "x4=df1.iloc[:,0:3]\n",
    "y4=df1.iloc[:,-1]\n"
   ]
  },
  {
   "cell_type": "code",
   "execution_count": null,
   "id": "21bd4e73",
   "metadata": {},
   "outputs": [],
   "source": [
    "from sklearn.model_selection import train_test_split"
   ]
  },
  {
   "cell_type": "code",
   "execution_count": null,
   "id": "75c9b6fc",
   "metadata": {},
   "outputs": [],
   "source": [
    "x4_train,x4_test,y4_train,y4_test=train_test_split(x4,y4,test_size=.2,random_state=100)"
   ]
  },
  {
   "cell_type": "code",
   "execution_count": null,
   "id": "4a4e6527",
   "metadata": {},
   "outputs": [],
   "source": [
    "x4_train.shape,x4_test.shape,y4_train.shape,y4_test.shape"
   ]
  },
  {
   "cell_type": "code",
   "execution_count": null,
   "id": "e3512012",
   "metadata": {},
   "outputs": [],
   "source": [
    "from sklearn.linear_model import LogisticRegression\n",
    "lg=LogisticRegression()"
   ]
  },
  {
   "cell_type": "code",
   "execution_count": null,
   "id": "adc54ef8",
   "metadata": {},
   "outputs": [],
   "source": [
    "lg.fit(x4_train,y4_train)"
   ]
  },
  {
   "cell_type": "code",
   "execution_count": null,
   "id": "8d2ecc73",
   "metadata": {},
   "outputs": [],
   "source": [
    "lg_p=lg.predict(x4_test)\n",
    "lg_p"
   ]
  },
  {
   "cell_type": "code",
   "execution_count": null,
   "id": "0a2ffa48",
   "metadata": {},
   "outputs": [],
   "source": [
    "from sklearn.metrics import confusion_matrix\n"
   ]
  },
  {
   "cell_type": "code",
   "execution_count": null,
   "id": "5b9b755a",
   "metadata": {},
   "outputs": [],
   "source": [
    "lg_m=confusion_matrix(lg_p,y4_test)\n",
    "lg_m"
   ]
  },
  {
   "cell_type": "markdown",
   "id": "f7dace94",
   "metadata": {},
   "source": [
    "v=(4+52)/(4+4+52)=v"
   ]
  },
  {
   "cell_type": "code",
   "execution_count": null,
   "id": "30596fc9",
   "metadata": {},
   "outputs": [],
   "source": [
    "lg_acc=lg_m.diagonal().sum()/lg_m.sum()*100\n",
    "lg_acc"
   ]
  },
  {
   "cell_type": "code",
   "execution_count": null,
   "id": "f04530a4",
   "metadata": {},
   "outputs": [],
   "source": [
    "from sklearn.metrics import classification_report"
   ]
  },
  {
   "cell_type": "code",
   "execution_count": 107,
   "id": "9b304983",
   "metadata": {},
   "outputs": [
    {
     "name": "stdout",
     "output_type": "stream",
     "text": [
      "              precision    recall  f1-score   support\n",
      "\n",
      "           0       0.50      1.00      0.67         4\n",
      "           1       1.00      0.93      0.96        56\n",
      "\n",
      "    accuracy                           0.93        60\n",
      "   macro avg       0.75      0.96      0.81        60\n",
      "weighted avg       0.97      0.93      0.94        60\n",
      "\n"
     ]
    }
   ],
   "source": [
    "print(classification_report(lg_p,y_test))"
   ]
  },
  {
   "cell_type": "code",
   "execution_count": 108,
   "id": "97acc99e",
   "metadata": {},
   "outputs": [
    {
     "data": {
      "text/html": [
       "<div>\n",
       "<style scoped>\n",
       "    .dataframe tbody tr th:only-of-type {\n",
       "        vertical-align: middle;\n",
       "    }\n",
       "\n",
       "    .dataframe tbody tr th {\n",
       "        vertical-align: top;\n",
       "    }\n",
       "\n",
       "    .dataframe thead th {\n",
       "        text-align: right;\n",
       "    }\n",
       "</style>\n",
       "<table border=\"1\" class=\"dataframe\">\n",
       "  <thead>\n",
       "    <tr style=\"text-align: right;\">\n",
       "      <th></th>\n",
       "      <th>Gender</th>\n",
       "      <th>Age</th>\n",
       "      <th>F</th>\n",
       "      <th>H</th>\n",
       "      <th>I</th>\n",
       "      <th>J</th>\n",
       "      <th>O</th>\n",
       "    </tr>\n",
       "  </thead>\n",
       "  <tbody>\n",
       "    <tr>\n",
       "      <th>0</th>\n",
       "      <td>0</td>\n",
       "      <td>0</td>\n",
       "      <td>11</td>\n",
       "      <td>2</td>\n",
       "      <td>0</td>\n",
       "      <td>1</td>\n",
       "      <td>1</td>\n",
       "    </tr>\n",
       "    <tr>\n",
       "      <th>1</th>\n",
       "      <td>0</td>\n",
       "      <td>0</td>\n",
       "      <td>0</td>\n",
       "      <td>0</td>\n",
       "      <td>0</td>\n",
       "      <td>4</td>\n",
       "      <td>1</td>\n",
       "    </tr>\n",
       "    <tr>\n",
       "      <th>2</th>\n",
       "      <td>1</td>\n",
       "      <td>1</td>\n",
       "      <td>18</td>\n",
       "      <td>0</td>\n",
       "      <td>1</td>\n",
       "      <td>3</td>\n",
       "      <td>1</td>\n",
       "    </tr>\n",
       "    <tr>\n",
       "      <th>3</th>\n",
       "      <td>1</td>\n",
       "      <td>0</td>\n",
       "      <td>12</td>\n",
       "      <td>1</td>\n",
       "      <td>0</td>\n",
       "      <td>0</td>\n",
       "      <td>1</td>\n",
       "    </tr>\n",
       "    <tr>\n",
       "      <th>4</th>\n",
       "      <td>0</td>\n",
       "      <td>1</td>\n",
       "      <td>0</td>\n",
       "      <td>0</td>\n",
       "      <td>0</td>\n",
       "      <td>1</td>\n",
       "      <td>1</td>\n",
       "    </tr>\n",
       "    <tr>\n",
       "      <th>...</th>\n",
       "      <td>...</td>\n",
       "      <td>...</td>\n",
       "      <td>...</td>\n",
       "      <td>...</td>\n",
       "      <td>...</td>\n",
       "      <td>...</td>\n",
       "      <td>...</td>\n",
       "    </tr>\n",
       "    <tr>\n",
       "      <th>295</th>\n",
       "      <td>0</td>\n",
       "      <td>0</td>\n",
       "      <td>5</td>\n",
       "      <td>0</td>\n",
       "      <td>0</td>\n",
       "      <td>4</td>\n",
       "      <td>1</td>\n",
       "    </tr>\n",
       "    <tr>\n",
       "      <th>296</th>\n",
       "      <td>1</td>\n",
       "      <td>0</td>\n",
       "      <td>7</td>\n",
       "      <td>1</td>\n",
       "      <td>4</td>\n",
       "      <td>1</td>\n",
       "      <td>0</td>\n",
       "    </tr>\n",
       "    <tr>\n",
       "      <th>297</th>\n",
       "      <td>0</td>\n",
       "      <td>0</td>\n",
       "      <td>3</td>\n",
       "      <td>1</td>\n",
       "      <td>0</td>\n",
       "      <td>1</td>\n",
       "      <td>1</td>\n",
       "    </tr>\n",
       "    <tr>\n",
       "      <th>298</th>\n",
       "      <td>0</td>\n",
       "      <td>1</td>\n",
       "      <td>7</td>\n",
       "      <td>1</td>\n",
       "      <td>3</td>\n",
       "      <td>1</td>\n",
       "      <td>1</td>\n",
       "    </tr>\n",
       "    <tr>\n",
       "      <th>299</th>\n",
       "      <td>0</td>\n",
       "      <td>2</td>\n",
       "      <td>11</td>\n",
       "      <td>1</td>\n",
       "      <td>0</td>\n",
       "      <td>1</td>\n",
       "      <td>0</td>\n",
       "    </tr>\n",
       "  </tbody>\n",
       "</table>\n",
       "<p>300 rows × 7 columns</p>\n",
       "</div>"
      ],
      "text/plain": [
       "     Gender  Age   F  H  I  J  O\n",
       "0         0    0  11  2  0  1  1\n",
       "1         0    0   0  0  0  4  1\n",
       "2         1    1  18  0  1  3  1\n",
       "3         1    0  12  1  0  0  1\n",
       "4         0    1   0  0  0  1  1\n",
       "..      ...  ...  .. .. .. .. ..\n",
       "295       0    0   5  0  0  4  1\n",
       "296       1    0   7  1  4  1  0\n",
       "297       0    0   3  1  0  1  1\n",
       "298       0    1   7  1  3  1  1\n",
       "299       0    2  11  1  0  1  0\n",
       "\n",
       "[300 rows x 7 columns]"
      ]
     },
     "execution_count": 108,
     "metadata": {},
     "output_type": "execute_result"
    }
   ],
   "source": [
    "df3=pd.DataFrame(wfh)\n",
    "df3.drop([\"C\",\"D\",\"E\",\"K\",\"L\",\"M\",\"N\"], axis=1)"
   ]
  },
  {
   "cell_type": "code",
   "execution_count": 109,
   "id": "df258cb0",
   "metadata": {},
   "outputs": [],
   "source": [
    "x3=df3.iloc[:,0:7]\n",
    "y3=df3.iloc[:,-1]\n"
   ]
  },
  {
   "cell_type": "code",
   "execution_count": 110,
   "id": "89bdab1f",
   "metadata": {},
   "outputs": [],
   "source": [
    "from sklearn.model_selection import train_test_split"
   ]
  },
  {
   "cell_type": "code",
   "execution_count": 111,
   "id": "93a2b4ce",
   "metadata": {},
   "outputs": [],
   "source": [
    "x3_train,x3_test,y3_train,y3_test=train_test_split(x3,y3,test_size=.2,random_state=100)"
   ]
  },
  {
   "cell_type": "code",
   "execution_count": 112,
   "id": "eab2a0ea",
   "metadata": {},
   "outputs": [
    {
     "data": {
      "text/plain": [
       "((240, 7), (60, 7), (240,), (60,))"
      ]
     },
     "execution_count": 112,
     "metadata": {},
     "output_type": "execute_result"
    }
   ],
   "source": [
    "x3_train.shape,x3_test.shape,y3_train.shape,y3_test.shape"
   ]
  },
  {
   "cell_type": "code",
   "execution_count": 113,
   "id": "487e749f",
   "metadata": {},
   "outputs": [],
   "source": [
    "from sklearn.linear_model import LogisticRegression\n",
    "lg=LogisticRegression()"
   ]
  },
  {
   "cell_type": "code",
   "execution_count": 114,
   "id": "1173c898",
   "metadata": {},
   "outputs": [
    {
     "data": {
      "text/plain": [
       "LogisticRegression()"
      ]
     },
     "execution_count": 114,
     "metadata": {},
     "output_type": "execute_result"
    }
   ],
   "source": [
    "lg.fit(x3_train,y3_train)"
   ]
  },
  {
   "cell_type": "code",
   "execution_count": 115,
   "id": "8b910f4d",
   "metadata": {},
   "outputs": [
    {
     "data": {
      "text/plain": [
       "array([0, 1, 0, 1, 1, 1, 1, 1, 1, 1, 1, 1, 1, 1, 1, 1, 1, 1, 1, 1, 0, 1,\n",
       "       1, 1, 1, 1, 1, 1, 1, 1, 1, 1, 1, 1, 1, 0, 1, 1, 1, 1, 1, 1, 1, 1,\n",
       "       1, 1, 1, 1, 1, 1, 1, 1, 1, 1, 1, 1, 1, 1, 1, 1])"
      ]
     },
     "execution_count": 115,
     "metadata": {},
     "output_type": "execute_result"
    }
   ],
   "source": [
    "lg_p=lg.predict(x3_test)\n",
    "lg_p"
   ]
  },
  {
   "cell_type": "code",
   "execution_count": 116,
   "id": "5f0a0660",
   "metadata": {},
   "outputs": [],
   "source": [
    "from sklearn.metrics import confusion_matrix\n"
   ]
  },
  {
   "cell_type": "code",
   "execution_count": 117,
   "id": "95c4f542",
   "metadata": {},
   "outputs": [
    {
     "data": {
      "text/plain": [
       "array([[ 4,  0],\n",
       "       [ 4, 52]], dtype=int64)"
      ]
     },
     "execution_count": 117,
     "metadata": {},
     "output_type": "execute_result"
    }
   ],
   "source": [
    "lg_m=confusion_matrix(lg_p,y3_test)\n",
    "lg_m"
   ]
  },
  {
   "cell_type": "code",
   "execution_count": 118,
   "id": "a018c01a",
   "metadata": {},
   "outputs": [
    {
     "data": {
      "text/plain": [
       "93.33333333333333"
      ]
     },
     "execution_count": 118,
     "metadata": {},
     "output_type": "execute_result"
    }
   ],
   "source": [
    "lg_acc=lg_m.diagonal().sum()/lg_m.sum()*100\n",
    "lg_acc"
   ]
  },
  {
   "cell_type": "code",
   "execution_count": 119,
   "id": "71450e50",
   "metadata": {},
   "outputs": [],
   "source": [
    "from sklearn.metrics import classification_report"
   ]
  },
  {
   "cell_type": "code",
   "execution_count": 120,
   "id": "ad684362",
   "metadata": {},
   "outputs": [
    {
     "name": "stdout",
     "output_type": "stream",
     "text": [
      "              precision    recall  f1-score   support\n",
      "\n",
      "           0       0.50      1.00      0.67         4\n",
      "           1       1.00      0.93      0.96        56\n",
      "\n",
      "    accuracy                           0.93        60\n",
      "   macro avg       0.75      0.96      0.81        60\n",
      "weighted avg       0.97      0.93      0.94        60\n",
      "\n"
     ]
    }
   ],
   "source": [
    "print(classification_report(lg_p,y3_test))"
   ]
  },
  {
   "cell_type": "code",
   "execution_count": 121,
   "id": "bb198aaf",
   "metadata": {},
   "outputs": [
    {
     "data": {
      "text/html": [
       "<div>\n",
       "<style scoped>\n",
       "    .dataframe tbody tr th:only-of-type {\n",
       "        vertical-align: middle;\n",
       "    }\n",
       "\n",
       "    .dataframe tbody tr th {\n",
       "        vertical-align: top;\n",
       "    }\n",
       "\n",
       "    .dataframe thead th {\n",
       "        text-align: right;\n",
       "    }\n",
       "</style>\n",
       "<table border=\"1\" class=\"dataframe\">\n",
       "  <thead>\n",
       "    <tr style=\"text-align: right;\">\n",
       "      <th></th>\n",
       "      <th>Gender</th>\n",
       "      <th>Yes</th>\n",
       "      <th>No</th>\n",
       "    </tr>\n",
       "  </thead>\n",
       "  <tbody>\n",
       "    <tr>\n",
       "      <th>0</th>\n",
       "      <td>Male</td>\n",
       "      <td>130</td>\n",
       "      <td>30</td>\n",
       "    </tr>\n",
       "    <tr>\n",
       "      <th>1</th>\n",
       "      <td>Women</td>\n",
       "      <td>109</td>\n",
       "      <td>31</td>\n",
       "    </tr>\n",
       "  </tbody>\n",
       "</table>\n",
       "</div>"
      ],
      "text/plain": [
       "  Gender  Yes  No\n",
       "0   Male  130  30\n",
       "1  Women  109  31"
      ]
     },
     "execution_count": 121,
     "metadata": {},
     "output_type": "execute_result"
    }
   ],
   "source": [
    "data=pd.DataFrame([[\"Male\",130,30],[\"Women\",109,31]],columns=[\"Gender\",\"Yes\",\"No\"]);data"
   ]
  },
  {
   "cell_type": "code",
   "execution_count": 122,
   "id": "51fcce2c",
   "metadata": {},
   "outputs": [
    {
     "data": {
      "text/plain": [
       "array([[130,  30],\n",
       "       [109,  31]], dtype=int64)"
      ]
     },
     "execution_count": 122,
     "metadata": {},
     "output_type": "execute_result"
    }
   ],
   "source": [
    "data.iloc[:,1:].values"
   ]
  },
  {
   "cell_type": "code",
   "execution_count": 123,
   "id": "48ee825c",
   "metadata": {},
   "outputs": [
    {
     "name": "stdout",
     "output_type": "stream",
     "text": [
      "The Chi-Square value is 0.342.\n",
      "Degree of freedom is 1.\n",
      "Expected table value is \n",
      " [[127.46666667  32.53333333]\n",
      " [111.53333333  28.46666667]]\n"
     ]
    }
   ],
   "source": [
    "from scipy.stats  import chi2_contingency\n",
    "stat, p, dof, expected = chi2_contingency(data.iloc[:,1:].values)\n",
    "print('The Chi-Square value is {:.3f}.\\nDegree of freedom is {}.\\nExpected table value is \\n {}'.format(stat,dof,expected))"
   ]
  },
  {
   "cell_type": "code",
   "execution_count": 124,
   "id": "87a0fc2f",
   "metadata": {},
   "outputs": [
    {
     "data": {
      "text/html": [
       "<div>\n",
       "<style scoped>\n",
       "    .dataframe tbody tr th:only-of-type {\n",
       "        vertical-align: middle;\n",
       "    }\n",
       "\n",
       "    .dataframe tbody tr th {\n",
       "        vertical-align: top;\n",
       "    }\n",
       "\n",
       "    .dataframe thead th {\n",
       "        text-align: right;\n",
       "    }\n",
       "</style>\n",
       "<table border=\"1\" class=\"dataframe\">\n",
       "  <thead>\n",
       "    <tr style=\"text-align: right;\">\n",
       "      <th></th>\n",
       "      <th>Age</th>\n",
       "      <th>Yes</th>\n",
       "      <th>No</th>\n",
       "    </tr>\n",
       "  </thead>\n",
       "  <tbody>\n",
       "    <tr>\n",
       "      <th>0</th>\n",
       "      <td>18-25</td>\n",
       "      <td>106</td>\n",
       "      <td>30</td>\n",
       "    </tr>\n",
       "    <tr>\n",
       "      <th>1</th>\n",
       "      <td>25-50</td>\n",
       "      <td>124</td>\n",
       "      <td>22</td>\n",
       "    </tr>\n",
       "    <tr>\n",
       "      <th>2</th>\n",
       "      <td>above 50</td>\n",
       "      <td>9</td>\n",
       "      <td>9</td>\n",
       "    </tr>\n",
       "  </tbody>\n",
       "</table>\n",
       "</div>"
      ],
      "text/plain": [
       "        Age  Yes  No\n",
       "0     18-25  106  30\n",
       "1     25-50  124  22\n",
       "2  above 50    9   9"
      ]
     },
     "execution_count": 124,
     "metadata": {},
     "output_type": "execute_result"
    }
   ],
   "source": [
    "data1=pd.DataFrame([[\"18-25\",106,30],[\"25-50\",124,22],[\"above 50\",9,9]],columns=[\"Age\",\"Yes\",\"No\"]);data1"
   ]
  },
  {
   "cell_type": "code",
   "execution_count": 125,
   "id": "e1448725",
   "metadata": {},
   "outputs": [
    {
     "data": {
      "text/plain": [
       "array([[106,  30],\n",
       "       [124,  22],\n",
       "       [  9,   9]], dtype=int64)"
      ]
     },
     "execution_count": 125,
     "metadata": {},
     "output_type": "execute_result"
    }
   ],
   "source": [
    "data1.iloc[:,1:].values"
   ]
  },
  {
   "cell_type": "code",
   "execution_count": 126,
   "id": "68340241",
   "metadata": {},
   "outputs": [
    {
     "name": "stdout",
     "output_type": "stream",
     "text": [
      "The Chi-Square value is 12.528.\n",
      "Degree of freedom is 2.\n",
      "Expected table value is \n",
      " [[108.34666667  27.65333333]\n",
      " [116.31333333  29.68666667]\n",
      " [ 14.34         3.66      ]]\n"
     ]
    }
   ],
   "source": [
    "from scipy.stats  import chi2_contingency\n",
    "stat, p, dof, expected = chi2_contingency(data1.iloc[:,1:].values)\n",
    "print('The Chi-Square value is {:.3f}.\\nDegree of freedom is {}.\\nExpected table value is \\n {}'.format(stat,dof,expected))"
   ]
  },
  {
   "cell_type": "code",
   "execution_count": 127,
   "id": "42eacebf",
   "metadata": {},
   "outputs": [
    {
     "data": {
      "image/png": "[encoded data removed]",
      "text/plain": [
       "<Figure size 1080x720 with 1 Axes>"
      ]
     },
     "metadata": {},
     "output_type": "display_data"
    }
   ],
   "source": [
    "from scipy import stats\n",
    "import numpy as np\n",
    "import matplotlib.pyplot as plt\n",
    "\n",
    "x = np.linspace(0, 10, 100)\n",
    "# f=fig.figure(figsize=(2, 2))\n",
    "\n",
    "fig,ax = plt.subplots(1,1, figsize=(15,10))\n",
    "\n",
    "plt.axhline(y=0.05, xmin=0, xmax= 10,color='black')\n",
    "\n",
    "\n",
    "deg_of_freedom = [1, 2, 3, 4, 7, 6,8]\n",
    "for df in deg_of_freedom:\n",
    "  ax.plot(x, stats.chi2.pdf(x, df), label='df = '+ str(df))\n",
    "\n",
    "\n",
    "ax.set_xlabel('Value',fontsize=12, fontweight='bold')\n",
    "ax.set_ylabel('Probability Distribution',fontsize=12,fontweight='bold')\n",
    "ax.set_title('Chi-Square Distribution',fontsize=16,fontweight='bold')\n",
    "\n",
    "plt.xlim(0, 10)\n",
    "plt.ylim(0, 0.6)\n",
    "\n",
    "\n",
    "plt.legend()\n",
    "plt.show()\n"
   ]
  },
  {
   "cell_type": "code",
   "execution_count": 128,
   "id": "21098aa6",
   "metadata": {},
   "outputs": [
    {
     "data": {
      "text/plain": [
       "(0.0, 0.6)"
      ]
     },
     "execution_count": 128,
     "metadata": {},
     "output_type": "execute_result"
    },
    {
     "data": {
      "image/png": "[encoded data removed]",
      "text/plain": [
       "<Figure size 1080x720 with 1 Axes>"
      ]
     },
     "metadata": {},
     "output_type": "display_data"
    }
   ],
   "source": [
    "from scipy import stats\n",
    "import numpy as np\n",
    "import matplotlib.pyplot as plt\n",
    "\n",
    "x = np.linspace(0, 10, 100)\n",
    "\n",
    "\n",
    "fig,ax = plt.subplots(1,1, figsize=(15,10))\n",
    "\n",
    "#plotting vertical line for critical value \n",
    "plt.axvline(x=stats.chi2.isf(0.05,dof), ymin=0, ymax= 0.2,label='X-Critical',color='black')\n",
    "\n",
    "#plotting vertical line for calculated value. \n",
    "plt.axvline(x=stat, ymin=0, ymax= 0.3,label='X-calculated',color='blue')\n",
    "\n",
    "#plotting distribution graph for our calculated degrees of freedom\n",
    "ax.plot(x, stats.chi2.pdf(x, dof), label='df = '+ str(dof), color='red')\n",
    "\n",
    "ax.set_xlabel('Value',fontsize=12, fontweight='bold')\n",
    "ax.set_ylabel('Probability Distribution',fontsize=12,fontweight='bold')\n",
    "ax.set_title('Chi-Square Distribution',fontsize=16,fontweight='bold')\n",
    "\n",
    "plt.xlim(0, 10)\n",
    "plt.ylim(0, 0.6)"
   ]
  },
  {
   "cell_type": "code",
   "execution_count": 129,
   "id": "874dbf50",
   "metadata": {},
   "outputs": [
    {
     "data": {
      "text/plain": [
       "(0.0, 0.6)"
      ]
     },
     "execution_count": 129,
     "metadata": {},
     "output_type": "execute_result"
    },
    {
     "data": {
      "image/png": "[encoded data removed]",
      "text/plain": [
       "<Figure size 1080x720 with 1 Axes>"
      ]
     },
     "metadata": {},
     "output_type": "display_data"
    }
   ],
   "source": [
    "from scipy import stats\n",
    "import numpy as np\n",
    "import matplotlib.pyplot as plt\n",
    "\n",
    "x = np.linspace(0, 10, 100)\n",
    "\n",
    "\n",
    "fig,ax = plt.subplots(1,1, figsize=(15,10))\n",
    "\n",
    "#plotting vertical line for critical value \n",
    "plt.axvline(x=stats.chi2.isf(0.05,dof), ymin=0, ymax= 0.3,label='X-Critical',color='black')\n",
    "\n",
    "#plotting vertical line for calculated value. \n",
    "plt.axvline(x=stat, ymin=0, ymax= 0.3,label='X-calculated',color='blue')\n",
    "\n",
    "#plotting distribution graph for our calculated degrees of freedom\n",
    "ax.plot(x, stats.chi2.pdf(x, dof), label='df = '+ str(dof), color='red')\n",
    "\n",
    "ax.set_xlabel('Value',fontsize=12, fontweight='bold')\n",
    "ax.set_ylabel('Probability Distribution',fontsize=12,fontweight='bold')\n",
    "ax.set_title('Chi-Square Distribution',fontsize=16,fontweight='bold')\n",
    "\n",
    "plt.xlim(0, 10)\n",
    "plt.ylim(0, 0.6)"
   ]
  },
  {
   "cell_type": "code",
   "execution_count": 130,
   "id": "17221e6e",
   "metadata": {},
   "outputs": [
    {
     "data": {
      "text/html": [
       "<div>\n",
       "<style scoped>\n",
       "    .dataframe tbody tr th:only-of-type {\n",
       "        vertical-align: middle;\n",
       "    }\n",
       "\n",
       "    .dataframe tbody tr th {\n",
       "        vertical-align: top;\n",
       "    }\n",
       "\n",
       "    .dataframe thead th {\n",
       "        text-align: right;\n",
       "    }\n",
       "</style>\n",
       "<table border=\"1\" class=\"dataframe\">\n",
       "  <thead>\n",
       "    <tr style=\"text-align: right;\">\n",
       "      <th></th>\n",
       "      <th>F</th>\n",
       "      <th>I Never Change</th>\n",
       "      <th>More than 10 min</th>\n",
       "      <th>Every 10-30 min</th>\n",
       "      <th>Every 30-60 min</th>\n",
       "      <th>Every 1-3 hours</th>\n",
       "      <th>More than 3 hours</th>\n",
       "    </tr>\n",
       "  </thead>\n",
       "  <tbody>\n",
       "    <tr>\n",
       "      <th>0</th>\n",
       "      <td>Neck, Shoulders</td>\n",
       "      <td>17</td>\n",
       "      <td>15</td>\n",
       "      <td>9</td>\n",
       "      <td>12</td>\n",
       "      <td>9</td>\n",
       "      <td>5</td>\n",
       "    </tr>\n",
       "    <tr>\n",
       "      <th>1</th>\n",
       "      <td>Upper Back, Lower Back</td>\n",
       "      <td>15</td>\n",
       "      <td>10</td>\n",
       "      <td>10</td>\n",
       "      <td>10</td>\n",
       "      <td>12</td>\n",
       "      <td>8</td>\n",
       "    </tr>\n",
       "    <tr>\n",
       "      <th>2</th>\n",
       "      <td>Knees</td>\n",
       "      <td>9</td>\n",
       "      <td>8</td>\n",
       "      <td>8</td>\n",
       "      <td>4</td>\n",
       "      <td>2</td>\n",
       "      <td>0</td>\n",
       "    </tr>\n",
       "    <tr>\n",
       "      <th>3</th>\n",
       "      <td>Neck, Shoulders;Upper Back, Lower Back</td>\n",
       "      <td>3</td>\n",
       "      <td>4</td>\n",
       "      <td>3</td>\n",
       "      <td>8</td>\n",
       "      <td>5</td>\n",
       "      <td>5</td>\n",
       "    </tr>\n",
       "  </tbody>\n",
       "</table>\n",
       "</div>"
      ],
      "text/plain": [
       "                                        F  I Never Change  More than 10 min  \\\n",
       "0                        Neck, Shoulders               17                15   \n",
       "1                 Upper Back, Lower Back               15                10   \n",
       "2                                  Knees                9                 8   \n",
       "3  Neck, Shoulders;Upper Back, Lower Back               3                 4   \n",
       "\n",
       "   Every 10-30 min  Every 30-60 min  Every 1-3 hours  More than 3 hours  \n",
       "0                9               12                9                  5  \n",
       "1               10               10               12                  8  \n",
       "2                8                4                2                  0  \n",
       "3                3                8                5                  5  "
      ]
     },
     "execution_count": 130,
     "metadata": {},
     "output_type": "execute_result"
    }
   ],
   "source": [
    "data2=pd.DataFrame([[\"Neck, Shoulders \",17,15,9,12,9,5],[\"Upper Back, Lower Back \",15,10,10,10,12,8],[\"Knees \",9,8,8,4,2,0],[\"Neck, Shoulders;Upper Back, Lower Back\",3,4,3,8,5,5]],columns=[\"F\",\"I Never Change\",\"More than 10 min\",\"Every 10-30 min\",\"Every 30-60 min\",\"Every 1-3 hours\",\"More than 3 hours\"]);data2"
   ]
  },
  {
   "cell_type": "code",
   "execution_count": 131,
   "id": "82d466bb",
   "metadata": {},
   "outputs": [
    {
     "data": {
      "text/plain": [
       "array([[17, 15,  9, 12,  9,  5],\n",
       "       [15, 10, 10, 10, 12,  8],\n",
       "       [ 9,  8,  8,  4,  2,  0],\n",
       "       [ 3,  4,  3,  8,  5,  5]], dtype=int64)"
      ]
     },
     "execution_count": 131,
     "metadata": {},
     "output_type": "execute_result"
    }
   ],
   "source": [
    "data2.iloc[:,1:].values"
   ]
  },
  {
   "cell_type": "code",
   "execution_count": 132,
   "id": "28db83ef",
   "metadata": {},
   "outputs": [
    {
     "name": "stdout",
     "output_type": "stream",
     "text": [
      "The Chi-Square value is 17.722.\n",
      "Degree of freedom is 15.\n",
      "Expected table value is \n",
      " [[15.43455497 12.97905759 10.52356021 11.92670157  9.82198953  6.31413613]\n",
      " [14.97382199 12.59162304 10.20942408 11.57068063  9.52879581  6.12565445]\n",
      " [ 7.14136126  6.0052356   4.86910995  5.51832461  4.54450262  2.92146597]\n",
      " [ 6.45026178  5.42408377  4.39790576  4.98429319  4.10471204  2.63874346]]\n"
     ]
    }
   ],
   "source": [
    "from scipy.stats  import chi2_contingency\n",
    "stat, p, dof, expected = chi2_contingency(data2.iloc[:,1:].values)\n",
    "print('The Chi-Square value is {:.3f}.\\nDegree of freedom is {}.\\nExpected table value is \\n {}'.format(stat,dof,expected))"
   ]
  },
  {
   "cell_type": "code",
   "execution_count": 133,
   "id": "2932d390",
   "metadata": {},
   "outputs": [
    {
     "ename": "KeyError",
     "evalue": "\"['G'] not found in axis\"",
     "output_type": "error",
     "traceback": [
      "\u001b[1;31m---------------------------------------------------------------------------\u001b[0m",
      "\u001b[1;31mKeyError\u001b[0m                                  Traceback (most recent call last)",
      "Input \u001b[1;32mIn [133]\u001b[0m, in \u001b[0;36m<cell line: 2>\u001b[1;34m()\u001b[0m\n\u001b[0;32m      1\u001b[0m df3\u001b[38;5;241m=\u001b[39mpd\u001b[38;5;241m.\u001b[39mDataFrame(wfh)\n\u001b[1;32m----> 2\u001b[0m \u001b[43mdf3\u001b[49m\u001b[38;5;241;43m.\u001b[39;49m\u001b[43mdrop\u001b[49m\u001b[43m(\u001b[49m\u001b[43m[\u001b[49m\u001b[38;5;124;43m\"\u001b[39;49m\u001b[38;5;124;43mGender\u001b[39;49m\u001b[38;5;124;43m\"\u001b[39;49m\u001b[43m,\u001b[49m\u001b[38;5;124;43m\"\u001b[39;49m\u001b[38;5;124;43mAge\u001b[39;49m\u001b[38;5;124;43m\"\u001b[39;49m\u001b[43m,\u001b[49m\u001b[38;5;124;43m\"\u001b[39;49m\u001b[38;5;124;43mD\u001b[39;49m\u001b[38;5;124;43m\"\u001b[39;49m\u001b[43m,\u001b[49m\u001b[38;5;124;43m\"\u001b[39;49m\u001b[38;5;124;43mE\u001b[39;49m\u001b[38;5;124;43m\"\u001b[39;49m\u001b[43m,\u001b[49m\u001b[38;5;124;43m\"\u001b[39;49m\u001b[38;5;124;43mF\u001b[39;49m\u001b[38;5;124;43m\"\u001b[39;49m\u001b[43m,\u001b[49m\u001b[38;5;124;43m\"\u001b[39;49m\u001b[38;5;124;43mG\u001b[39;49m\u001b[38;5;124;43m\"\u001b[39;49m\u001b[43m,\u001b[49m\u001b[38;5;124;43m\"\u001b[39;49m\u001b[38;5;124;43mH\u001b[39;49m\u001b[38;5;124;43m\"\u001b[39;49m\u001b[43m,\u001b[49m\u001b[38;5;124;43m\"\u001b[39;49m\u001b[38;5;124;43mI\u001b[39;49m\u001b[38;5;124;43m\"\u001b[39;49m\u001b[43m,\u001b[49m\u001b[38;5;124;43m\"\u001b[39;49m\u001b[38;5;124;43mJ\u001b[39;49m\u001b[38;5;124;43m\"\u001b[39;49m\u001b[43m,\u001b[49m\u001b[38;5;124;43m\"\u001b[39;49m\u001b[38;5;124;43mK\u001b[39;49m\u001b[38;5;124;43m\"\u001b[39;49m\u001b[43m,\u001b[49m\u001b[38;5;124;43m\"\u001b[39;49m\u001b[38;5;124;43mL\u001b[39;49m\u001b[38;5;124;43m\"\u001b[39;49m\u001b[43m,\u001b[49m\u001b[38;5;124;43m\"\u001b[39;49m\u001b[38;5;124;43mM\u001b[39;49m\u001b[38;5;124;43m\"\u001b[39;49m\u001b[43m,\u001b[49m\u001b[38;5;124;43m\"\u001b[39;49m\u001b[38;5;124;43mN\u001b[39;49m\u001b[38;5;124;43m\"\u001b[39;49m\u001b[43m,\u001b[49m\u001b[43m]\u001b[49m\u001b[43m,\u001b[49m\u001b[43m \u001b[49m\u001b[43maxis\u001b[49m\u001b[38;5;241;43m=\u001b[39;49m\u001b[38;5;241;43m1\u001b[39;49m\u001b[43m)\u001b[49m\n",
      "File \u001b[1;32m~\\AppData\\Roaming\\Python\\Python39\\site-packages\\pandas\\util\\_decorators.py:311\u001b[0m, in \u001b[0;36mdeprecate_nonkeyword_arguments.<locals>.decorate.<locals>.wrapper\u001b[1;34m(*args, **kwargs)\u001b[0m\n\u001b[0;32m    305\u001b[0m \u001b[38;5;28;01mif\u001b[39;00m \u001b[38;5;28mlen\u001b[39m(args) \u001b[38;5;241m>\u001b[39m num_allow_args:\n\u001b[0;32m    306\u001b[0m     warnings\u001b[38;5;241m.\u001b[39mwarn(\n\u001b[0;32m    307\u001b[0m         msg\u001b[38;5;241m.\u001b[39mformat(arguments\u001b[38;5;241m=\u001b[39marguments),\n\u001b[0;32m    308\u001b[0m         \u001b[38;5;167;01mFutureWarning\u001b[39;00m,\n\u001b[0;32m    309\u001b[0m         stacklevel\u001b[38;5;241m=\u001b[39mstacklevel,\n\u001b[0;32m    310\u001b[0m     )\n\u001b[1;32m--> 311\u001b[0m \u001b[38;5;28;01mreturn\u001b[39;00m func(\u001b[38;5;241m*\u001b[39margs, \u001b[38;5;241m*\u001b[39m\u001b[38;5;241m*\u001b[39mkwargs)\n",
      "File \u001b[1;32m~\\AppData\\Roaming\\Python\\Python39\\site-packages\\pandas\\core\\frame.py:4901\u001b[0m, in \u001b[0;36mDataFrame.drop\u001b[1;34m(self, labels, axis, index, columns, level, inplace, errors)\u001b[0m\n\u001b[0;32m   4769\u001b[0m \u001b[38;5;129m@deprecate_nonkeyword_arguments\u001b[39m(version\u001b[38;5;241m=\u001b[39m\u001b[38;5;28;01mNone\u001b[39;00m, allowed_args\u001b[38;5;241m=\u001b[39m[\u001b[38;5;124m\"\u001b[39m\u001b[38;5;124mself\u001b[39m\u001b[38;5;124m\"\u001b[39m, \u001b[38;5;124m\"\u001b[39m\u001b[38;5;124mlabels\u001b[39m\u001b[38;5;124m\"\u001b[39m])\n\u001b[0;32m   4770\u001b[0m \u001b[38;5;28;01mdef\u001b[39;00m \u001b[38;5;21mdrop\u001b[39m(\n\u001b[0;32m   4771\u001b[0m     \u001b[38;5;28mself\u001b[39m,\n\u001b[1;32m   (...)\u001b[0m\n\u001b[0;32m   4778\u001b[0m     errors: \u001b[38;5;28mstr\u001b[39m \u001b[38;5;241m=\u001b[39m \u001b[38;5;124m\"\u001b[39m\u001b[38;5;124mraise\u001b[39m\u001b[38;5;124m\"\u001b[39m,\n\u001b[0;32m   4779\u001b[0m ):\n\u001b[0;32m   4780\u001b[0m     \u001b[38;5;124;03m\"\"\"\u001b[39;00m\n\u001b[0;32m   4781\u001b[0m \u001b[38;5;124;03m    Drop specified labels from rows or columns.\u001b[39;00m\n\u001b[0;32m   4782\u001b[0m \n\u001b[1;32m   (...)\u001b[0m\n\u001b[0;32m   4899\u001b[0m \u001b[38;5;124;03m            weight  1.0     0.8\u001b[39;00m\n\u001b[0;32m   4900\u001b[0m \u001b[38;5;124;03m    \"\"\"\u001b[39;00m\n\u001b[1;32m-> 4901\u001b[0m     \u001b[38;5;28;01mreturn\u001b[39;00m \u001b[38;5;28;43msuper\u001b[39;49m\u001b[43m(\u001b[49m\u001b[43m)\u001b[49m\u001b[38;5;241;43m.\u001b[39;49m\u001b[43mdrop\u001b[49m\u001b[43m(\u001b[49m\n\u001b[0;32m   4902\u001b[0m \u001b[43m        \u001b[49m\u001b[43mlabels\u001b[49m\u001b[38;5;241;43m=\u001b[39;49m\u001b[43mlabels\u001b[49m\u001b[43m,\u001b[49m\n\u001b[0;32m   4903\u001b[0m \u001b[43m        \u001b[49m\u001b[43maxis\u001b[49m\u001b[38;5;241;43m=\u001b[39;49m\u001b[43maxis\u001b[49m\u001b[43m,\u001b[49m\n\u001b[0;32m   4904\u001b[0m \u001b[43m        \u001b[49m\u001b[43mindex\u001b[49m\u001b[38;5;241;43m=\u001b[39;49m\u001b[43mindex\u001b[49m\u001b[43m,\u001b[49m\n\u001b[0;32m   4905\u001b[0m \u001b[43m        \u001b[49m\u001b[43mcolumns\u001b[49m\u001b[38;5;241;43m=\u001b[39;49m\u001b[43mcolumns\u001b[49m\u001b[43m,\u001b[49m\n\u001b[0;32m   4906\u001b[0m \u001b[43m        \u001b[49m\u001b[43mlevel\u001b[49m\u001b[38;5;241;43m=\u001b[39;49m\u001b[43mlevel\u001b[49m\u001b[43m,\u001b[49m\n\u001b[0;32m   4907\u001b[0m \u001b[43m        \u001b[49m\u001b[43minplace\u001b[49m\u001b[38;5;241;43m=\u001b[39;49m\u001b[43minplace\u001b[49m\u001b[43m,\u001b[49m\n\u001b[0;32m   4908\u001b[0m \u001b[43m        \u001b[49m\u001b[43merrors\u001b[49m\u001b[38;5;241;43m=\u001b[39;49m\u001b[43merrors\u001b[49m\u001b[43m,\u001b[49m\n\u001b[0;32m   4909\u001b[0m \u001b[43m    \u001b[49m\u001b[43m)\u001b[49m\n",
      "File \u001b[1;32m~\\AppData\\Roaming\\Python\\Python39\\site-packages\\pandas\\core\\generic.py:4147\u001b[0m, in \u001b[0;36mNDFrame.drop\u001b[1;34m(self, labels, axis, index, columns, level, inplace, errors)\u001b[0m\n\u001b[0;32m   4145\u001b[0m \u001b[38;5;28;01mfor\u001b[39;00m axis, labels \u001b[38;5;129;01min\u001b[39;00m axes\u001b[38;5;241m.\u001b[39mitems():\n\u001b[0;32m   4146\u001b[0m     \u001b[38;5;28;01mif\u001b[39;00m labels \u001b[38;5;129;01mis\u001b[39;00m \u001b[38;5;129;01mnot\u001b[39;00m \u001b[38;5;28;01mNone\u001b[39;00m:\n\u001b[1;32m-> 4147\u001b[0m         obj \u001b[38;5;241m=\u001b[39m \u001b[43mobj\u001b[49m\u001b[38;5;241;43m.\u001b[39;49m\u001b[43m_drop_axis\u001b[49m\u001b[43m(\u001b[49m\u001b[43mlabels\u001b[49m\u001b[43m,\u001b[49m\u001b[43m \u001b[49m\u001b[43maxis\u001b[49m\u001b[43m,\u001b[49m\u001b[43m \u001b[49m\u001b[43mlevel\u001b[49m\u001b[38;5;241;43m=\u001b[39;49m\u001b[43mlevel\u001b[49m\u001b[43m,\u001b[49m\u001b[43m \u001b[49m\u001b[43merrors\u001b[49m\u001b[38;5;241;43m=\u001b[39;49m\u001b[43merrors\u001b[49m\u001b[43m)\u001b[49m\n\u001b[0;32m   4149\u001b[0m \u001b[38;5;28;01mif\u001b[39;00m inplace:\n\u001b[0;32m   4150\u001b[0m     \u001b[38;5;28mself\u001b[39m\u001b[38;5;241m.\u001b[39m_update_inplace(obj)\n",
      "File \u001b[1;32m~\\AppData\\Roaming\\Python\\Python39\\site-packages\\pandas\\core\\generic.py:4182\u001b[0m, in \u001b[0;36mNDFrame._drop_axis\u001b[1;34m(self, labels, axis, level, errors)\u001b[0m\n\u001b[0;32m   4180\u001b[0m         new_axis \u001b[38;5;241m=\u001b[39m axis\u001b[38;5;241m.\u001b[39mdrop(labels, level\u001b[38;5;241m=\u001b[39mlevel, errors\u001b[38;5;241m=\u001b[39merrors)\n\u001b[0;32m   4181\u001b[0m     \u001b[38;5;28;01melse\u001b[39;00m:\n\u001b[1;32m-> 4182\u001b[0m         new_axis \u001b[38;5;241m=\u001b[39m \u001b[43maxis\u001b[49m\u001b[38;5;241;43m.\u001b[39;49m\u001b[43mdrop\u001b[49m\u001b[43m(\u001b[49m\u001b[43mlabels\u001b[49m\u001b[43m,\u001b[49m\u001b[43m \u001b[49m\u001b[43merrors\u001b[49m\u001b[38;5;241;43m=\u001b[39;49m\u001b[43merrors\u001b[49m\u001b[43m)\u001b[49m\n\u001b[0;32m   4183\u001b[0m     result \u001b[38;5;241m=\u001b[39m \u001b[38;5;28mself\u001b[39m\u001b[38;5;241m.\u001b[39mreindex(\u001b[38;5;241m*\u001b[39m\u001b[38;5;241m*\u001b[39m{axis_name: new_axis})\n\u001b[0;32m   4185\u001b[0m \u001b[38;5;66;03m# Case for non-unique axis\u001b[39;00m\n\u001b[0;32m   4186\u001b[0m \u001b[38;5;28;01melse\u001b[39;00m:\n",
      "File \u001b[1;32m~\\AppData\\Roaming\\Python\\Python39\\site-packages\\pandas\\core\\indexes\\base.py:6018\u001b[0m, in \u001b[0;36mIndex.drop\u001b[1;34m(self, labels, errors)\u001b[0m\n\u001b[0;32m   6016\u001b[0m \u001b[38;5;28;01mif\u001b[39;00m mask\u001b[38;5;241m.\u001b[39many():\n\u001b[0;32m   6017\u001b[0m     \u001b[38;5;28;01mif\u001b[39;00m errors \u001b[38;5;241m!=\u001b[39m \u001b[38;5;124m\"\u001b[39m\u001b[38;5;124mignore\u001b[39m\u001b[38;5;124m\"\u001b[39m:\n\u001b[1;32m-> 6018\u001b[0m         \u001b[38;5;28;01mraise\u001b[39;00m \u001b[38;5;167;01mKeyError\u001b[39;00m(\u001b[38;5;124mf\u001b[39m\u001b[38;5;124m\"\u001b[39m\u001b[38;5;132;01m{\u001b[39;00mlabels[mask]\u001b[38;5;132;01m}\u001b[39;00m\u001b[38;5;124m not found in axis\u001b[39m\u001b[38;5;124m\"\u001b[39m)\n\u001b[0;32m   6019\u001b[0m     indexer \u001b[38;5;241m=\u001b[39m indexer[\u001b[38;5;241m~\u001b[39mmask]\n\u001b[0;32m   6020\u001b[0m \u001b[38;5;28;01mreturn\u001b[39;00m \u001b[38;5;28mself\u001b[39m\u001b[38;5;241m.\u001b[39mdelete(indexer)\n",
      "\u001b[1;31mKeyError\u001b[0m: \"['G'] not found in axis\""
     ]
    }
   ],
   "source": [
    "df3=pd.DataFrame(wfh)\n",
    "df3.drop([\"Gender\",\"Age\",\"D\",\"E\",\"F\",\"G\",\"H\",\"I\",\"J\",\"K\",\"L\",\"M\",\"N\",], axis=1)"
   ]
  },
  {
   "cell_type": "code",
   "execution_count": 134,
   "id": "567cb793",
   "metadata": {},
   "outputs": [],
   "source": [
    "x3=df3.iloc[:,0:1]\n",
    "y3=df3.iloc[:,-1]\n"
   ]
  },
  {
   "cell_type": "code",
   "execution_count": 135,
   "id": "a7dfda94",
   "metadata": {},
   "outputs": [],
   "source": [
    "from sklearn.model_selection import train_test_split"
   ]
  },
  {
   "cell_type": "code",
   "execution_count": 136,
   "id": "a0433fe5",
   "metadata": {},
   "outputs": [],
   "source": [
    "x3_train,x3_test,y3_train,y3_test=train_test_split(x3,y3,test_size=.2,random_state=100)"
   ]
  },
  {
   "cell_type": "code",
   "execution_count": 137,
   "id": "530d21be",
   "metadata": {},
   "outputs": [
    {
     "data": {
      "text/plain": [
       "((240, 1), (60, 1), (240,), (60,))"
      ]
     },
     "execution_count": 137,
     "metadata": {},
     "output_type": "execute_result"
    }
   ],
   "source": [
    "x3_train.shape,x3_test.shape,y3_train.shape,y3_test.shape"
   ]
  },
  {
   "cell_type": "code",
   "execution_count": 138,
   "id": "b934d0df",
   "metadata": {},
   "outputs": [],
   "source": [
    "from sklearn.linear_model import LogisticRegression\n",
    "lg=LogisticRegression()"
   ]
  },
  {
   "cell_type": "code",
   "execution_count": 139,
   "id": "5ee57254",
   "metadata": {},
   "outputs": [
    {
     "data": {
      "text/plain": [
       "LogisticRegression()"
      ]
     },
     "execution_count": 139,
     "metadata": {},
     "output_type": "execute_result"
    }
   ],
   "source": [
    "lg.fit(x3_train,y3_train)"
   ]
  },
  {
   "cell_type": "code",
   "execution_count": 140,
   "id": "61c2e5e3",
   "metadata": {},
   "outputs": [
    {
     "data": {
      "text/plain": [
       "array([1, 1, 1, 1, 1, 1, 1, 1, 1, 1, 1, 1, 1, 1, 1, 1, 1, 1, 1, 1, 1, 1,\n",
       "       1, 1, 1, 1, 1, 1, 1, 1, 1, 1, 1, 1, 1, 1, 1, 1, 1, 1, 1, 1, 1, 1,\n",
       "       1, 1, 1, 1, 1, 1, 1, 1, 1, 1, 1, 1, 1, 1, 1, 1])"
      ]
     },
     "execution_count": 140,
     "metadata": {},
     "output_type": "execute_result"
    }
   ],
   "source": [
    "lg_p=lg.predict(x3_test)\n",
    "lg_p"
   ]
  },
  {
   "cell_type": "code",
   "execution_count": 141,
   "id": "7e2a47d3",
   "metadata": {},
   "outputs": [],
   "source": [
    "from sklearn.metrics import confusion_matrix\n"
   ]
  },
  {
   "cell_type": "code",
   "execution_count": 142,
   "id": "e19770ab",
   "metadata": {},
   "outputs": [
    {
     "data": {
      "text/plain": [
       "array([[ 0,  0],\n",
       "       [ 8, 52]], dtype=int64)"
      ]
     },
     "execution_count": 142,
     "metadata": {},
     "output_type": "execute_result"
    }
   ],
   "source": [
    "lg_m=confusion_matrix(lg_p,y3_test)\n",
    "lg_m"
   ]
  },
  {
   "cell_type": "code",
   "execution_count": 143,
   "id": "08c75e88",
   "metadata": {},
   "outputs": [
    {
     "data": {
      "text/plain": [
       "86.66666666666667"
      ]
     },
     "execution_count": 143,
     "metadata": {},
     "output_type": "execute_result"
    }
   ],
   "source": [
    "lg_acc=lg_m.diagonal().sum()/lg_m.sum()*100\n",
    "lg_acc"
   ]
  },
  {
   "cell_type": "code",
   "execution_count": 144,
   "id": "a8d7cf60",
   "metadata": {},
   "outputs": [],
   "source": [
    "from sklearn.metrics import classification_report"
   ]
  },
  {
   "cell_type": "code",
   "execution_count": 145,
   "id": "dbbb157a",
   "metadata": {},
   "outputs": [
    {
     "name": "stdout",
     "output_type": "stream",
     "text": [
      "              precision    recall  f1-score   support\n",
      "\n",
      "           0       0.00      0.00      0.00         0\n",
      "           1       1.00      0.87      0.93        60\n",
      "\n",
      "    accuracy                           0.87        60\n",
      "   macro avg       0.50      0.43      0.46        60\n",
      "weighted avg       1.00      0.87      0.93        60\n",
      "\n"
     ]
    }
   ],
   "source": [
    "print(classification_report(lg_p,y3_test))"
   ]
  },
  {
   "cell_type": "code",
   "execution_count": 146,
   "id": "719a0511",
   "metadata": {},
   "outputs": [
    {
     "name": "stdout",
     "output_type": "stream",
     "text": [
      "The intercept b0=  [1.20187025]\n",
      "The coefficient b1=  [[0.1121562]]\n"
     ]
    }
   ],
   "source": [
    "#Implementing Logistic Regression using sklearn\n",
    "modelLogistic = LogisticRegression()\n",
    "modelLogistic.fit(x3_train,y3_train)\n",
    "#print the regression coefficients\n",
    "\n",
    "print(\"The intercept b0= \", modelLogistic.intercept_)\n",
    "\n",
    "print(\"The coefficient b1= \", modelLogistic.coef_)"
   ]
  },
  {
   "cell_type": "code",
   "execution_count": 147,
   "id": "a5f7c597",
   "metadata": {},
   "outputs": [
    {
     "name": "stdout",
     "output_type": "stream",
     "text": [
      "Optimization terminated successfully.\n",
      "         Current function value: 0.527636\n",
      "         Iterations 5\n",
      "                           Logit Regression Results                           \n",
      "==============================================================================\n",
      "Dep. Variable:                      O   No. Observations:                  240\n",
      "Model:                          Logit   Df Residuals:                      238\n",
      "Method:                           MLE   Df Model:                            1\n",
      "Date:                Mon, 03 Apr 2023   Pseudo R-squ.:               0.0006152\n",
      "Time:                        13:55:10   Log-Likelihood:                -126.63\n",
      "converged:                       True   LL-Null:                       -126.71\n",
      "Covariance Type:            nonrobust   LLR p-value:                    0.6929\n",
      "==============================================================================\n",
      "                 coef    std err          z      P>|z|      [0.025      0.975]\n",
      "------------------------------------------------------------------------------\n",
      "const          1.1963      0.224      5.345      0.000       0.758       1.635\n",
      "Gender         0.1230      0.311      0.395      0.693      -0.487       0.734\n",
      "==============================================================================\n"
     ]
    }
   ],
   "source": [
    "import statsmodels.api as sm\n",
    "x3_train = sm.add_constant(x3_train);x3_train\n",
    "logit_model=sm.Logit(y3_train,x3_train);logit_model\n",
    "result=logit_model.fit();result\n",
    "print(result.summary())"
   ]
  },
  {
   "cell_type": "code",
   "execution_count": 148,
   "id": "1f03d94a",
   "metadata": {},
   "outputs": [
    {
     "data": {
      "text/html": [
       "<div>\n",
       "<style scoped>\n",
       "    .dataframe tbody tr th:only-of-type {\n",
       "        vertical-align: middle;\n",
       "    }\n",
       "\n",
       "    .dataframe tbody tr th {\n",
       "        vertical-align: top;\n",
       "    }\n",
       "\n",
       "    .dataframe thead th {\n",
       "        text-align: right;\n",
       "    }\n",
       "</style>\n",
       "<table border=\"1\" class=\"dataframe\">\n",
       "  <thead>\n",
       "    <tr style=\"text-align: right;\">\n",
       "      <th></th>\n",
       "      <th>Gender</th>\n",
       "      <th>Age</th>\n",
       "      <th>C</th>\n",
       "      <th>D</th>\n",
       "      <th>E</th>\n",
       "      <th>F</th>\n",
       "      <th>H</th>\n",
       "      <th>I</th>\n",
       "      <th>J</th>\n",
       "      <th>K</th>\n",
       "      <th>L</th>\n",
       "      <th>M</th>\n",
       "      <th>N</th>\n",
       "      <th>O</th>\n",
       "    </tr>\n",
       "  </thead>\n",
       "  <tbody>\n",
       "    <tr>\n",
       "      <th>0</th>\n",
       "      <td>0</td>\n",
       "      <td>0</td>\n",
       "      <td>1</td>\n",
       "      <td>3</td>\n",
       "      <td>2</td>\n",
       "      <td>11</td>\n",
       "      <td>2</td>\n",
       "      <td>0</td>\n",
       "      <td>1</td>\n",
       "      <td>1</td>\n",
       "      <td>4</td>\n",
       "      <td>2</td>\n",
       "      <td>0</td>\n",
       "      <td>1</td>\n",
       "    </tr>\n",
       "    <tr>\n",
       "      <th>1</th>\n",
       "      <td>0</td>\n",
       "      <td>0</td>\n",
       "      <td>1</td>\n",
       "      <td>1</td>\n",
       "      <td>0</td>\n",
       "      <td>0</td>\n",
       "      <td>0</td>\n",
       "      <td>0</td>\n",
       "      <td>4</td>\n",
       "      <td>1</td>\n",
       "      <td>1</td>\n",
       "      <td>1</td>\n",
       "      <td>2</td>\n",
       "      <td>1</td>\n",
       "    </tr>\n",
       "    <tr>\n",
       "      <th>2</th>\n",
       "      <td>1</td>\n",
       "      <td>1</td>\n",
       "      <td>1</td>\n",
       "      <td>3</td>\n",
       "      <td>2</td>\n",
       "      <td>18</td>\n",
       "      <td>0</td>\n",
       "      <td>1</td>\n",
       "      <td>3</td>\n",
       "      <td>1</td>\n",
       "      <td>3</td>\n",
       "      <td>1</td>\n",
       "      <td>2</td>\n",
       "      <td>1</td>\n",
       "    </tr>\n",
       "    <tr>\n",
       "      <th>3</th>\n",
       "      <td>1</td>\n",
       "      <td>0</td>\n",
       "      <td>1</td>\n",
       "      <td>3</td>\n",
       "      <td>0</td>\n",
       "      <td>12</td>\n",
       "      <td>1</td>\n",
       "      <td>0</td>\n",
       "      <td>0</td>\n",
       "      <td>1</td>\n",
       "      <td>1</td>\n",
       "      <td>4</td>\n",
       "      <td>0</td>\n",
       "      <td>1</td>\n",
       "    </tr>\n",
       "    <tr>\n",
       "      <th>4</th>\n",
       "      <td>0</td>\n",
       "      <td>1</td>\n",
       "      <td>1</td>\n",
       "      <td>3</td>\n",
       "      <td>0</td>\n",
       "      <td>0</td>\n",
       "      <td>0</td>\n",
       "      <td>0</td>\n",
       "      <td>1</td>\n",
       "      <td>1</td>\n",
       "      <td>1</td>\n",
       "      <td>2</td>\n",
       "      <td>4</td>\n",
       "      <td>1</td>\n",
       "    </tr>\n",
       "    <tr>\n",
       "      <th>...</th>\n",
       "      <td>...</td>\n",
       "      <td>...</td>\n",
       "      <td>...</td>\n",
       "      <td>...</td>\n",
       "      <td>...</td>\n",
       "      <td>...</td>\n",
       "      <td>...</td>\n",
       "      <td>...</td>\n",
       "      <td>...</td>\n",
       "      <td>...</td>\n",
       "      <td>...</td>\n",
       "      <td>...</td>\n",
       "      <td>...</td>\n",
       "      <td>...</td>\n",
       "    </tr>\n",
       "    <tr>\n",
       "      <th>295</th>\n",
       "      <td>0</td>\n",
       "      <td>0</td>\n",
       "      <td>1</td>\n",
       "      <td>3</td>\n",
       "      <td>0</td>\n",
       "      <td>5</td>\n",
       "      <td>0</td>\n",
       "      <td>0</td>\n",
       "      <td>4</td>\n",
       "      <td>1</td>\n",
       "      <td>0</td>\n",
       "      <td>2</td>\n",
       "      <td>0</td>\n",
       "      <td>1</td>\n",
       "    </tr>\n",
       "    <tr>\n",
       "      <th>296</th>\n",
       "      <td>1</td>\n",
       "      <td>0</td>\n",
       "      <td>0</td>\n",
       "      <td>1</td>\n",
       "      <td>1</td>\n",
       "      <td>7</td>\n",
       "      <td>1</td>\n",
       "      <td>4</td>\n",
       "      <td>1</td>\n",
       "      <td>1</td>\n",
       "      <td>4</td>\n",
       "      <td>1</td>\n",
       "      <td>1</td>\n",
       "      <td>0</td>\n",
       "    </tr>\n",
       "    <tr>\n",
       "      <th>297</th>\n",
       "      <td>0</td>\n",
       "      <td>0</td>\n",
       "      <td>1</td>\n",
       "      <td>2</td>\n",
       "      <td>0</td>\n",
       "      <td>3</td>\n",
       "      <td>1</td>\n",
       "      <td>0</td>\n",
       "      <td>1</td>\n",
       "      <td>1</td>\n",
       "      <td>1</td>\n",
       "      <td>2</td>\n",
       "      <td>4</td>\n",
       "      <td>1</td>\n",
       "    </tr>\n",
       "    <tr>\n",
       "      <th>298</th>\n",
       "      <td>0</td>\n",
       "      <td>1</td>\n",
       "      <td>1</td>\n",
       "      <td>2</td>\n",
       "      <td>4</td>\n",
       "      <td>7</td>\n",
       "      <td>1</td>\n",
       "      <td>3</td>\n",
       "      <td>1</td>\n",
       "      <td>1</td>\n",
       "      <td>1</td>\n",
       "      <td>2</td>\n",
       "      <td>0</td>\n",
       "      <td>1</td>\n",
       "    </tr>\n",
       "    <tr>\n",
       "      <th>299</th>\n",
       "      <td>0</td>\n",
       "      <td>2</td>\n",
       "      <td>0</td>\n",
       "      <td>1</td>\n",
       "      <td>2</td>\n",
       "      <td>11</td>\n",
       "      <td>1</td>\n",
       "      <td>0</td>\n",
       "      <td>1</td>\n",
       "      <td>1</td>\n",
       "      <td>0</td>\n",
       "      <td>2</td>\n",
       "      <td>0</td>\n",
       "      <td>0</td>\n",
       "    </tr>\n",
       "  </tbody>\n",
       "</table>\n",
       "<p>300 rows × 14 columns</p>\n",
       "</div>"
      ],
      "text/plain": [
       "     Gender  Age  C  D  E   F  H  I  J  K  L  M  N  O\n",
       "0         0    0  1  3  2  11  2  0  1  1  4  2  0  1\n",
       "1         0    0  1  1  0   0  0  0  4  1  1  1  2  1\n",
       "2         1    1  1  3  2  18  0  1  3  1  3  1  2  1\n",
       "3         1    0  1  3  0  12  1  0  0  1  1  4  0  1\n",
       "4         0    1  1  3  0   0  0  0  1  1  1  2  4  1\n",
       "..      ...  ... .. .. ..  .. .. .. .. .. .. .. .. ..\n",
       "295       0    0  1  3  0   5  0  0  4  1  0  2  0  1\n",
       "296       1    0  0  1  1   7  1  4  1  1  4  1  1  0\n",
       "297       0    0  1  2  0   3  1  0  1  1  1  2  4  1\n",
       "298       0    1  1  2  4   7  1  3  1  1  1  2  0  1\n",
       "299       0    2  0  1  2  11  1  0  1  1  0  2  0  0\n",
       "\n",
       "[300 rows x 14 columns]"
      ]
     },
     "execution_count": 148,
     "metadata": {},
     "output_type": "execute_result"
    }
   ],
   "source": [
    "wfh"
   ]
  },
  {
   "cell_type": "code",
   "execution_count": 149,
   "id": "91beab4d",
   "metadata": {},
   "outputs": [
    {
     "data": {
      "text/html": [
       "<div>\n",
       "<style scoped>\n",
       "    .dataframe tbody tr th:only-of-type {\n",
       "        vertical-align: middle;\n",
       "    }\n",
       "\n",
       "    .dataframe tbody tr th {\n",
       "        vertical-align: top;\n",
       "    }\n",
       "\n",
       "    .dataframe thead th {\n",
       "        text-align: right;\n",
       "    }\n",
       "</style>\n",
       "<table border=\"1\" class=\"dataframe\">\n",
       "  <thead>\n",
       "    <tr style=\"text-align: right;\">\n",
       "      <th></th>\n",
       "      <th>O</th>\n",
       "      <th>Yes</th>\n",
       "      <th>No</th>\n",
       "    </tr>\n",
       "  </thead>\n",
       "  <tbody>\n",
       "    <tr>\n",
       "      <th>0</th>\n",
       "      <td>Yes</td>\n",
       "      <td>233</td>\n",
       "      <td>25</td>\n",
       "    </tr>\n",
       "    <tr>\n",
       "      <th>1</th>\n",
       "      <td>No</td>\n",
       "      <td>6</td>\n",
       "      <td>36</td>\n",
       "    </tr>\n",
       "  </tbody>\n",
       "</table>\n",
       "</div>"
      ],
      "text/plain": [
       "     O  Yes  No\n",
       "0  Yes  233  25\n",
       "1   No    6  36"
      ]
     },
     "execution_count": 149,
     "metadata": {},
     "output_type": "execute_result"
    }
   ],
   "source": [
    "data=pd.DataFrame([[\"Yes\",233,25],[\"No\",6,36]],columns=[\"O\",\"Yes\",\"No\"]);data"
   ]
  },
  {
   "cell_type": "code",
   "execution_count": 150,
   "id": "b26af2a1",
   "metadata": {},
   "outputs": [
    {
     "data": {
      "text/plain": [
       "array([[233,  25],\n",
       "       [  6,  36]], dtype=int64)"
      ]
     },
     "execution_count": 150,
     "metadata": {},
     "output_type": "execute_result"
    }
   ],
   "source": [
    "data.iloc[:,1:].values"
   ]
  },
  {
   "cell_type": "code",
   "execution_count": 151,
   "id": "cef70ee2",
   "metadata": {},
   "outputs": [
    {
     "name": "stdout",
     "output_type": "stream",
     "text": [
      "The Chi-Square value is 124.224.\n",
      "Degree of freedom is 1.\n",
      "Expected table value is \n",
      " [[205.54  52.46]\n",
      " [ 33.46   8.54]]\n"
     ]
    }
   ],
   "source": [
    "from scipy.stats  import chi2_contingency\n",
    "stat, p, dof, expected = chi2_contingency(data.iloc[:,1:].values)\n",
    "print('The Chi-Square value is {:.3f}.\\nDegree of freedom is {}.\\nExpected table value is \\n {}'.format(stat,dof,expected))"
   ]
  },
  {
   "cell_type": "code",
   "execution_count": 152,
   "id": "3d8f4e32",
   "metadata": {},
   "outputs": [
    {
     "ename": "KeyError",
     "evalue": "\"['G'] not found in axis\"",
     "output_type": "error",
     "traceback": [
      "\u001b[1;31m---------------------------------------------------------------------------\u001b[0m",
      "\u001b[1;31mKeyError\u001b[0m                                  Traceback (most recent call last)",
      "Input \u001b[1;32mIn [152]\u001b[0m, in \u001b[0;36m<cell line: 2>\u001b[1;34m()\u001b[0m\n\u001b[0;32m      1\u001b[0m df3\u001b[38;5;241m=\u001b[39mpd\u001b[38;5;241m.\u001b[39mDataFrame(wfh)\n\u001b[1;32m----> 2\u001b[0m \u001b[43mdf3\u001b[49m\u001b[38;5;241;43m.\u001b[39;49m\u001b[43mdrop\u001b[49m\u001b[43m(\u001b[49m\u001b[43m[\u001b[49m\u001b[38;5;124;43m\"\u001b[39;49m\u001b[38;5;124;43mGender\u001b[39;49m\u001b[38;5;124;43m\"\u001b[39;49m\u001b[43m,\u001b[49m\u001b[38;5;124;43m\"\u001b[39;49m\u001b[38;5;124;43mAge\u001b[39;49m\u001b[38;5;124;43m\"\u001b[39;49m\u001b[43m,\u001b[49m\u001b[38;5;124;43m\"\u001b[39;49m\u001b[38;5;124;43mD\u001b[39;49m\u001b[38;5;124;43m\"\u001b[39;49m\u001b[43m,\u001b[49m\u001b[38;5;124;43m\"\u001b[39;49m\u001b[38;5;124;43mE\u001b[39;49m\u001b[38;5;124;43m\"\u001b[39;49m\u001b[43m,\u001b[49m\u001b[38;5;124;43m\"\u001b[39;49m\u001b[38;5;124;43mF\u001b[39;49m\u001b[38;5;124;43m\"\u001b[39;49m\u001b[43m,\u001b[49m\u001b[38;5;124;43m\"\u001b[39;49m\u001b[38;5;124;43mG\u001b[39;49m\u001b[38;5;124;43m\"\u001b[39;49m\u001b[43m,\u001b[49m\u001b[38;5;124;43m\"\u001b[39;49m\u001b[38;5;124;43mH\u001b[39;49m\u001b[38;5;124;43m\"\u001b[39;49m\u001b[43m,\u001b[49m\u001b[38;5;124;43m\"\u001b[39;49m\u001b[38;5;124;43mI\u001b[39;49m\u001b[38;5;124;43m\"\u001b[39;49m\u001b[43m,\u001b[49m\u001b[38;5;124;43m\"\u001b[39;49m\u001b[38;5;124;43mJ\u001b[39;49m\u001b[38;5;124;43m\"\u001b[39;49m\u001b[43m,\u001b[49m\u001b[38;5;124;43m\"\u001b[39;49m\u001b[38;5;124;43mK\u001b[39;49m\u001b[38;5;124;43m\"\u001b[39;49m\u001b[43m,\u001b[49m\u001b[38;5;124;43m\"\u001b[39;49m\u001b[38;5;124;43mL\u001b[39;49m\u001b[38;5;124;43m\"\u001b[39;49m\u001b[43m,\u001b[49m\u001b[38;5;124;43m\"\u001b[39;49m\u001b[38;5;124;43mM\u001b[39;49m\u001b[38;5;124;43m\"\u001b[39;49m\u001b[43m,\u001b[49m\u001b[38;5;124;43m\"\u001b[39;49m\u001b[38;5;124;43mN\u001b[39;49m\u001b[38;5;124;43m\"\u001b[39;49m\u001b[43m,\u001b[49m\u001b[43m]\u001b[49m\u001b[43m,\u001b[49m\u001b[43m \u001b[49m\u001b[43maxis\u001b[49m\u001b[38;5;241;43m=\u001b[39;49m\u001b[38;5;241;43m1\u001b[39;49m\u001b[43m)\u001b[49m\n",
      "File \u001b[1;32m~\\AppData\\Roaming\\Python\\Python39\\site-packages\\pandas\\util\\_decorators.py:311\u001b[0m, in \u001b[0;36mdeprecate_nonkeyword_arguments.<locals>.decorate.<locals>.wrapper\u001b[1;34m(*args, **kwargs)\u001b[0m\n\u001b[0;32m    305\u001b[0m \u001b[38;5;28;01mif\u001b[39;00m \u001b[38;5;28mlen\u001b[39m(args) \u001b[38;5;241m>\u001b[39m num_allow_args:\n\u001b[0;32m    306\u001b[0m     warnings\u001b[38;5;241m.\u001b[39mwarn(\n\u001b[0;32m    307\u001b[0m         msg\u001b[38;5;241m.\u001b[39mformat(arguments\u001b[38;5;241m=\u001b[39marguments),\n\u001b[0;32m    308\u001b[0m         \u001b[38;5;167;01mFutureWarning\u001b[39;00m,\n\u001b[0;32m    309\u001b[0m         stacklevel\u001b[38;5;241m=\u001b[39mstacklevel,\n\u001b[0;32m    310\u001b[0m     )\n\u001b[1;32m--> 311\u001b[0m \u001b[38;5;28;01mreturn\u001b[39;00m func(\u001b[38;5;241m*\u001b[39margs, \u001b[38;5;241m*\u001b[39m\u001b[38;5;241m*\u001b[39mkwargs)\n",
      "File \u001b[1;32m~\\AppData\\Roaming\\Python\\Python39\\site-packages\\pandas\\core\\frame.py:4901\u001b[0m, in \u001b[0;36mDataFrame.drop\u001b[1;34m(self, labels, axis, index, columns, level, inplace, errors)\u001b[0m\n\u001b[0;32m   4769\u001b[0m \u001b[38;5;129m@deprecate_nonkeyword_arguments\u001b[39m(version\u001b[38;5;241m=\u001b[39m\u001b[38;5;28;01mNone\u001b[39;00m, allowed_args\u001b[38;5;241m=\u001b[39m[\u001b[38;5;124m\"\u001b[39m\u001b[38;5;124mself\u001b[39m\u001b[38;5;124m\"\u001b[39m, \u001b[38;5;124m\"\u001b[39m\u001b[38;5;124mlabels\u001b[39m\u001b[38;5;124m\"\u001b[39m])\n\u001b[0;32m   4770\u001b[0m \u001b[38;5;28;01mdef\u001b[39;00m \u001b[38;5;21mdrop\u001b[39m(\n\u001b[0;32m   4771\u001b[0m     \u001b[38;5;28mself\u001b[39m,\n\u001b[1;32m   (...)\u001b[0m\n\u001b[0;32m   4778\u001b[0m     errors: \u001b[38;5;28mstr\u001b[39m \u001b[38;5;241m=\u001b[39m \u001b[38;5;124m\"\u001b[39m\u001b[38;5;124mraise\u001b[39m\u001b[38;5;124m\"\u001b[39m,\n\u001b[0;32m   4779\u001b[0m ):\n\u001b[0;32m   4780\u001b[0m     \u001b[38;5;124;03m\"\"\"\u001b[39;00m\n\u001b[0;32m   4781\u001b[0m \u001b[38;5;124;03m    Drop specified labels from rows or columns.\u001b[39;00m\n\u001b[0;32m   4782\u001b[0m \n\u001b[1;32m   (...)\u001b[0m\n\u001b[0;32m   4899\u001b[0m \u001b[38;5;124;03m            weight  1.0     0.8\u001b[39;00m\n\u001b[0;32m   4900\u001b[0m \u001b[38;5;124;03m    \"\"\"\u001b[39;00m\n\u001b[1;32m-> 4901\u001b[0m     \u001b[38;5;28;01mreturn\u001b[39;00m \u001b[38;5;28;43msuper\u001b[39;49m\u001b[43m(\u001b[49m\u001b[43m)\u001b[49m\u001b[38;5;241;43m.\u001b[39;49m\u001b[43mdrop\u001b[49m\u001b[43m(\u001b[49m\n\u001b[0;32m   4902\u001b[0m \u001b[43m        \u001b[49m\u001b[43mlabels\u001b[49m\u001b[38;5;241;43m=\u001b[39;49m\u001b[43mlabels\u001b[49m\u001b[43m,\u001b[49m\n\u001b[0;32m   4903\u001b[0m \u001b[43m        \u001b[49m\u001b[43maxis\u001b[49m\u001b[38;5;241;43m=\u001b[39;49m\u001b[43maxis\u001b[49m\u001b[43m,\u001b[49m\n\u001b[0;32m   4904\u001b[0m \u001b[43m        \u001b[49m\u001b[43mindex\u001b[49m\u001b[38;5;241;43m=\u001b[39;49m\u001b[43mindex\u001b[49m\u001b[43m,\u001b[49m\n\u001b[0;32m   4905\u001b[0m \u001b[43m        \u001b[49m\u001b[43mcolumns\u001b[49m\u001b[38;5;241;43m=\u001b[39;49m\u001b[43mcolumns\u001b[49m\u001b[43m,\u001b[49m\n\u001b[0;32m   4906\u001b[0m \u001b[43m        \u001b[49m\u001b[43mlevel\u001b[49m\u001b[38;5;241;43m=\u001b[39;49m\u001b[43mlevel\u001b[49m\u001b[43m,\u001b[49m\n\u001b[0;32m   4907\u001b[0m \u001b[43m        \u001b[49m\u001b[43minplace\u001b[49m\u001b[38;5;241;43m=\u001b[39;49m\u001b[43minplace\u001b[49m\u001b[43m,\u001b[49m\n\u001b[0;32m   4908\u001b[0m \u001b[43m        \u001b[49m\u001b[43merrors\u001b[49m\u001b[38;5;241;43m=\u001b[39;49m\u001b[43merrors\u001b[49m\u001b[43m,\u001b[49m\n\u001b[0;32m   4909\u001b[0m \u001b[43m    \u001b[49m\u001b[43m)\u001b[49m\n",
      "File \u001b[1;32m~\\AppData\\Roaming\\Python\\Python39\\site-packages\\pandas\\core\\generic.py:4147\u001b[0m, in \u001b[0;36mNDFrame.drop\u001b[1;34m(self, labels, axis, index, columns, level, inplace, errors)\u001b[0m\n\u001b[0;32m   4145\u001b[0m \u001b[38;5;28;01mfor\u001b[39;00m axis, labels \u001b[38;5;129;01min\u001b[39;00m axes\u001b[38;5;241m.\u001b[39mitems():\n\u001b[0;32m   4146\u001b[0m     \u001b[38;5;28;01mif\u001b[39;00m labels \u001b[38;5;129;01mis\u001b[39;00m \u001b[38;5;129;01mnot\u001b[39;00m \u001b[38;5;28;01mNone\u001b[39;00m:\n\u001b[1;32m-> 4147\u001b[0m         obj \u001b[38;5;241m=\u001b[39m \u001b[43mobj\u001b[49m\u001b[38;5;241;43m.\u001b[39;49m\u001b[43m_drop_axis\u001b[49m\u001b[43m(\u001b[49m\u001b[43mlabels\u001b[49m\u001b[43m,\u001b[49m\u001b[43m \u001b[49m\u001b[43maxis\u001b[49m\u001b[43m,\u001b[49m\u001b[43m \u001b[49m\u001b[43mlevel\u001b[49m\u001b[38;5;241;43m=\u001b[39;49m\u001b[43mlevel\u001b[49m\u001b[43m,\u001b[49m\u001b[43m \u001b[49m\u001b[43merrors\u001b[49m\u001b[38;5;241;43m=\u001b[39;49m\u001b[43merrors\u001b[49m\u001b[43m)\u001b[49m\n\u001b[0;32m   4149\u001b[0m \u001b[38;5;28;01mif\u001b[39;00m inplace:\n\u001b[0;32m   4150\u001b[0m     \u001b[38;5;28mself\u001b[39m\u001b[38;5;241m.\u001b[39m_update_inplace(obj)\n",
      "File \u001b[1;32m~\\AppData\\Roaming\\Python\\Python39\\site-packages\\pandas\\core\\generic.py:4182\u001b[0m, in \u001b[0;36mNDFrame._drop_axis\u001b[1;34m(self, labels, axis, level, errors)\u001b[0m\n\u001b[0;32m   4180\u001b[0m         new_axis \u001b[38;5;241m=\u001b[39m axis\u001b[38;5;241m.\u001b[39mdrop(labels, level\u001b[38;5;241m=\u001b[39mlevel, errors\u001b[38;5;241m=\u001b[39merrors)\n\u001b[0;32m   4181\u001b[0m     \u001b[38;5;28;01melse\u001b[39;00m:\n\u001b[1;32m-> 4182\u001b[0m         new_axis \u001b[38;5;241m=\u001b[39m \u001b[43maxis\u001b[49m\u001b[38;5;241;43m.\u001b[39;49m\u001b[43mdrop\u001b[49m\u001b[43m(\u001b[49m\u001b[43mlabels\u001b[49m\u001b[43m,\u001b[49m\u001b[43m \u001b[49m\u001b[43merrors\u001b[49m\u001b[38;5;241;43m=\u001b[39;49m\u001b[43merrors\u001b[49m\u001b[43m)\u001b[49m\n\u001b[0;32m   4183\u001b[0m     result \u001b[38;5;241m=\u001b[39m \u001b[38;5;28mself\u001b[39m\u001b[38;5;241m.\u001b[39mreindex(\u001b[38;5;241m*\u001b[39m\u001b[38;5;241m*\u001b[39m{axis_name: new_axis})\n\u001b[0;32m   4185\u001b[0m \u001b[38;5;66;03m# Case for non-unique axis\u001b[39;00m\n\u001b[0;32m   4186\u001b[0m \u001b[38;5;28;01melse\u001b[39;00m:\n",
      "File \u001b[1;32m~\\AppData\\Roaming\\Python\\Python39\\site-packages\\pandas\\core\\indexes\\base.py:6018\u001b[0m, in \u001b[0;36mIndex.drop\u001b[1;34m(self, labels, errors)\u001b[0m\n\u001b[0;32m   6016\u001b[0m \u001b[38;5;28;01mif\u001b[39;00m mask\u001b[38;5;241m.\u001b[39many():\n\u001b[0;32m   6017\u001b[0m     \u001b[38;5;28;01mif\u001b[39;00m errors \u001b[38;5;241m!=\u001b[39m \u001b[38;5;124m\"\u001b[39m\u001b[38;5;124mignore\u001b[39m\u001b[38;5;124m\"\u001b[39m:\n\u001b[1;32m-> 6018\u001b[0m         \u001b[38;5;28;01mraise\u001b[39;00m \u001b[38;5;167;01mKeyError\u001b[39;00m(\u001b[38;5;124mf\u001b[39m\u001b[38;5;124m\"\u001b[39m\u001b[38;5;132;01m{\u001b[39;00mlabels[mask]\u001b[38;5;132;01m}\u001b[39;00m\u001b[38;5;124m not found in axis\u001b[39m\u001b[38;5;124m\"\u001b[39m)\n\u001b[0;32m   6019\u001b[0m     indexer \u001b[38;5;241m=\u001b[39m indexer[\u001b[38;5;241m~\u001b[39mmask]\n\u001b[0;32m   6020\u001b[0m \u001b[38;5;28;01mreturn\u001b[39;00m \u001b[38;5;28mself\u001b[39m\u001b[38;5;241m.\u001b[39mdelete(indexer)\n",
      "\u001b[1;31mKeyError\u001b[0m: \"['G'] not found in axis\""
     ]
    }
   ],
   "source": [
    "df3=pd.DataFrame(wfh)\n",
    "df3.drop([\"Gender\",\"Age\",\"D\",\"E\",\"F\",\"G\",\"H\",\"I\",\"J\",\"K\",\"L\",\"M\",\"N\",], axis=1)"
   ]
  },
  {
   "cell_type": "code",
   "execution_count": null,
   "id": "a479770c",
   "metadata": {},
   "outputs": [],
   "source": []
  },
  {
   "cell_type": "code",
   "execution_count": null,
   "id": "5bf2ff67",
   "metadata": {},
   "outputs": [],
   "source": []
  },
  {
   "cell_type": "code",
   "execution_count": null,
   "id": "5c5e6e47",
   "metadata": {},
   "outputs": [],
   "source": []
  },
  {
   "cell_type": "code",
   "execution_count": null,
   "id": "bceed671",
   "metadata": {},
   "outputs": [],
   "source": []
  },
  {
   "cell_type": "code",
   "execution_count": null,
   "id": "cda12672",
   "metadata": {},
   "outputs": [],
   "source": []
  },
  {
   "cell_type": "code",
   "execution_count": null,
   "id": "241dcffe",
   "metadata": {},
   "outputs": [],
   "source": []
  },
  {
   "cell_type": "code",
   "execution_count": null,
   "id": "89a0f514",
   "metadata": {},
   "outputs": [],
   "source": []
  },
  {
   "cell_type": "code",
   "execution_count": null,
   "id": "5ad72bbb",
   "metadata": {},
   "outputs": [],
   "source": []
  }
 ],
 "metadata": {
  "kernelspec": {
   "display_name": "Python 3 (ipykernel)",
   "language": "python",
   "name": "python3"
  },
  "language_info": {
   "codemirror_mode": {
    "name": "ipython",
    "version": 3
   },
   "file_extension": ".py",
   "mimetype": "text/x-python",
   "name": "python",
   "nbconvert_exporter": "python",
   "pygments_lexer": "ipython3",
   "version": "3.9.12"
  }
 },
 "nbformat": 4,
 "nbformat_minor": 5
}
